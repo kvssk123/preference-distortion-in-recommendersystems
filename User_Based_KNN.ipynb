{
 "cells": [
  {
   "cell_type": "markdown",
   "metadata": {
    "id": "qyPbyojOhURY"
   },
   "source": [
    "# User-based"
   ]
  },
  {
   "cell_type": "markdown",
   "metadata": {
    "id": "SE33o-Z1gB5y"
   },
   "source": [
    "### Download tools"
   ]
  },
  {
   "cell_type": "code",
   "execution_count": 1,
   "metadata": {
    "id": "_11-qrsSgB51"
   },
   "outputs": [],
   "source": [
    "# import shutil\n",
    "\n",
    "# !wget https://github.com/nzhinusoftcm/review-on-collaborative-filtering/raw/master/recsys.zip    \n",
    "# shutil.unpack_archive('recsys.zip') "
   ]
  },
  {
   "cell_type": "markdown",
   "metadata": {
    "id": "7GbwgznIgB57"
   },
   "source": [
    "### Import requirements\n",
    "```\n",
    "matplotlib==3.2.2\n",
    "numpy==1.19.2\n",
    "pandas==1.0.5\n",
    "python==3.7\n",
    "scikit-learn==0.24.1\n",
    "scikit-surprise==1.1.1\n",
    "scipy==1.6.2\n",
    "```"
   ]
  },
  {
   "cell_type": "code",
   "execution_count": 2,
   "metadata": {
    "id": "QS_R1id1gB5-"
   },
   "outputs": [],
   "source": [
    "from sklearn.neighbors import NearestNeighbors\n",
    "from scipy.sparse import csr_matrix\n",
    "\n",
    "from recsys.datasets import ml1m\n",
    "from recsys.preprocessing import ids_encoder\n",
    "\n",
    "import pandas as pd\n",
    "import numpy as np\n",
    "import zipfile"
   ]
  },
  {
   "cell_type": "markdown",
   "metadata": {
    "id": "i95Dc1UUgB5_"
   },
   "source": [
    "### Load MovieLen ratings"
   ]
  },
  {
   "cell_type": "code",
   "execution_count": 3,
   "metadata": {
    "id": "0g3RGJAmgB6B"
   },
   "outputs": [],
   "source": [
    "ratings, movies = ml1m.load()"
   ]
  },
  {
   "cell_type": "markdown",
   "metadata": {
    "id": "11V7xUSbgB6G"
   },
   "source": [
    "### userids and itemids encoding"
   ]
  },
  {
   "cell_type": "code",
   "execution_count": 4,
   "metadata": {
    "id": "tPxE5jUkgB6M"
   },
   "outputs": [],
   "source": [
    "# create the encoder\n",
    "ratings, uencoder, iencoder = ids_encoder(ratings)"
   ]
  },
  {
   "cell_type": "markdown",
   "metadata": {
    "id": "0jO1hP-7gB6O"
   },
   "source": [
    "### Transform rating dataframe to matrix"
   ]
  },
  {
   "cell_type": "code",
   "execution_count": 5,
   "metadata": {
    "id": "zi_AduhbgB6T"
   },
   "outputs": [],
   "source": [
    "def ratings_matrix(ratings):    \n",
    "    return csr_matrix(pd.crosstab(ratings.userid, ratings.itemid, ratings.rating, aggfunc=sum).fillna(0).values)    \n",
    "\n",
    "R = ratings_matrix(ratings)"
   ]
  },
  {
   "cell_type": "markdown",
   "metadata": {
    "id": "5rx37eszgB6W"
   },
   "source": [
    "Memory based collaborative filtering (CF) also known as nearest neighbors based CF makes recommendation based on similar behavious of users and items. There are two types of memory based CF : <b>user-based</b> and <b>item-based</b> CF. Both of these algorithm usually proceed in three stages :\n",
    "\n",
    "1. Similarity computation (between users or items)\n",
    "2. Rating prediction (using ratings of similar users or items)\n",
    "3. Top-N recommendation\n"
   ]
  },
  {
   "cell_type": "markdown",
   "metadata": {
    "id": "7hCnJQNbgB6f",
    "jp-MarkdownHeadingCollapsed": true,
    "tags": []
   },
   "source": [
    "## Idea\n",
    "\n",
    "Let $u$ be the user for which we plan to make recommendations. \n",
    "\n",
    "1. Find other users whose past rating behavior is similar to that of $u$\n",
    "2. Use their ratings on other items to predict what the current user will like"
   ]
  },
  {
   "cell_type": "markdown",
   "metadata": {
    "id": "8Y4SvQ9ogB6h",
    "tags": []
   },
   "source": [
    "## Algorithm : user-to-user collaborative filtering\n",
    "\n",
    "The entire process of user-to-user CF algorithm is described as follow <a href=\"https://romisatriawahono.net/lecture/rm/survey/information%20retrieval/Bobadilla%20-%20Recommender%20Systems%20-%202013.pdf\">(J. Bobadilla et al. 2013)</a>: For an active user $u$,\n",
    "\n",
    "<ol>\n",
    "    <li> First identify the set $G_u$ of $k$ most similar users. $G_u$ is the group users similar to the active user $u$. The similarity between two users $u$ and $v$ can be measured by the cosine similarity measure as follows :\n",
    "\n",
    "\\begin{equation}\n",
    " w_{u,v}=\\frac{\\vec{r}_u \\cdot \\vec{r}_v}{\\|\\vec{r}_u\\|_2 \\ast \\|\\vec{r}_v\\|_2} = \\frac{\\sum_{i\\in I}r_{u,i}r_{v,i}}{\\sqrt{\\sum_{i\\in I} (r_{u,i})^2}\\sqrt{\\sum_{i\\in I} (r_{v,i})^2}}\n",
    "\\end{equation}\n",
    "\n",
    "$w_{u,v}$ is the degree of similarity between users $u$ and $v$. This term is computed for all $v\\in U$, where $U$ is the set of all users. There remains the question of how many neighbors to select. As experimented by <a href=\"https://dl.acm.org/doi/10.1145/3130348.3130372\">(Herlocker et al. 1999)</a>, $k\\in [20,50]$ is a reasonable starting point in many domains.\n",
    "    </li>\n",
    "    <li> Find the set $C$ of candidate items, purchased by the group and not purchased by the active user $u$. Candidate items have to be the most frequent items purchased by the group.\n",
    "    </li>\n",
    "    <li>Aggregate ratings of users in $G_u$ to make predictions for user $u$ on items he has not already purchased. Several aggregation approaches are often used such as <b>average, weighted sum, ajusted weighted sum</b>. By using weighted sum, the predicted rating of user $u$ on item $i$ denoted by $\\hat{r}_{u,i}$ is computed as follow :\n",
    "\n",
    "\\begin{equation}\n",
    " \\hat{r}_{u,i}=\\bar{r}_u + \\frac{\\sum_{v\\in G_u}(r_{v,i}-\\bar{r}_v)\\cdot w_{u,v}}{\\sum_{v\\in G_u}|w_{u,v}|}.\n",
    "\\end{equation}\n",
    "\n",
    "Ratings of similar users are weighted by the corresponding similarity with the active user. Summation are made over all the users who have rated item $i$. Subtracting the user’s mean rating $\\bar{r}_v$ compensates for differences in users’ use of the rating scale as some users will tend to give higher ratings than others <a href=\"https://dl.acm.org/doi/10.1561/1100000009\">(Michael D. Ekstrand, <i>et al.</i> 2011)</a>. This prediction is made for all items $i \\in C$ not purchased by user $u$.\n",
    "    </li>\n",
    "    <li>The Top-$N$ recommendations are obtained by choosing the $N$ items which provide most satisfaction to the user according to prediction.\n",
    "    </li>\n",
    "</ol>"
   ]
  },
  {
   "cell_type": "markdown",
   "metadata": {
    "id": "n9cuEYongB6j"
   },
   "source": [
    "### Step 1. Identify $G_u$, the set of $k$ users similar to an active user $u$"
   ]
  },
  {
   "cell_type": "markdown",
   "metadata": {
    "id": "NXPwjOm2gB6l"
   },
   "source": [
    "To find the $k$ most similar users to $u$, we use the cosine similarity and compute $w_{u,v}$ for all $v\\in U$. Fortunately, libraries such as <i>scikit-learn (sklearn)</i> are very useful for such tasks :\n",
    "\n",
    "1. First of all, we create a nearest neighbors model with sklearn through the function ```create_model()```. This function creates and fit a nearest neighbors model with user's ratings. We can choose ```cosine``` or ```euclidian``` based similarity metric. ```n_neighbors=21``` define the number of neighbors to return. With $k=20$ neighbors, $|G_u|=21$ as $G_u$ contains $20$ similar users added to the active user $u$. That is why ```n_neighbors=21```. Each row $r_u$ of the rating matrix $R$ represents ratings of user $u$ on all items of the database. Missing ratings are replaced with $0.0$. \n",
    "```python\n",
    "R[u,:] # uth row of the rating matrix R. Ratings of user u on all items in the database\n",
    "```\n",
    "2. Function ```nearest_neighbors()``` returns the knn users for each user."
   ]
  },
  {
   "cell_type": "code",
   "execution_count": 6,
   "metadata": {
    "id": "-9x9jpDkgB6n"
   },
   "outputs": [],
   "source": [
    "def create_model(rating_matrix, metric):\n",
    "    \"\"\"\n",
    "    - create the nearest neighbors model with the corresponding similarity metric\n",
    "    - fit the model\n",
    "    \"\"\"\n",
    "    model = NearestNeighbors(metric=metric, n_neighbors=21, algorithm='brute')\n",
    "    model.fit(rating_matrix)    \n",
    "    return model"
   ]
  },
  {
   "cell_type": "code",
   "execution_count": 7,
   "metadata": {
    "id": "GnSme27dgB6p"
   },
   "outputs": [],
   "source": [
    "def nearest_neighbors(rating_matrix, model):\n",
    "    \"\"\"    \n",
    "    :param rating_matrix : rating matrix of shape (nb_users, nb_items)\n",
    "    :param model : nearest neighbors model    \n",
    "    :return\n",
    "        - similarities : distances of the neighbors from the referenced user\n",
    "        - neighbors : neighbors of the referenced user in decreasing order of similarities\n",
    "    \"\"\"    \n",
    "    similarities, neighbors = model.kneighbors(rating_matrix)        \n",
    "    return similarities[:, 1:], neighbors[:, 1:]"
   ]
  },
  {
   "cell_type": "markdown",
   "metadata": {
    "id": "uXbvxzC8gB6q"
   },
   "source": [
    "Let's call functions ```create_model()``` and ```nearest_neighbors()``` to respectively create the $k$-NN model and compute the nearest neighbors for a given user"
   ]
  },
  {
   "cell_type": "code",
   "execution_count": 8,
   "metadata": {
    "id": "9cqqDR_5gB6r"
   },
   "outputs": [],
   "source": [
    "model = create_model(rating_matrix=R, metric='cosine') # we can also use the 'euclidian' distance\n",
    "similarities, neighbors = nearest_neighbors(R, model)"
   ]
  },
  {
   "cell_type": "markdown",
   "metadata": {
    "id": "W6Gh_1bCgB6s"
   },
   "source": [
    "### Step 2. Find candidate items"
   ]
  },
  {
   "cell_type": "markdown",
   "metadata": {
    "id": "mozg_Q3NgB6v"
   },
   "source": [
    "The set $C$ of candidate items are the most frequent ones purchased by users in $G_u$ for an active user $u$ and not purchased by $u$."
   ]
  },
  {
   "cell_type": "markdown",
   "metadata": {
    "id": "FeIcM33KgB6x"
   },
   "source": [
    "Function ```find_candidate_items()``` : find items purchased by these similar users as well as their frequency. Note that the frequency of the items in the set $C$ can be computed by just counting the actual occurrence frequency of that items.\n",
    "\n",
    "1. ```Gu_items``` : frequent items of $G_u$ in decreasing order of frequency.\n",
    "2. ```active_items``` : items already purchased by the active user\n",
    "3. ```candidates``` : frequent items of $G_u$ not purchased by the active user $u$"
   ]
  },
  {
   "cell_type": "code",
   "execution_count": 9,
   "metadata": {
    "id": "z7VvpeZcgB64"
   },
   "outputs": [],
   "source": [
    "def find_candidate_items(userid):\n",
    "    \"\"\"\n",
    "    Find candidate items for an active user\n",
    "    \n",
    "    :param userid : active user\n",
    "    :param neighbors : users similar to the active user        \n",
    "    :return candidates : top 30 of candidate items\n",
    "    \"\"\"\n",
    "    user_neighbors = neighbors[userid]\n",
    "    activities = ratings.loc[ratings.userid.isin(user_neighbors)]\n",
    "    \n",
    "    # sort items in decreasing order of frequency\n",
    "    frequency = activities.groupby('itemid')['rating'].count().reset_index(name='count').sort_values(['count'],ascending=False)\n",
    "    Gu_items = frequency.itemid\n",
    "    active_items = ratings.loc[ratings.userid == userid].itemid.to_list()\n",
    "    candidates = np.setdiff1d(Gu_items, active_items, assume_unique=True)[:30]\n",
    "        \n",
    "    return candidates"
   ]
  },
  {
   "cell_type": "markdown",
   "metadata": {
    "id": "dr3w67zOgB69"
   },
   "source": [
    "### Step 3. Rating prediction"
   ]
  },
  {
   "cell_type": "markdown",
   "metadata": {
    "id": "ZxnNDPLsgB7A"
   },
   "source": [
    "Now it's time to predict what score the active user $u$ would have given to each of the top-30 candidate items.\n",
    "\n",
    "To predict the score of $u$ on a candidate item $i$ ,we need :\n",
    "1. Similarities between $u$ and all his neighbors $v \\in G_u$ who rated item $i$ : function ```nearest_neighbors()``` returns similar users of a user as well as their corresponding similarities.\n",
    "2. Normalized ratings of all $v \\in G_u$ on item $i$. The normalized rating of user $v$ on item $i$ is defined by $r_{v,i}-\\bar{r}_v$."
   ]
  },
  {
   "cell_type": "markdown",
   "metadata": {
    "id": "IRT3d7BLgB7E"
   },
   "source": [
    "Next, let's compute the mean rating of each user and the normalized ratings for each item. The DataFrame ```mean``` contains mean rating for each user. With the mean rating of each user, we can add an extra column ```norm_rating``` to the ```ratings```'s DataFrame which can be accessed to make predictions."
   ]
  },
  {
   "cell_type": "code",
   "execution_count": 10,
   "metadata": {
    "id": "eyZ-DZN_gB7M"
   },
   "outputs": [],
   "source": [
    "# mean ratings for each user\n",
    "mean = ratings.groupby(by='userid', as_index=False)['rating'].mean()\n",
    "mean_ratings = pd.merge(ratings, mean, suffixes=('','_mean'), on='userid')\n",
    "\n",
    "# normalized ratings for each items\n",
    "mean_ratings['norm_rating'] = mean_ratings['rating'] - mean_ratings['rating_mean']\n",
    "\n",
    "mean = mean.to_numpy()[:, 1]"
   ]
  },
  {
   "cell_type": "code",
   "execution_count": 11,
   "metadata": {
    "id": "siSec0WkgB7R"
   },
   "outputs": [],
   "source": [
    "np_ratings = mean_ratings.to_numpy()"
   ]
  },
  {
   "cell_type": "markdown",
   "metadata": {
    "id": "2UQduZpbgB7V"
   },
   "source": [
    "Let us define function ```predict``` that predict rating between user $u$ and item $i$. Recall that the prediction formula is defined as follow :\n",
    "\n",
    "\\begin{equation}\n",
    " \\hat{r}_{u,i}=\\bar{r}_u + \\frac{\\sum_{v\\in G_u}(r_{v,i}-\\bar{r}_v)\\cdot w_{u,v}}{\\sum_{v\\in G_u}|w_{u,v}|}.\n",
    "\\end{equation}"
   ]
  },
  {
   "cell_type": "code",
   "execution_count": 12,
   "metadata": {
    "id": "f08b1FqvgB7W"
   },
   "outputs": [],
   "source": [
    "def predict(userid, itemid):\n",
    "    \"\"\"\n",
    "    predict what score userid would have given to itemid.\n",
    "    \n",
    "    :param\n",
    "        - userid : user id for which we want to make prediction\n",
    "        - itemid : item id on which we want to make prediction\n",
    "        \n",
    "    :return\n",
    "        - r_hat : predicted rating of user userid on item itemid\n",
    "    \"\"\"\n",
    "    user_similarities = similarities[userid]\n",
    "    user_neighbors = neighbors[userid]\n",
    "    # get mean rating of user userid\n",
    "    user_mean = mean[userid]\n",
    "    \n",
    "    # find users who rated item 'itemid'\n",
    "    iratings = np_ratings[np_ratings[:, 1].astype('int') == itemid]\n",
    "    \n",
    "    # find similar users to 'userid' who rated item 'itemid'\n",
    "    suri = iratings[np.isin(iratings[:, 0], user_neighbors)]\n",
    "    \n",
    "    # similar users who rated current item (surci)\n",
    "    normalized_ratings = suri[:,4]\n",
    "    indexes = [np.where(user_neighbors == uid)[0][0] for uid in suri[:, 0].astype('int')]\n",
    "    sims = user_similarities[indexes]\n",
    "    \n",
    "    num = np.dot(normalized_ratings, sims)\n",
    "    den = np.sum(np.abs(sims))\n",
    "    \n",
    "    if num == 0 or den == 0:\n",
    "        return user_mean\n",
    "    \n",
    "    r_hat = user_mean + np.dot(normalized_ratings, sims) / np.sum(np.abs(sims))\n",
    "    \n",
    "    return r_hat"
   ]
  },
  {
   "cell_type": "markdown",
   "metadata": {
    "id": "H2cfxcs2gB7Y"
   },
   "source": [
    "Now, we can make rating prediction for a given user on each item in his set of candidate items."
   ]
  },
  {
   "cell_type": "code",
   "execution_count": 13,
   "metadata": {
    "id": "I4vK7ulrgB7Z"
   },
   "outputs": [],
   "source": [
    "def user2userPredictions(userid, pred_path):\n",
    "    \"\"\"\n",
    "    Make rating prediction for the active user on each candidate item and save in file prediction.csv\n",
    "    \n",
    "    :param\n",
    "        - userid : id of the active user\n",
    "        - pred_path : where to save predictions\n",
    "    \"\"\"    \n",
    "    # find candidate items for the active user\n",
    "    candidates = find_candidate_items(userid)\n",
    "    \n",
    "    # loop over candidates items to make predictions\n",
    "    for itemid in candidates:\n",
    "        \n",
    "        # prediction for userid on itemid\n",
    "        r_hat = predict(userid, itemid)\n",
    "        \n",
    "        # save predictions\n",
    "        with open(pred_path, 'a+') as file:\n",
    "            line = '{},{},{}\\n'.format(userid, itemid, r_hat)\n",
    "            file.write(line)"
   ]
  },
  {
   "cell_type": "code",
   "execution_count": 14,
   "metadata": {
    "id": "Vx4HN4kPgB7f"
   },
   "outputs": [],
   "source": [
    "import sys, os\n",
    "\n",
    "def user2userCF():\n",
    "    \"\"\"\n",
    "    Make predictions for each user in the database.    \n",
    "    \"\"\"\n",
    "    # get list of users in the database\n",
    "    users = ratings.userid.unique()\n",
    "    \n",
    "    def _progress(count):\n",
    "        sys.stdout.write('\\rRating predictions. Progress status : %.1f%%' % (float(count/len(users))*100.0))\n",
    "        sys.stdout.flush()\n",
    "    \n",
    "    saved_predictions = 'predictions.csv'    \n",
    "    if os.path.exists(saved_predictions):\n",
    "        os.remove(saved_predictions)\n",
    "    \n",
    "    for count, userid in enumerate(users):        \n",
    "        # make rating predictions for the current user\n",
    "        user2userPredictions(userid, saved_predictions)\n",
    "        _progress(count)"
   ]
  },
  {
   "cell_type": "code",
   "execution_count": 15,
   "metadata": {
    "id": "zxHW36qfgB7h",
    "outputId": "574b5a72-c43d-43b4-bc42-c140b5634039"
   },
   "outputs": [
    {
     "name": "stdout",
     "output_type": "stream",
     "text": [
      "Rating predictions. Progress status : 100.0%"
     ]
    }
   ],
   "source": [
    "user2userCF()"
   ]
  },
  {
   "cell_type": "markdown",
   "metadata": {
    "id": "eLwR8O4OgB7r"
   },
   "source": [
    "### Step 4. Top-N recommendation\n",
    "\n",
    "Function ```user2userRecommendation()``` reads predictions for a given user and return the list of items in decreasing order of predicted rating."
   ]
  },
  {
   "cell_type": "code",
   "execution_count": 16,
   "metadata": {
    "id": "Hc5hyq25gB7u"
   },
   "outputs": [],
   "source": [
    "def user2userRecommendation(userid):\n",
    "    \"\"\"\n",
    "    \"\"\"\n",
    "    # encode the userid\n",
    "    uid = uencoder.transform([userid])[0]\n",
    "    saved_predictions = 'predictions.csv'\n",
    "    \n",
    "    predictions = pd.read_csv(saved_predictions, sep=',', names=['userid', 'itemid', 'predicted_rating'])\n",
    "    predictions = predictions[predictions.userid==uid]\n",
    "    List = predictions.sort_values(by=['predicted_rating'], ascending=False)\n",
    "    \n",
    "    List.userid = uencoder.inverse_transform(List.userid.tolist())\n",
    "    List.itemid = iencoder.inverse_transform(List.itemid.tolist())\n",
    "    \n",
    "    List = pd.merge(List, movies, on='itemid', how='inner')\n",
    "    \n",
    "    return List"
   ]
  },
  {
   "cell_type": "code",
   "execution_count": 17,
   "metadata": {},
   "outputs": [],
   "source": [
    "predictions = pd.read_csv('predictions.csv', sep=',', names=['userid', 'itemid', 'predicted_rating'])\n",
    "df = pd.merge(predictions, movies, on='itemid', how='inner')"
   ]
  },
  {
   "cell_type": "code",
   "execution_count": 18,
   "metadata": {},
   "outputs": [],
   "source": [
    "df.to_csv('predictions_with_genres.csv', index=False)"
   ]
  },
  {
   "cell_type": "code",
   "execution_count": 19,
   "metadata": {
    "id": "ID2YWpmSgB7v",
    "outputId": "ae336c38-04b3-474b-fcf2-b86eb8113b28"
   },
   "outputs": [
    {
     "data": {
      "text/html": [
       "<div>\n",
       "<style scoped>\n",
       "    .dataframe tbody tr th:only-of-type {\n",
       "        vertical-align: middle;\n",
       "    }\n",
       "\n",
       "    .dataframe tbody tr th {\n",
       "        vertical-align: top;\n",
       "    }\n",
       "\n",
       "    .dataframe thead th {\n",
       "        text-align: right;\n",
       "    }\n",
       "</style>\n",
       "<table border=\"1\" class=\"dataframe\">\n",
       "  <thead>\n",
       "    <tr style=\"text-align: right;\">\n",
       "      <th></th>\n",
       "      <th>userid</th>\n",
       "      <th>itemid</th>\n",
       "      <th>predicted_rating</th>\n",
       "      <th>title</th>\n",
       "      <th>genres</th>\n",
       "    </tr>\n",
       "  </thead>\n",
       "  <tbody>\n",
       "    <tr>\n",
       "      <th>0</th>\n",
       "      <td>212</td>\n",
       "      <td>110</td>\n",
       "      <td>5.097519</td>\n",
       "      <td>Braveheart (1995)</td>\n",
       "      <td>Action|Drama|War</td>\n",
       "    </tr>\n",
       "    <tr>\n",
       "      <th>1</th>\n",
       "      <td>212</td>\n",
       "      <td>260</td>\n",
       "      <td>5.085448</td>\n",
       "      <td>Star Wars: Episode IV - A New Hope (1977)</td>\n",
       "      <td>Action|Adventure|Fantasy|Sci-Fi</td>\n",
       "    </tr>\n",
       "    <tr>\n",
       "      <th>2</th>\n",
       "      <td>212</td>\n",
       "      <td>3552</td>\n",
       "      <td>4.992526</td>\n",
       "      <td>Caddyshack (1980)</td>\n",
       "      <td>Comedy</td>\n",
       "    </tr>\n",
       "    <tr>\n",
       "      <th>3</th>\n",
       "      <td>212</td>\n",
       "      <td>1196</td>\n",
       "      <td>4.877409</td>\n",
       "      <td>Star Wars: Episode V - The Empire Strikes Back...</td>\n",
       "      <td>Action|Adventure|Drama|Sci-Fi|War</td>\n",
       "    </tr>\n",
       "    <tr>\n",
       "      <th>4</th>\n",
       "      <td>212</td>\n",
       "      <td>2762</td>\n",
       "      <td>4.810048</td>\n",
       "      <td>Sixth Sense, The (1999)</td>\n",
       "      <td>Thriller</td>\n",
       "    </tr>\n",
       "    <tr>\n",
       "      <th>5</th>\n",
       "      <td>212</td>\n",
       "      <td>356</td>\n",
       "      <td>4.808450</td>\n",
       "      <td>Forrest Gump (1994)</td>\n",
       "      <td>Comedy|Romance|War</td>\n",
       "    </tr>\n",
       "    <tr>\n",
       "      <th>6</th>\n",
       "      <td>212</td>\n",
       "      <td>3421</td>\n",
       "      <td>4.781995</td>\n",
       "      <td>Animal House (1978)</td>\n",
       "      <td>Comedy</td>\n",
       "    </tr>\n",
       "    <tr>\n",
       "      <th>7</th>\n",
       "      <td>212</td>\n",
       "      <td>2571</td>\n",
       "      <td>4.692723</td>\n",
       "      <td>Matrix, The (1999)</td>\n",
       "      <td>Action|Sci-Fi|Thriller</td>\n",
       "    </tr>\n",
       "    <tr>\n",
       "      <th>8</th>\n",
       "      <td>212</td>\n",
       "      <td>1663</td>\n",
       "      <td>4.635120</td>\n",
       "      <td>Stripes (1981)</td>\n",
       "      <td>Comedy</td>\n",
       "    </tr>\n",
       "    <tr>\n",
       "      <th>9</th>\n",
       "      <td>212</td>\n",
       "      <td>1617</td>\n",
       "      <td>4.606778</td>\n",
       "      <td>L.A. Confidential (1997)</td>\n",
       "      <td>Crime|Film-Noir|Mystery|Thriller</td>\n",
       "    </tr>\n",
       "    <tr>\n",
       "      <th>10</th>\n",
       "      <td>212</td>\n",
       "      <td>1097</td>\n",
       "      <td>4.557377</td>\n",
       "      <td>E.T. the Extra-Terrestrial (1982)</td>\n",
       "      <td>Children's|Drama|Fantasy|Sci-Fi</td>\n",
       "    </tr>\n",
       "    <tr>\n",
       "      <th>11</th>\n",
       "      <td>212</td>\n",
       "      <td>1923</td>\n",
       "      <td>4.522857</td>\n",
       "      <td>There's Something About Mary (1998)</td>\n",
       "      <td>Comedy</td>\n",
       "    </tr>\n",
       "    <tr>\n",
       "      <th>12</th>\n",
       "      <td>212</td>\n",
       "      <td>1210</td>\n",
       "      <td>4.518202</td>\n",
       "      <td>Star Wars: Episode VI - Return of the Jedi (1983)</td>\n",
       "      <td>Action|Adventure|Romance|Sci-Fi|War</td>\n",
       "    </tr>\n",
       "    <tr>\n",
       "      <th>13</th>\n",
       "      <td>212</td>\n",
       "      <td>2716</td>\n",
       "      <td>4.468803</td>\n",
       "      <td>Ghostbusters (1984)</td>\n",
       "      <td>Comedy|Horror</td>\n",
       "    </tr>\n",
       "    <tr>\n",
       "      <th>14</th>\n",
       "      <td>212</td>\n",
       "      <td>2858</td>\n",
       "      <td>4.455941</td>\n",
       "      <td>American Beauty (1999)</td>\n",
       "      <td>Comedy|Drama</td>\n",
       "    </tr>\n",
       "    <tr>\n",
       "      <th>15</th>\n",
       "      <td>212</td>\n",
       "      <td>1</td>\n",
       "      <td>4.386955</td>\n",
       "      <td>Toy Story (1995)</td>\n",
       "      <td>Animation|Children's|Comedy</td>\n",
       "    </tr>\n",
       "    <tr>\n",
       "      <th>16</th>\n",
       "      <td>212</td>\n",
       "      <td>2916</td>\n",
       "      <td>4.361404</td>\n",
       "      <td>Total Recall (1990)</td>\n",
       "      <td>Action|Adventure|Sci-Fi|Thriller</td>\n",
       "    </tr>\n",
       "    <tr>\n",
       "      <th>17</th>\n",
       "      <td>212</td>\n",
       "      <td>1610</td>\n",
       "      <td>4.322572</td>\n",
       "      <td>Hunt for Red October, The (1990)</td>\n",
       "      <td>Action|Thriller</td>\n",
       "    </tr>\n",
       "    <tr>\n",
       "      <th>18</th>\n",
       "      <td>212</td>\n",
       "      <td>3256</td>\n",
       "      <td>4.192712</td>\n",
       "      <td>Patriot Games (1992)</td>\n",
       "      <td>Action|Thriller</td>\n",
       "    </tr>\n",
       "    <tr>\n",
       "      <th>19</th>\n",
       "      <td>212</td>\n",
       "      <td>733</td>\n",
       "      <td>4.137472</td>\n",
       "      <td>Rock, The (1996)</td>\n",
       "      <td>Action|Adventure|Thriller</td>\n",
       "    </tr>\n",
       "    <tr>\n",
       "      <th>20</th>\n",
       "      <td>212</td>\n",
       "      <td>377</td>\n",
       "      <td>4.088198</td>\n",
       "      <td>Speed (1994)</td>\n",
       "      <td>Action|Romance|Thriller</td>\n",
       "    </tr>\n",
       "    <tr>\n",
       "      <th>21</th>\n",
       "      <td>212</td>\n",
       "      <td>1674</td>\n",
       "      <td>4.066679</td>\n",
       "      <td>Witness (1985)</td>\n",
       "      <td>Drama|Romance|Thriller</td>\n",
       "    </tr>\n",
       "    <tr>\n",
       "      <th>22</th>\n",
       "      <td>212</td>\n",
       "      <td>592</td>\n",
       "      <td>4.047601</td>\n",
       "      <td>Batman (1989)</td>\n",
       "      <td>Action|Adventure|Crime|Drama</td>\n",
       "    </tr>\n",
       "    <tr>\n",
       "      <th>23</th>\n",
       "      <td>212</td>\n",
       "      <td>2248</td>\n",
       "      <td>4.046232</td>\n",
       "      <td>Say Anything... (1989)</td>\n",
       "      <td>Comedy|Drama|Romance</td>\n",
       "    </tr>\n",
       "    <tr>\n",
       "      <th>24</th>\n",
       "      <td>212</td>\n",
       "      <td>780</td>\n",
       "      <td>3.960244</td>\n",
       "      <td>Independence Day (ID4) (1996)</td>\n",
       "      <td>Action|Sci-Fi|War</td>\n",
       "    </tr>\n",
       "    <tr>\n",
       "      <th>25</th>\n",
       "      <td>212</td>\n",
       "      <td>2353</td>\n",
       "      <td>3.880127</td>\n",
       "      <td>Enemy of the State (1998)</td>\n",
       "      <td>Action|Thriller</td>\n",
       "    </tr>\n",
       "    <tr>\n",
       "      <th>26</th>\n",
       "      <td>212</td>\n",
       "      <td>590</td>\n",
       "      <td>3.835019</td>\n",
       "      <td>Dances with Wolves (1990)</td>\n",
       "      <td>Adventure|Drama|Western</td>\n",
       "    </tr>\n",
       "    <tr>\n",
       "      <th>27</th>\n",
       "      <td>212</td>\n",
       "      <td>2628</td>\n",
       "      <td>3.775399</td>\n",
       "      <td>Star Wars: Episode I - The Phantom Menace (1999)</td>\n",
       "      <td>Action|Adventure|Fantasy|Sci-Fi</td>\n",
       "    </tr>\n",
       "    <tr>\n",
       "      <th>28</th>\n",
       "      <td>212</td>\n",
       "      <td>1517</td>\n",
       "      <td>3.661777</td>\n",
       "      <td>Austin Powers: International Man of Mystery (1...</td>\n",
       "      <td>Comedy</td>\n",
       "    </tr>\n",
       "    <tr>\n",
       "      <th>29</th>\n",
       "      <td>212</td>\n",
       "      <td>2470</td>\n",
       "      <td>3.444732</td>\n",
       "      <td>Crocodile Dundee (1986)</td>\n",
       "      <td>Adventure|Comedy</td>\n",
       "    </tr>\n",
       "  </tbody>\n",
       "</table>\n",
       "</div>"
      ],
      "text/plain": [
       "    userid  itemid  predicted_rating  \\\n",
       "0      212     110          5.097519   \n",
       "1      212     260          5.085448   \n",
       "2      212    3552          4.992526   \n",
       "3      212    1196          4.877409   \n",
       "4      212    2762          4.810048   \n",
       "5      212     356          4.808450   \n",
       "6      212    3421          4.781995   \n",
       "7      212    2571          4.692723   \n",
       "8      212    1663          4.635120   \n",
       "9      212    1617          4.606778   \n",
       "10     212    1097          4.557377   \n",
       "11     212    1923          4.522857   \n",
       "12     212    1210          4.518202   \n",
       "13     212    2716          4.468803   \n",
       "14     212    2858          4.455941   \n",
       "15     212       1          4.386955   \n",
       "16     212    2916          4.361404   \n",
       "17     212    1610          4.322572   \n",
       "18     212    3256          4.192712   \n",
       "19     212     733          4.137472   \n",
       "20     212     377          4.088198   \n",
       "21     212    1674          4.066679   \n",
       "22     212     592          4.047601   \n",
       "23     212    2248          4.046232   \n",
       "24     212     780          3.960244   \n",
       "25     212    2353          3.880127   \n",
       "26     212     590          3.835019   \n",
       "27     212    2628          3.775399   \n",
       "28     212    1517          3.661777   \n",
       "29     212    2470          3.444732   \n",
       "\n",
       "                                                title  \\\n",
       "0                                   Braveheart (1995)   \n",
       "1           Star Wars: Episode IV - A New Hope (1977)   \n",
       "2                                   Caddyshack (1980)   \n",
       "3   Star Wars: Episode V - The Empire Strikes Back...   \n",
       "4                             Sixth Sense, The (1999)   \n",
       "5                                 Forrest Gump (1994)   \n",
       "6                                 Animal House (1978)   \n",
       "7                                  Matrix, The (1999)   \n",
       "8                                      Stripes (1981)   \n",
       "9                            L.A. Confidential (1997)   \n",
       "10                  E.T. the Extra-Terrestrial (1982)   \n",
       "11                There's Something About Mary (1998)   \n",
       "12  Star Wars: Episode VI - Return of the Jedi (1983)   \n",
       "13                                Ghostbusters (1984)   \n",
       "14                             American Beauty (1999)   \n",
       "15                                   Toy Story (1995)   \n",
       "16                                Total Recall (1990)   \n",
       "17                   Hunt for Red October, The (1990)   \n",
       "18                               Patriot Games (1992)   \n",
       "19                                   Rock, The (1996)   \n",
       "20                                       Speed (1994)   \n",
       "21                                     Witness (1985)   \n",
       "22                                      Batman (1989)   \n",
       "23                             Say Anything... (1989)   \n",
       "24                      Independence Day (ID4) (1996)   \n",
       "25                          Enemy of the State (1998)   \n",
       "26                          Dances with Wolves (1990)   \n",
       "27   Star Wars: Episode I - The Phantom Menace (1999)   \n",
       "28  Austin Powers: International Man of Mystery (1...   \n",
       "29                            Crocodile Dundee (1986)   \n",
       "\n",
       "                                 genres  \n",
       "0                      Action|Drama|War  \n",
       "1       Action|Adventure|Fantasy|Sci-Fi  \n",
       "2                                Comedy  \n",
       "3     Action|Adventure|Drama|Sci-Fi|War  \n",
       "4                              Thriller  \n",
       "5                    Comedy|Romance|War  \n",
       "6                                Comedy  \n",
       "7                Action|Sci-Fi|Thriller  \n",
       "8                                Comedy  \n",
       "9      Crime|Film-Noir|Mystery|Thriller  \n",
       "10      Children's|Drama|Fantasy|Sci-Fi  \n",
       "11                               Comedy  \n",
       "12  Action|Adventure|Romance|Sci-Fi|War  \n",
       "13                        Comedy|Horror  \n",
       "14                         Comedy|Drama  \n",
       "15          Animation|Children's|Comedy  \n",
       "16     Action|Adventure|Sci-Fi|Thriller  \n",
       "17                      Action|Thriller  \n",
       "18                      Action|Thriller  \n",
       "19            Action|Adventure|Thriller  \n",
       "20              Action|Romance|Thriller  \n",
       "21               Drama|Romance|Thriller  \n",
       "22         Action|Adventure|Crime|Drama  \n",
       "23                 Comedy|Drama|Romance  \n",
       "24                    Action|Sci-Fi|War  \n",
       "25                      Action|Thriller  \n",
       "26              Adventure|Drama|Western  \n",
       "27      Action|Adventure|Fantasy|Sci-Fi  \n",
       "28                               Comedy  \n",
       "29                     Adventure|Comedy  "
      ]
     },
     "execution_count": 19,
     "metadata": {},
     "output_type": "execute_result"
    }
   ],
   "source": [
    "user2userRecommendation(212)"
   ]
  },
  {
   "cell_type": "markdown",
   "metadata": {
    "id": "YhWlIKBHgB70"
   },
   "source": [
    "Let us make top n recommendation for a given user."
   ]
  },
  {
   "cell_type": "markdown",
   "metadata": {
    "id": "2OipwWHxgB71"
   },
   "source": [
    "## Evaluation with Mean Absolute Error (MAE)"
   ]
  },
  {
   "cell_type": "code",
   "execution_count": 20,
   "metadata": {},
   "outputs": [],
   "source": [
    "def calculate_ndcg(actual, recommended):\n",
    "    dcg = 0\n",
    "    for i in range(len(recommended)):\n",
    "        item = recommended[i]\n",
    "        if item in actual:\n",
    "            dcg += 1 / np.log2(i + 2)  # Index starts at 0, so add 2\n",
    "    idcg = sum(1 / np.log2(i + 2) for i in range(len(actual)))\n",
    "    ndcg = dcg / idcg\n",
    "    return ndcg"
   ]
  },
  {
   "cell_type": "code",
   "execution_count": 21,
   "metadata": {
    "id": "fo0WXxvggB71"
   },
   "outputs": [],
   "source": [
    "from recsys.preprocessing import train_test_split, get_examples\n",
    "from sklearn.metrics import precision_score, recall_score\n",
    "\n",
    "# get examples as tuples of userids and itemids and labels from normalize ratings\n",
    "raw_examples, raw_labels = get_examples(ratings, labels_column='rating')\n",
    "\n",
    "# train test split\n",
    "(x_train, x_test), (y_train, y_test) = train_test_split(examples=raw_examples, labels=raw_labels)\n",
    "\n",
    "def evaluate(x_test, y_test):\n",
    "    print('Evaluate the model on {} test data ...'.format(x_test.shape[0]))\n",
    "    preds = list(predict(u,i) for (u,i) in x_test)\n",
    "    mae = np.sum(np.absolute(y_test - np.array(preds))) / x_test.shape[0]\n",
    "    print('\\nMAE :', mae)\n",
    "\n",
    "    precision = precision_score(y_test, list(map(int, preds)), average='micro')\n",
    "    print(f\"Precision: {precision:.4f}\")\n",
    "    \n",
    "    recall = recall_score(y_test, list(map(int, preds)), average='micro')\n",
    "    print(f\"Recall: {recall:.4f}\")\n",
    "    \n",
    "    ndcg = calculate_ndcg(y_test, list(map(int, preds)))\n",
    "    print(f\"Ndcg: {ndcg:.4f}\")\n",
    "    \n",
    "    return mae"
   ]
  },
  {
   "cell_type": "code",
   "execution_count": 22,
   "metadata": {
    "id": "txLsfKqFgB72",
    "outputId": "f43f3ecc-7f65-464b-b826-7e532e7cc9d0"
   },
   "outputs": [
    {
     "name": "stdout",
     "output_type": "stream",
     "text": [
      "Evaluate the model on 100021 test data ...\n",
      "\n",
      "MAE : 0.732267005840993\n",
      "Precision: 0.3692\n",
      "Recall: 0.3692\n",
      "Ndcg: 0.9974\n"
     ]
    },
    {
     "data": {
      "text/plain": [
       "0.732267005840993"
      ]
     },
     "execution_count": 22,
     "metadata": {},
     "output_type": "execute_result"
    }
   ],
   "source": [
    "evaluate(x_test, y_test)"
   ]
  },
  {
   "cell_type": "markdown",
   "metadata": {
    "id": "7uf6TStwgB74"
   },
   "source": [
    "## Summary\n",
    "\n",
    "We have summarised all the steps of building the user-based collaborative filtering into a python class for further user. Click [UserToUser.py](https://github.com/nzhinusoftcm/review-on-collaborative-filtering/blob/master/recsys/memories/UserToUser.py) for more details on the **UserToUser** class definition."
   ]
  },
  {
   "cell_type": "code",
   "execution_count": 23,
   "metadata": {
    "id": "tgVhH4HugB75"
   },
   "outputs": [],
   "source": [
    "from recsys.memories.UserToUser import UserToUser\n",
    "\n",
    "# load ml1m ratings\n",
    "ratings, movies = ml1m.load()\n",
    "\n",
    "# prepare data\n",
    "ratings, uencoder, iencoder = ids_encoder(ratings)\n",
    "\n",
    "# get examples as tuples of userids and itemids and labels from normalize ratings\n",
    "raw_examples, raw_labels = get_examples(ratings, labels_column='rating')\n",
    "\n",
    "# train test split\n",
    "(x_train, x_test), (y_train, y_test) = train_test_split(examples=raw_examples, labels=raw_labels)"
   ]
  },
  {
   "cell_type": "code",
   "execution_count": 24,
   "metadata": {
    "id": "eBkpq1KvgB8E",
    "outputId": "095ed409-26e6-4cdf-fb21-8e637b4e010d"
   },
   "outputs": [
    {
     "name": "stdout",
     "output_type": "stream",
     "text": [
      "Normalize users ratings ...\n",
      "Initialize the similarity model ...\n",
      "Compute nearest neighbors ...\n",
      "User to user recommendation model created with success ...\n"
     ]
    }
   ],
   "source": [
    "# create the user-based CF\n",
    "usertouser = UserToUser(ratings, movies, metric='cosine')"
   ]
  },
  {
   "cell_type": "code",
   "execution_count": 25,
   "metadata": {
    "id": "boR4DhcvgB8H",
    "outputId": "f3f8be18-5a77-4908-93e4-3655e215b2c5"
   },
   "outputs": [
    {
     "name": "stdout",
     "output_type": "stream",
     "text": [
      "Evaluate the model on 100021 test data ...\n",
      "\n",
      "MAE : 0.732267005840993\n",
      "Precision: 0.3692\n",
      "Recall: 0.3692\n",
      "Ndcg: 0.0005\n"
     ]
    },
    {
     "data": {
      "text/plain": [
       "0.732267005840993"
      ]
     },
     "execution_count": 25,
     "metadata": {},
     "output_type": "execute_result"
    }
   ],
   "source": [
    "# evaluate the user-based CF on the ml1m test data\n",
    "usertouser.evaluate(x_test, y_test)"
   ]
  },
  {
   "cell_type": "markdown",
   "metadata": {
    "id": "wKo-CUMtgB8L"
   },
   "source": [
    "## Evaluation on the ML-1M dataset"
   ]
  },
  {
   "cell_type": "code",
   "execution_count": 26,
   "metadata": {
    "id": "fxJRF3nrgB8M",
    "outputId": "2b1e4190-e225-4356-c736-f6096a216161"
   },
   "outputs": [
    {
     "name": "stdout",
     "output_type": "stream",
     "text": [
      "Normalize users ratings ...\n",
      "Initialize the similarity model ...\n",
      "Compute nearest neighbors ...\n",
      "User to user recommendation model created with success ...\n",
      "==========================\n",
      "Evaluate the model on 100021 test data ...\n",
      "\n",
      "MAE : 0.732267005840993\n",
      "Precision: 0.3692\n",
      "Recall: 0.3692\n",
      "Ndcg: 0.0005\n"
     ]
    },
    {
     "data": {
      "text/plain": [
       "0.732267005840993"
      ]
     },
     "execution_count": 26,
     "metadata": {},
     "output_type": "execute_result"
    }
   ],
   "source": [
    "from recsys.datasets import ml1m\n",
    "from recsys.preprocessing import ids_encoder, get_examples, train_test_split\n",
    "from recsys.memories.UserToUser import UserToUser\n",
    "\n",
    "# load ml1m ratings\n",
    "ratings, movies = ml1m.load()\n",
    "\n",
    "# prepare data\n",
    "ratings, uencoder, iencoder = ids_encoder(ratings)\n",
    "\n",
    "# get examples as tuples of userids and itemids and labels from normalize ratings\n",
    "raw_examples, raw_labels = get_examples(ratings, labels_column='rating')\n",
    "\n",
    "# train test split\n",
    "(x_train, x_test), (y_train, y_test) = train_test_split(examples=raw_examples, labels=raw_labels)\n",
    "\n",
    "# create the user-based CF\n",
    "usertouser = UserToUser(ratings, movies, k=20, metric='cosine')\n",
    "\n",
    "# evaluate the user-based CF on the ml1m test data\n",
    "print(\"==========================\")\n",
    "usertouser.evaluate(x_test, y_test)"
   ]
  },
  {
   "cell_type": "code",
   "execution_count": null,
   "metadata": {},
   "outputs": [],
   "source": []
  }
 ],
 "metadata": {
  "colab": {
   "name": "2.User-basedCollaborativeFiltering.ipynb",
   "provenance": [],
   "toc_visible": true
  },
  "kernelspec": {
   "display_name": "Python 3 (ipykernel)",
   "language": "python",
   "name": "python3"
  },
  "language_info": {
   "codemirror_mode": {
    "name": "ipython",
    "version": 3
   },
   "file_extension": ".py",
   "mimetype": "text/x-python",
   "name": "python",
   "nbconvert_exporter": "python",
   "pygments_lexer": "ipython3",
   "version": "3.9.9"
  }
 },
 "nbformat": 4,
 "nbformat_minor": 4
}
