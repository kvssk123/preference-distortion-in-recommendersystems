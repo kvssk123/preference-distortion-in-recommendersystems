{
 "cells": [
  {
   "cell_type": "markdown",
   "metadata": {
    "id": "NtMl7OD2gCRA"
   },
   "source": [
    "### Item Based"
   ]
  },
  {
   "cell_type": "code",
   "execution_count": 1,
   "metadata": {
    "id": "M_n9x9VtgCRB"
   },
   "outputs": [],
   "source": [
    "# import shutil\n",
    "\n",
    "# !wget https://github.com/nzhinusoftcm/review-on-collaborative-filtering/raw/master/recsys.zip    \n",
    "# shutil.unpack_archive('recsys.zip')"
   ]
  },
  {
   "cell_type": "markdown",
   "metadata": {
    "id": "kubu9WOjgCRC"
   },
   "source": [
    "### Import requirements"
   ]
  },
  {
   "cell_type": "markdown",
   "metadata": {
    "id": "qNHO40yIgCRE"
   },
   "source": [
    "```\n",
    "matplotlib==3.2.2\n",
    "numpy==1.19.2\n",
    "pandas==1.0.5\n",
    "python==3.7\n",
    "scikit-learn==0.24.1\n",
    "scikit-surprise==1.1.1\n",
    "scipy==1.6.2\n",
    "```"
   ]
  },
  {
   "cell_type": "code",
   "execution_count": 1,
   "metadata": {
    "id": "NGvRWO6agCRF"
   },
   "outputs": [],
   "source": [
    "from sklearn.neighbors import NearestNeighbors\n",
    "from scipy.sparse import csr_matrix\n",
    "\n",
    "from recsys.datasets import ml1m\n",
    "from recsys.preprocessing import ids_encoder\n",
    "\n",
    "import pandas as pd\n",
    "import numpy as np\n",
    "import os\n",
    "import sys"
   ]
  },
  {
   "cell_type": "markdown",
   "metadata": {
    "id": "UB4zW0-PgCRI"
   },
   "source": [
    "### Load ratings"
   ]
  },
  {
   "cell_type": "code",
   "execution_count": 2,
   "metadata": {
    "id": "j6y4doBGgCRL"
   },
   "outputs": [],
   "source": [
    "ratings, movies = ml1m.load()"
   ]
  },
  {
   "cell_type": "markdown",
   "metadata": {
    "id": "fkD5QbH6gCRR"
   },
   "source": [
    "### userids and itemids encoding"
   ]
  },
  {
   "cell_type": "code",
   "execution_count": 3,
   "metadata": {
    "id": "tQ0TGn0MgCRT"
   },
   "outputs": [],
   "source": [
    "# create the encoder\n",
    "ratings, uencoder, iencoder = ids_encoder(ratings)"
   ]
  },
  {
   "cell_type": "markdown",
   "metadata": {
    "id": "l1fMwy11gCRT"
   },
   "source": [
    "Let's implements the item-based collaborative filtering algorithm described above"
   ]
  },
  {
   "cell_type": "markdown",
   "metadata": {
    "id": "H4S1UAsbgCRW"
   },
   "source": [
    "To compute similarity between two items $i$ and $j$, we need to :\n",
    "\n",
    "1. find all users who rated both of them,\n",
    "2. Normalize their ratings on items $i$ and $j$\n",
    "3. Apply the cosine metric to the normalized ratings to compute similarity between $i$ and $j$"
   ]
  },
  {
   "cell_type": "markdown",
   "metadata": {
    "id": "aU1VxSZEgCRX"
   },
   "source": [
    "Function ```normalize()``` process the rating dataframe to normalize ratings of all users"
   ]
  },
  {
   "cell_type": "code",
   "execution_count": 4,
   "metadata": {
    "id": "S2AB5WB1gCRk"
   },
   "outputs": [],
   "source": [
    "def normalize():\n",
    "    # compute mean rating for each user\n",
    "    mean = ratings.groupby(by='userid', as_index=False)['rating'].mean()\n",
    "    norm_ratings = pd.merge(ratings, mean, suffixes=('','_mean'), on='userid')\n",
    "    \n",
    "    # normalize each rating by substracting the mean rating of the corresponding user\n",
    "    norm_ratings['norm_rating'] = norm_ratings['rating'] - norm_ratings['rating_mean']\n",
    "    return mean.to_numpy()[:, 1], norm_ratings"
   ]
  },
  {
   "cell_type": "code",
   "execution_count": 5,
   "metadata": {
    "id": "wvSY6uTJgCRl",
    "outputId": "9db74a55-2839-4b24-f513-c1ca0b50a258"
   },
   "outputs": [
    {
     "data": {
      "text/html": [
       "<div>\n",
       "<style scoped>\n",
       "    .dataframe tbody tr th:only-of-type {\n",
       "        vertical-align: middle;\n",
       "    }\n",
       "\n",
       "    .dataframe tbody tr th {\n",
       "        vertical-align: top;\n",
       "    }\n",
       "\n",
       "    .dataframe thead th {\n",
       "        text-align: right;\n",
       "    }\n",
       "</style>\n",
       "<table border=\"1\" class=\"dataframe\">\n",
       "  <thead>\n",
       "    <tr style=\"text-align: right;\">\n",
       "      <th></th>\n",
       "      <th>userid</th>\n",
       "      <th>itemid</th>\n",
       "      <th>rating</th>\n",
       "      <th>rating_mean</th>\n",
       "      <th>norm_rating</th>\n",
       "    </tr>\n",
       "  </thead>\n",
       "  <tbody>\n",
       "    <tr>\n",
       "      <th>0</th>\n",
       "      <td>0</td>\n",
       "      <td>0</td>\n",
       "      <td>5</td>\n",
       "      <td>4.188679</td>\n",
       "      <td>0.811321</td>\n",
       "    </tr>\n",
       "    <tr>\n",
       "      <th>1</th>\n",
       "      <td>0</td>\n",
       "      <td>47</td>\n",
       "      <td>5</td>\n",
       "      <td>4.188679</td>\n",
       "      <td>0.811321</td>\n",
       "    </tr>\n",
       "    <tr>\n",
       "      <th>2</th>\n",
       "      <td>0</td>\n",
       "      <td>144</td>\n",
       "      <td>5</td>\n",
       "      <td>4.188679</td>\n",
       "      <td>0.811321</td>\n",
       "    </tr>\n",
       "    <tr>\n",
       "      <th>3</th>\n",
       "      <td>0</td>\n",
       "      <td>253</td>\n",
       "      <td>4</td>\n",
       "      <td>4.188679</td>\n",
       "      <td>-0.188679</td>\n",
       "    </tr>\n",
       "    <tr>\n",
       "      <th>4</th>\n",
       "      <td>0</td>\n",
       "      <td>513</td>\n",
       "      <td>5</td>\n",
       "      <td>4.188679</td>\n",
       "      <td>0.811321</td>\n",
       "    </tr>\n",
       "  </tbody>\n",
       "</table>\n",
       "</div>"
      ],
      "text/plain": [
       "   userid  itemid  rating  rating_mean  norm_rating\n",
       "0       0       0       5     4.188679     0.811321\n",
       "1       0      47       5     4.188679     0.811321\n",
       "2       0     144       5     4.188679     0.811321\n",
       "3       0     253       4     4.188679    -0.188679\n",
       "4       0     513       5     4.188679     0.811321"
      ]
     },
     "execution_count": 5,
     "metadata": {},
     "output_type": "execute_result"
    }
   ],
   "source": [
    "mean, norm_ratings = normalize()\n",
    "np_ratings = norm_ratings.to_numpy()\n",
    "norm_ratings.head()"
   ]
  },
  {
   "cell_type": "markdown",
   "metadata": {
    "id": "vj4OKJoGgCRn"
   },
   "source": [
    "now that each rating has been normalized, we can represent each item by a vector of its normalized ratings"
   ]
  },
  {
   "cell_type": "code",
   "execution_count": 6,
   "metadata": {
    "id": "We0b8U5dgCRp"
   },
   "outputs": [],
   "source": [
    "def item_representation(ratings):    \n",
    "    return csr_matrix(\n",
    "        pd.crosstab(ratings.itemid, ratings.userid, ratings.norm_rating, aggfunc=sum).fillna(0).values\n",
    "    )"
   ]
  },
  {
   "cell_type": "code",
   "execution_count": 7,
   "metadata": {
    "id": "RDM8olmSgCRr"
   },
   "outputs": [],
   "source": [
    "R = item_representation(norm_ratings)"
   ]
  },
  {
   "cell_type": "markdown",
   "metadata": {
    "id": "mf_gosbogCRs"
   },
   "source": [
    "Let's build and fit our $k$-NN model using sklearn"
   ]
  },
  {
   "cell_type": "code",
   "execution_count": 8,
   "metadata": {
    "id": "_mohrtd9gCRu"
   },
   "outputs": [],
   "source": [
    "def create_model(rating_matrix, k=20, metric=\"cosine\"):\n",
    "    \"\"\"\n",
    "    :param R : numpy array of item representations\n",
    "    :param k : number of nearest neighbors to return    \n",
    "    :return model : our knn model\n",
    "    \"\"\"    \n",
    "    model = NearestNeighbors(metric=metric, n_neighbors=k+1, algorithm='brute')\n",
    "    model.fit(rating_matrix)    \n",
    "    return model"
   ]
  },
  {
   "cell_type": "markdown",
   "metadata": {
    "id": "FKxTLWqVgCR0",
    "tags": []
   },
   "source": [
    "#### Similarities computation"
   ]
  },
  {
   "cell_type": "markdown",
   "metadata": {
    "id": "IedNhvlUgCR1"
   },
   "source": [
    "Similarities between items can be measured with the *Cosine* or *Eucliedian* distance. The ***NearestNeighbors*** class from the sklearn library simplifies the computation of neighbors. We just need to specify the metric (e.g. cosine or euclidian) that will be used to compute similarities.\n",
    "\n",
    "The above method, ```create_model```, creates the kNN model and the following ```nearest_neighbors``` method uses the created model to kNN items. It returns nearest neighbors as well as similarities measures for each items.\n",
    "\n",
    "```nearest_neighbors``` returns :\n",
    "- ```similarities``` : numpy array of shape $(n,k)$\n",
    "- ```neighbors``` : numpy array of shape $(n,k)$\n",
    "\n",
    "where $n$ is the total number of items and $k$ is the number of neighbors to return, specified when creating the kNN model."
   ]
  },
  {
   "cell_type": "code",
   "execution_count": 9,
   "metadata": {
    "id": "r7rKoadUgCR1"
   },
   "outputs": [],
   "source": [
    "def nearest_neighbors(rating_matrix, model):\n",
    "    \"\"\"\n",
    "    compute the top n similar items for each item.    \n",
    "    :param rating_matrix : items representations\n",
    "    :param model : nearest neighbors model    \n",
    "    :return similarities, neighbors\n",
    "    \"\"\"    \n",
    "    similarities, neighbors = model.kneighbors(rating_matrix)    \n",
    "    return similarities[:,1:], neighbors[:,1:]"
   ]
  },
  {
   "cell_type": "markdown",
   "metadata": {
    "id": "3p0_b_FtgCR_"
   },
   "source": [
    "This term is computed for all users $u\\in U$, where $U$ is the set of users that rated both items $i$ and $j$. Since the *sklearn* library do not directly implement the adjusted cosine similarity metric, we will implement it with the method ```adjusted_cosine```, with some helper function :\n",
    "\n",
    "- ```save_similarities``` : since the computation of the adjusted cosine similarity is time consuming, around 5 mins for the ml100k dataset, we use this method to save the computed similarities for lated usage.\n",
    "- ```load_similarities``` : load the saved similarities\n",
    "- ```cosine``` : cosine distance between two vectors."
   ]
  },
  {
   "cell_type": "code",
   "execution_count": 10,
   "metadata": {
    "id": "4-2fZQhdgCR_"
   },
   "outputs": [],
   "source": [
    "def save_similarities(similarities, neighbors, dataset_name):    \n",
    "    base_dir = 'recsys/weights/item2item'\n",
    "    save_dir = os.path.join(base_dir, dataset_name)\n",
    "    os.makedirs(save_dir, exist_ok=True)    \n",
    "    similarities_file_name = os.path.join(save_dir, 'similarities.npy')\n",
    "    neighbors_file_name = os.path.join(save_dir, 'neighbors.npy')    \n",
    "    try:\n",
    "        np.save(similarities_file_name, similarities)\n",
    "        np.save(neighbors_file_name, neighbors)        \n",
    "    except ValueError as error:\n",
    "        print(f\"An error occured when saving similarities, due to : \\n ValueError : {error}\")\n",
    "\n",
    "        \n",
    "def load_similarities(dataset_name, k=20):\n",
    "    base_dir = 'recsys/weights/item2item'\n",
    "    save_dir = os.path.join(base_dir, dataset_name)    \n",
    "    similiraties_file = os.path.join(save_dir, 'similarities.npy')\n",
    "    neighbors_file = os.path.join(save_dir, 'neighbors.npy')    \n",
    "    similarities = np.load(similiraties_file)\n",
    "    neighbors = np.load(neighbors_file)    \n",
    "    return similarities[:,:k], neighbors[:,:k]\n",
    "\n",
    "\n",
    "def cosine(x, y):\n",
    "    return np.dot(x, y) / (np.linalg.norm(x) * np.linalg.norm(y))\n",
    "\n",
    "\n",
    "def adjusted_cosine(np_ratings, nb_items, dataset_name):\n",
    "    similarities = np.zeros(shape=(nb_items, nb_items))\n",
    "    similarities.fill(-1)\n",
    "    \n",
    "    def _progress(count):\n",
    "        sys.stdout.write('\\rComputing similarities. Progress status : %.1f%%' % (float(count / nb_items)*100.0))\n",
    "        sys.stdout.flush()\n",
    "        \n",
    "    items = sorted(ratings.itemid.unique())    \n",
    "    for i in items[:-1]:\n",
    "        for j in items[i+1:]:            \n",
    "            scores = np_ratings[(np_ratings[:, 1] == i) | (np_ratings[:, 1] == j), :]\n",
    "            vals, count = np.unique(scores[:,0], return_counts = True)\n",
    "            scores = scores[np.isin(scores[:,0], vals[count > 1]),:]\n",
    "\n",
    "            if scores.shape[0] > 2:\n",
    "                x = scores[scores[:, 1].astype('int') == i, 4]\n",
    "                y = scores[scores[:, 1].astype('int') == j, 4]\n",
    "                w = cosine(x, y)\n",
    "\n",
    "                similarities[i, j] = w\n",
    "                similarities[j, i] = w\n",
    "        _progress(i)\n",
    "    _progress(nb_items)\n",
    "    \n",
    "    # get neighbors by their neighbors in decreasing order of similarities\n",
    "    neighbors = np.flip(np.argsort(similarities), axis=1)\n",
    "    \n",
    "    # sort similarities in decreasing order\n",
    "    similarities = np.flip(np.sort(similarities), axis=1)\n",
    "    \n",
    "    # save similarities to disk\n",
    "    save_similarities(similarities, neighbors, dataset_name=dataset_name) \n",
    "    \n",
    "    return similarities, neighbors"
   ]
  },
  {
   "cell_type": "markdown",
   "metadata": {
    "id": "NN9pqKGvgCSC"
   },
   "source": [
    "now, we can call the ```adjusted_cosine``` function to compute and save items similarities and neighbors based on the adjusted cosine metric. \n",
    "\n",
    "uncomment the two lines of the following cell to compute the adjusted cosine between all items. As we have already run the next cell before, we will just load the precomputed similarities for further use."
   ]
  },
  {
   "cell_type": "code",
   "execution_count": 11,
   "metadata": {
    "id": "WruBFbgCgCSD"
   },
   "outputs": [],
   "source": [
    "# nb_items = ratings.itemid.nunique()\n",
    "# similarities, neighbors = adjusted_cosine(np_ratings, nb_items=nb_items, dataset_name='ml100k')"
   ]
  },
  {
   "cell_type": "markdown",
   "metadata": {
    "id": "TbGrGnYngCSE"
   },
   "source": [
    "Among the following similarity metrics, choose the one you wish to use for the item-based collaborative filtering :\n",
    "\n",
    "- **euclidian** or **cosine** : choose *euclidian* or *cosine* to initialise the similarity model through the sklearn library.\n",
    "- **adjusted_cosine** : choose the *adjusted_cosine* metric to load similarities computed and saved through the ```adjusted_cosine``` function.\n",
    "\n",
    "In this case, we will use the *adjusted_cosine* metric."
   ]
  },
  {
   "cell_type": "code",
   "execution_count": 12,
   "metadata": {
    "id": "uExs3jYNgCSF"
   },
   "outputs": [],
   "source": [
    "# metric : choose among [cosine, euclidean, adjusted_cosine]\n",
    "\n",
    "metric = 'adjusted_cosine'\n",
    "\n",
    "if metric == 'adjusted_cosine':\n",
    "    similarities, neighbors = load_similarities('ml1m')\n",
    "else:\n",
    "    model = create_model(R, k=21, metric=metric)\n",
    "    similarities, neighbors = nearest_neighbors(R, model)"
   ]
  },
  {
   "cell_type": "code",
   "execution_count": 13,
   "metadata": {
    "id": "2W9M6LBugCSG",
    "outputId": "b5e168ec-5e3b-463f-dead-3c7cfb5b63c1"
   },
   "outputs": [
    {
     "name": "stdout",
     "output_type": "stream",
     "text": [
      "neighbors shape :  (3706, 20)\n",
      "similarities shape :  (3706, 20)\n"
     ]
    }
   ],
   "source": [
    "print('neighbors shape : ', neighbors.shape)\n",
    "print('similarities shape : ', similarities.shape)"
   ]
  },
  {
   "cell_type": "markdown",
   "metadata": {
    "id": "0YmwE7i-gCSH"
   },
   "source": [
    "```neighbors``` and ```similarities``` are numpy array, were each entries are list of 20 neighbors with their corresponding similarities"
   ]
  },
  {
   "cell_type": "markdown",
   "metadata": {
    "id": "wTr4UYq5gCSI"
   },
   "source": [
    "Top-N recommendations are made for example for a user $u$ who has already rated a set of items $I_u$"
   ]
  },
  {
   "cell_type": "markdown",
   "metadata": {
    "id": "tX9rNRwygCSI"
   },
   "source": [
    "#### 2.a- Finding candidate items\n",
    "\n",
    "To find candidate items for user $u$, we need to :\n",
    "\n",
    "1. Find the set $I_u$ of items already rated by user $u$,\n",
    "2. Take the union of similar items as $C$ for all items in $I_u$\n",
    "3. exclude from the set $C$ all items in $I_u$, to avoid recommend to a user items he has already purchased.\n",
    "\n",
    "These are done in function ```candidate_items()```"
   ]
  },
  {
   "cell_type": "code",
   "execution_count": 14,
   "metadata": {
    "id": "2yGkVKPLgCSJ"
   },
   "outputs": [],
   "source": [
    "# def candidate_items(userid):\n",
    "#     \"\"\"\n",
    "#     :param userid : user id for which we wish to find candidate items    \n",
    "#     :return : I_u, candidates\n",
    "#     \"\"\"\n",
    "    \n",
    "#     # 1. Finding the set I_u of items already rated by user userid\n",
    "#     I_u = np_ratings[np_ratings[:, 0] == userid]\n",
    "#     I_u = I_u[:, 1].astype('int')\n",
    "    \n",
    "#     # 2. Taking the union of similar items for all items in I_u to form the set of candidate items\n",
    "#     c = set()\n",
    "        \n",
    "#     for iid in I_u:    \n",
    "#         # add the neighbors of item iid in the set of candidate items\n",
    "#         c.update(neighbors[iid])\n",
    "        \n",
    "#     c = list(c)\n",
    "#     # 3. exclude from the set C all items in I_u.\n",
    "#     candidates = np.setdiff1d(c, I_u, assume_unique=True)\n",
    "    \n",
    "#     return I_u, candidates\n",
    "\n",
    "\n",
    "def candidate_items(userid):\n",
    "    \"\"\"\n",
    "    :param userid : user id for which we wish to find candidate items    \n",
    "    :return : I_u, candidates\n",
    "    \"\"\"\n",
    "    \n",
    "    # 1. Finding the set I_u of items already rated by user userid\n",
    "    I_u = np_ratings[np_ratings[:, 0] == userid]\n",
    "    I_u = I_u[:, 1].astype('int')\n",
    "    \n",
    "    # 2. Taking the union of similar items for all items in I_u to form the set of candidate items\n",
    "    c = set()\n",
    "        \n",
    "    for iid in I_u:\n",
    "        try:\n",
    "            # add the neighbors of item iid in the set of candidate items\n",
    "            c.update(neighbors[iid])\n",
    "        except IndexError:\n",
    "            # Handle the IndexError and continue to the next item\n",
    "            pass\n",
    "    \n",
    "    c = list(c)\n",
    "    # 3. exclude from the set C all items in I_u.\n",
    "    candidates = np.setdiff1d(c, I_u, assume_unique=True)\n",
    "    \n",
    "    return I_u, candidates\n"
   ]
  },
  {
   "cell_type": "code",
   "execution_count": 15,
   "metadata": {
    "id": "aTBHlimngCSJ"
   },
   "outputs": [],
   "source": [
    "test_user = uencoder.transform([9])[0]\n",
    "i_u, u_candidates = candidate_items(test_user)"
   ]
  },
  {
   "cell_type": "code",
   "execution_count": 16,
   "metadata": {
    "id": "A_W5DaZPgCSK",
    "outputId": "ed9a7e14-9476-4a73-d0d1-44ffefd3ce8b"
   },
   "outputs": [
    {
     "name": "stdout",
     "output_type": "stream",
     "text": [
      "number of items purchased by user 1 :  106\n",
      "number of candidate items for user 1 :  604\n"
     ]
    }
   ],
   "source": [
    "print('number of items purchased by user 1 : ', len(i_u))\n",
    "print('number of candidate items for user 1 : ', len(u_candidates))"
   ]
  },
  {
   "cell_type": "markdown",
   "metadata": {
    "id": "NPv4qL8ngCSK"
   },
   "source": [
    "#### 2.b- Find similarity between each candidate item and the set $I_u$"
   ]
  },
  {
   "cell_type": "code",
   "execution_count": 17,
   "metadata": {
    "id": "x2m3P3iBgCSL"
   },
   "outputs": [],
   "source": [
    "# def similarity_with_Iu(c, I_u):\n",
    "#     \"\"\"\n",
    "#     compute similarity between an item c and a set of items I_u. For each item i in I_u, get similarity between \n",
    "#     i and c, if c exists in the set of items similar to itemid.    \n",
    "#     :param c : itemid of a candidate item\n",
    "#     :param I_u : set of items already purchased by a given user    \n",
    "#     :return w : similarity between c and I_u\n",
    "#     \"\"\"\n",
    "#     w = 0    \n",
    "#     for iid in I_u :        \n",
    "#         # get similarity between itemid and c, if c is one of the k nearest neighbors of itemid\n",
    "#         if c in neighbors[iid] :\n",
    "#             w = w + similarities[iid, neighbors[iid] == c][0]    \n",
    "#     return w\n",
    "\n",
    "def similarity_with_Iu(c, I_u):\n",
    "    \"\"\"\n",
    "    compute similarity between an item c and a set of items I_u. For each item i in I_u, get similarity between \n",
    "    i and c, if c exists in the set of items similar to itemid.    \n",
    "    :param c : itemid of a candidate item\n",
    "    :param I_u : set of items already purchased by a given user    \n",
    "    :return w : similarity between c and I_u\n",
    "    \"\"\"\n",
    "    w = 0    \n",
    "    for iid in I_u:\n",
    "        try:\n",
    "            # get similarity between itemid and c, if c is one of the k nearest neighbors of itemid\n",
    "            if c in neighbors[iid]:\n",
    "                w = w + similarities[iid, neighbors[iid] == c][0]\n",
    "        except IndexError:\n",
    "            # Handle the IndexError and continue to the next item in I_u\n",
    "            pass\n",
    "    return w\n"
   ]
  },
  {
   "cell_type": "markdown",
   "metadata": {
    "id": "0ss05vFdgCSL"
   },
   "source": [
    "#### 2.c- Rank candidate items according to their similarities to $I_u$"
   ]
  },
  {
   "cell_type": "code",
   "execution_count": 18,
   "metadata": {
    "id": "6LpqLQ_7gCSM"
   },
   "outputs": [],
   "source": [
    "def rank_candidates(candidates, I_u):\n",
    "    \"\"\"\n",
    "    rank candidate items according to their similarities with i_u    \n",
    "    :param candidates : list of candidate items\n",
    "    :param I_u : list of items purchased by the user    \n",
    "    :return ranked_candidates : dataframe of candidate items, ranked in descending order of similarities with I_u\n",
    "    \"\"\"\n",
    "    \n",
    "    # list of candidate items mapped to their corresponding similarities to I_u\n",
    "    sims = [similarity_with_Iu(c, I_u) for c in candidates]\n",
    "    candidates = iencoder.inverse_transform(candidates)    \n",
    "    mapping = list(zip(candidates, sims))\n",
    "    \n",
    "    ranked_candidates = sorted(mapping, key=lambda couple:couple[1], reverse=True)    \n",
    "    return ranked_candidates"
   ]
  },
  {
   "cell_type": "markdown",
   "metadata": {
    "id": "W0SkRTn9gCSM"
   },
   "source": [
    "## Putting all together"
   ]
  },
  {
   "cell_type": "markdown",
   "metadata": {
    "id": "6Z5-lW7agCSN"
   },
   "source": [
    "Now that we defined all functions necessary to build our item to item top-N recommendation, let's define function ```item2item_topN()``` that makes top-$N$ recommendations for a given user "
   ]
  },
  {
   "cell_type": "code",
   "execution_count": 19,
   "metadata": {
    "id": "SRbF7MvlgCSO"
   },
   "outputs": [],
   "source": [
    "def topn_recommendation(userid, N=30):\n",
    "    \"\"\"\n",
    "    Produce top-N recommendation for a given user    \n",
    "    :param userid : user for which we produce top-N recommendation\n",
    "    :param n : length of the top-N recommendation list    \n",
    "    :return topn\n",
    "    \"\"\"\n",
    "    # find candidate items\n",
    "    I_u, candidates = candidate_items(userid)\n",
    "    \n",
    "    # rank candidate items according to their similarities with I_u\n",
    "    ranked_candidates = rank_candidates(candidates, I_u)\n",
    "    \n",
    "    # get the first N row of ranked_candidates to build the top N recommendation list\n",
    "    topn = pd.DataFrame(ranked_candidates[:N], columns=['itemid','similarity_with_Iu'])    \n",
    "    topn = pd.merge(topn, movies, on='itemid', how='inner')    \n",
    "    return topn"
   ]
  },
  {
   "cell_type": "code",
   "execution_count": 20,
   "metadata": {
    "id": "41QHU6uYgCSO",
    "outputId": "285da05a-20ea-4369-8ab7-19840a3dc41e"
   },
   "outputs": [
    {
     "data": {
      "text/html": [
       "<div>\n",
       "<style scoped>\n",
       "    .dataframe tbody tr th:only-of-type {\n",
       "        vertical-align: middle;\n",
       "    }\n",
       "\n",
       "    .dataframe tbody tr th {\n",
       "        vertical-align: top;\n",
       "    }\n",
       "\n",
       "    .dataframe thead th {\n",
       "        text-align: right;\n",
       "    }\n",
       "</style>\n",
       "<table border=\"1\" class=\"dataframe\">\n",
       "  <thead>\n",
       "    <tr style=\"text-align: right;\">\n",
       "      <th></th>\n",
       "      <th>itemid</th>\n",
       "      <th>similarity_with_Iu</th>\n",
       "      <th>title</th>\n",
       "      <th>genres</th>\n",
       "    </tr>\n",
       "  </thead>\n",
       "  <tbody>\n",
       "    <tr>\n",
       "      <th>0</th>\n",
       "      <td>2811</td>\n",
       "      <td>36.965011</td>\n",
       "      <td>With Friends Like These... (1998)</td>\n",
       "      <td>Comedy</td>\n",
       "    </tr>\n",
       "    <tr>\n",
       "      <th>1</th>\n",
       "      <td>3517</td>\n",
       "      <td>32.210196</td>\n",
       "      <td>Bells, The (1926)</td>\n",
       "      <td>Crime|Drama</td>\n",
       "    </tr>\n",
       "    <tr>\n",
       "      <th>2</th>\n",
       "      <td>3443</td>\n",
       "      <td>22.754787</td>\n",
       "      <td>Born American (1986)</td>\n",
       "      <td>Action|Drama|Thriller</td>\n",
       "    </tr>\n",
       "    <tr>\n",
       "      <th>3</th>\n",
       "      <td>3380</td>\n",
       "      <td>20.499962</td>\n",
       "      <td>Railroaded! (1947)</td>\n",
       "      <td>Film-Noir</td>\n",
       "    </tr>\n",
       "    <tr>\n",
       "      <th>4</th>\n",
       "      <td>787</td>\n",
       "      <td>19.186551</td>\n",
       "      <td>Gate of Heavenly Peace, The (1995)</td>\n",
       "      <td>Documentary</td>\n",
       "    </tr>\n",
       "    <tr>\n",
       "      <th>5</th>\n",
       "      <td>3245</td>\n",
       "      <td>19.047381</td>\n",
       "      <td>I Am Cuba (Soy Cuba/Ya Kuba) (1964)</td>\n",
       "      <td>Drama</td>\n",
       "    </tr>\n",
       "    <tr>\n",
       "      <th>6</th>\n",
       "      <td>167</td>\n",
       "      <td>19.028066</td>\n",
       "      <td>Feast of July (1995)</td>\n",
       "      <td>Drama</td>\n",
       "    </tr>\n",
       "    <tr>\n",
       "      <th>7</th>\n",
       "      <td>1002</td>\n",
       "      <td>17.774802</td>\n",
       "      <td>Ed's Next Move (1996)</td>\n",
       "      <td>Comedy</td>\n",
       "    </tr>\n",
       "    <tr>\n",
       "      <th>8</th>\n",
       "      <td>755</td>\n",
       "      <td>17.327337</td>\n",
       "      <td>Kim (1950)</td>\n",
       "      <td>Children's|Drama</td>\n",
       "    </tr>\n",
       "    <tr>\n",
       "      <th>9</th>\n",
       "      <td>1149</td>\n",
       "      <td>17.018185</td>\n",
       "      <td>JLG/JLG - autoportrait de décembre (1994)</td>\n",
       "      <td>Documentary|Drama</td>\n",
       "    </tr>\n",
       "    <tr>\n",
       "      <th>10</th>\n",
       "      <td>3126</td>\n",
       "      <td>15.301662</td>\n",
       "      <td>End of the Affair, The (1955)</td>\n",
       "      <td>Drama</td>\n",
       "    </tr>\n",
       "    <tr>\n",
       "      <th>11</th>\n",
       "      <td>2061</td>\n",
       "      <td>15.268643</td>\n",
       "      <td>Full Tilt Boogie (1997)</td>\n",
       "      <td>Documentary</td>\n",
       "    </tr>\n",
       "    <tr>\n",
       "      <th>12</th>\n",
       "      <td>2578</td>\n",
       "      <td>14.643162</td>\n",
       "      <td>Sticky Fingers of Time, The (1997)</td>\n",
       "      <td>Sci-Fi</td>\n",
       "    </tr>\n",
       "    <tr>\n",
       "      <th>13</th>\n",
       "      <td>1420</td>\n",
       "      <td>14.286828</td>\n",
       "      <td>Message to Love: The Isle of Wight Festival (1...</td>\n",
       "      <td>Documentary</td>\n",
       "    </tr>\n",
       "    <tr>\n",
       "      <th>14</th>\n",
       "      <td>3410</td>\n",
       "      <td>14.268793</td>\n",
       "      <td>Soft Fruit (1999)</td>\n",
       "      <td>Comedy|Drama</td>\n",
       "    </tr>\n",
       "    <tr>\n",
       "      <th>15</th>\n",
       "      <td>3377</td>\n",
       "      <td>14.263187</td>\n",
       "      <td>Hangmen Also Die (1943)</td>\n",
       "      <td>Drama|War</td>\n",
       "    </tr>\n",
       "    <tr>\n",
       "      <th>16</th>\n",
       "      <td>1160</td>\n",
       "      <td>13.268611</td>\n",
       "      <td>Six of a Kind (1934)</td>\n",
       "      <td>Comedy</td>\n",
       "    </tr>\n",
       "    <tr>\n",
       "      <th>17</th>\n",
       "      <td>2358</td>\n",
       "      <td>13.186996</td>\n",
       "      <td>Savior (1998)</td>\n",
       "      <td>Drama</td>\n",
       "    </tr>\n",
       "    <tr>\n",
       "      <th>18</th>\n",
       "      <td>2833</td>\n",
       "      <td>13.092125</td>\n",
       "      <td>Lucie Aubrac (1997)</td>\n",
       "      <td>Romance|War</td>\n",
       "    </tr>\n",
       "    <tr>\n",
       "      <th>19</th>\n",
       "      <td>985</td>\n",
       "      <td>12.925191</td>\n",
       "      <td>Small Wonders (1996)</td>\n",
       "      <td>Documentary</td>\n",
       "    </tr>\n",
       "    <tr>\n",
       "      <th>20</th>\n",
       "      <td>1532</td>\n",
       "      <td>12.796017</td>\n",
       "      <td>Sprung (1997)</td>\n",
       "      <td>Comedy</td>\n",
       "    </tr>\n",
       "    <tr>\n",
       "      <th>21</th>\n",
       "      <td>757</td>\n",
       "      <td>12.713918</td>\n",
       "      <td>Ashes of Time (1994)</td>\n",
       "      <td>Drama</td>\n",
       "    </tr>\n",
       "    <tr>\n",
       "      <th>22</th>\n",
       "      <td>3292</td>\n",
       "      <td>12.334062</td>\n",
       "      <td>Big Combo, The (1955)</td>\n",
       "      <td>Film-Noir</td>\n",
       "    </tr>\n",
       "    <tr>\n",
       "      <th>23</th>\n",
       "      <td>560</td>\n",
       "      <td>12.224856</td>\n",
       "      <td>Beans of Egypt, Maine, The (1994)</td>\n",
       "      <td>Drama</td>\n",
       "    </tr>\n",
       "    <tr>\n",
       "      <th>24</th>\n",
       "      <td>2825</td>\n",
       "      <td>12.085077</td>\n",
       "      <td>Rosie (1998)</td>\n",
       "      <td>Drama</td>\n",
       "    </tr>\n",
       "    <tr>\n",
       "      <th>25</th>\n",
       "      <td>37</td>\n",
       "      <td>11.917839</td>\n",
       "      <td>Across the Sea of Time (1995)</td>\n",
       "      <td>Documentary</td>\n",
       "    </tr>\n",
       "    <tr>\n",
       "      <th>26</th>\n",
       "      <td>3242</td>\n",
       "      <td>11.797776</td>\n",
       "      <td>Santitos (1997)</td>\n",
       "      <td>Comedy</td>\n",
       "    </tr>\n",
       "    <tr>\n",
       "      <th>27</th>\n",
       "      <td>578</td>\n",
       "      <td>11.454941</td>\n",
       "      <td>Hour of the Pig, The (1993)</td>\n",
       "      <td>Drama|Mystery</td>\n",
       "    </tr>\n",
       "    <tr>\n",
       "      <th>28</th>\n",
       "      <td>2999</td>\n",
       "      <td>11.149107</td>\n",
       "      <td>Man of the Century (1999)</td>\n",
       "      <td>Comedy</td>\n",
       "    </tr>\n",
       "    <tr>\n",
       "      <th>29</th>\n",
       "      <td>2931</td>\n",
       "      <td>10.909443</td>\n",
       "      <td>Time of the Gypsies (Dom za vesanje) (1989)</td>\n",
       "      <td>Drama</td>\n",
       "    </tr>\n",
       "  </tbody>\n",
       "</table>\n",
       "</div>"
      ],
      "text/plain": [
       "    itemid  similarity_with_Iu  \\\n",
       "0     2811           36.965011   \n",
       "1     3517           32.210196   \n",
       "2     3443           22.754787   \n",
       "3     3380           20.499962   \n",
       "4      787           19.186551   \n",
       "5     3245           19.047381   \n",
       "6      167           19.028066   \n",
       "7     1002           17.774802   \n",
       "8      755           17.327337   \n",
       "9     1149           17.018185   \n",
       "10    3126           15.301662   \n",
       "11    2061           15.268643   \n",
       "12    2578           14.643162   \n",
       "13    1420           14.286828   \n",
       "14    3410           14.268793   \n",
       "15    3377           14.263187   \n",
       "16    1160           13.268611   \n",
       "17    2358           13.186996   \n",
       "18    2833           13.092125   \n",
       "19     985           12.925191   \n",
       "20    1532           12.796017   \n",
       "21     757           12.713918   \n",
       "22    3292           12.334062   \n",
       "23     560           12.224856   \n",
       "24    2825           12.085077   \n",
       "25      37           11.917839   \n",
       "26    3242           11.797776   \n",
       "27     578           11.454941   \n",
       "28    2999           11.149107   \n",
       "29    2931           10.909443   \n",
       "\n",
       "                                                title                 genres  \n",
       "0                   With Friends Like These... (1998)                 Comedy  \n",
       "1                                   Bells, The (1926)            Crime|Drama  \n",
       "2                                Born American (1986)  Action|Drama|Thriller  \n",
       "3                                  Railroaded! (1947)              Film-Noir  \n",
       "4                  Gate of Heavenly Peace, The (1995)            Documentary  \n",
       "5                 I Am Cuba (Soy Cuba/Ya Kuba) (1964)                  Drama  \n",
       "6                                Feast of July (1995)                  Drama  \n",
       "7                               Ed's Next Move (1996)                 Comedy  \n",
       "8                                          Kim (1950)       Children's|Drama  \n",
       "9           JLG/JLG - autoportrait de décembre (1994)      Documentary|Drama  \n",
       "10                      End of the Affair, The (1955)                  Drama  \n",
       "11                            Full Tilt Boogie (1997)            Documentary  \n",
       "12                 Sticky Fingers of Time, The (1997)                 Sci-Fi  \n",
       "13  Message to Love: The Isle of Wight Festival (1...            Documentary  \n",
       "14                                  Soft Fruit (1999)           Comedy|Drama  \n",
       "15                            Hangmen Also Die (1943)              Drama|War  \n",
       "16                               Six of a Kind (1934)                 Comedy  \n",
       "17                                      Savior (1998)                  Drama  \n",
       "18                                Lucie Aubrac (1997)            Romance|War  \n",
       "19                               Small Wonders (1996)            Documentary  \n",
       "20                                      Sprung (1997)                 Comedy  \n",
       "21                               Ashes of Time (1994)                  Drama  \n",
       "22                              Big Combo, The (1955)              Film-Noir  \n",
       "23                  Beans of Egypt, Maine, The (1994)                  Drama  \n",
       "24                                       Rosie (1998)                  Drama  \n",
       "25                      Across the Sea of Time (1995)            Documentary  \n",
       "26                                    Santitos (1997)                 Comedy  \n",
       "27                        Hour of the Pig, The (1993)          Drama|Mystery  \n",
       "28                          Man of the Century (1999)                 Comedy  \n",
       "29        Time of the Gypsies (Dom za vesanje) (1989)                  Drama  "
      ]
     },
     "execution_count": 20,
     "metadata": {},
     "output_type": "execute_result"
    }
   ],
   "source": [
    "topn_recommendation(test_user)"
   ]
  },
  {
   "cell_type": "markdown",
   "metadata": {
    "id": "Vx889wLKgCSO"
   },
   "source": [
    "This dataframe represents the top N recommendation list a user. These items are sorted in decreasing order of similarities with $I_u$.\n",
    "\n",
    "**Observation** : The recommended items are the most similar to the set $I_u$ of items already purchased by the user."
   ]
  },
  {
   "cell_type": "markdown",
   "metadata": {
    "id": "FG55R4isgCSP"
   },
   "source": [
    "## Top N recommendation with predictions"
   ]
  },
  {
   "cell_type": "markdown",
   "metadata": {
    "id": "ubJMamVLgCSP"
   },
   "source": [
    "Before recommending the previous list to the user, we can go further and predict the ratings the user would have given to each of these items, sort them in descending order of prediction and return the reordered list as the new top N recommendation list."
   ]
  },
  {
   "cell_type": "markdown",
   "metadata": {
    "id": "JzrrNHgmgCSP"
   },
   "source": [
    "### Rating prediction\n",
    "\n",
    "As stated earlier, the predicted rating $\\hat{r}_{u,i}$ for a given user $u$ on an item $i$ is obtained by aggregating ratings given by $u$ on items similar to $i$ as follows:\n",
    "\n",
    "\\begin{equation}\n",
    " \\hat{r}_{u,i}=\\frac{\\sum_{j\\in S^{(i)}}r_{u,j}\\cdot w_{i,j}}{\\sum_{j\\in S^{(i)}}|w_{i,j}|}\n",
    "\\end{equation}"
   ]
  },
  {
   "cell_type": "code",
   "execution_count": 21,
   "metadata": {
    "id": "QYdz_sQLgCSQ"
   },
   "outputs": [],
   "source": [
    "# def predict(userid, itemid):\n",
    "#     \"\"\"\n",
    "#     Make rating prediction for user userid on item itemid    \n",
    "#     :param userid : id of the active user\n",
    "#     :param itemid : id of the item for which we are making prediction        \n",
    "#     :return r_hat : predicted rating\n",
    "#     \"\"\"\n",
    "    \n",
    "#     # Get items similar to item itemid with their corresponding similarities\n",
    "#     item_neighbors = neighbors[itemid]\n",
    "#     item_similarities = similarities[itemid]\n",
    "    \n",
    "#     # get ratings of user with id userid\n",
    "#     uratings = np_ratings[np_ratings[:, 0].astype('int') == userid]\n",
    "    \n",
    "#     # similar items rated by item the user of i\n",
    "#     siru = uratings[np.isin(uratings[:, 1], item_neighbors)]\n",
    "#     scores = siru[:, 2]\n",
    "#     indexes = [np.where(item_neighbors == iid)[0][0] for iid in siru[:,1].astype('int')]    \n",
    "#     sims = item_similarities[indexes]\n",
    "    \n",
    "#     dot = np.dot(scores, sims)\n",
    "#     som = np.sum(np.abs(sims))\n",
    "\n",
    "#     if dot == 0 or som == 0:\n",
    "#         return mean[userid]\n",
    "    \n",
    "#     return dot / som\n",
    "\n",
    "\n",
    "def predict(userid, itemid):\n",
    "    \"\"\"\n",
    "    Make rating prediction for user userid on item itemid    \n",
    "    :param userid : id of the active user\n",
    "    :param itemid : id of the item for which we are making prediction        \n",
    "    :return r_hat : predicted rating\n",
    "    \"\"\"\n",
    "    try:\n",
    "        # Get items similar to item itemid with their corresponding similarities\n",
    "        item_neighbors = neighbors[itemid]\n",
    "        item_similarities = similarities[itemid]\n",
    "    except IndexError:\n",
    "        # Handle the IndexError when itemid is not found in neighbors\n",
    "        return mean[userid]\n",
    "   \n",
    "    # get ratings of user with id userid\n",
    "    uratings = np_ratings[np_ratings[:, 0].astype('int') == userid]\n",
    "    \n",
    "    # similar items rated by item the user of i\n",
    "    siru = uratings[np.isin(uratings[:, 1], item_neighbors)]\n",
    "    scores = siru[:, 2]\n",
    "    indexes = [np.where(item_neighbors == iid)[0][0] for iid in siru[:,1].astype('int')]    \n",
    "    sims = item_similarities[indexes]\n",
    "    \n",
    "    dot = np.dot(scores, sims)\n",
    "    som = np.sum(np.abs(sims))\n",
    "\n",
    "    if dot == 0 or som == 0:\n",
    "        return mean[userid]\n",
    "    \n",
    "    return dot / som"
   ]
  },
  {
   "cell_type": "markdown",
   "metadata": {
    "id": "3D6-DlSbgCSQ"
   },
   "source": [
    "Now let's use our ```predict()``` function to predict what ratings the user would have given to the previous top-$N$ list and return the reorganised list (in decreasing order of predictions) as the new top-$N$ list"
   ]
  },
  {
   "cell_type": "code",
   "execution_count": 22,
   "metadata": {
    "id": "wZXqc221gCSQ"
   },
   "outputs": [],
   "source": [
    "def topn_prediction(userid):\n",
    "    \"\"\"\n",
    "    :param userid : id of the active user    \n",
    "    :return topn : initial topN recommendations returned by the function item2item_topN\n",
    "    :return topn_predict : topN recommendations reordered according to rating predictions\n",
    "    \"\"\"\n",
    "    # make top N recommendation for the active user\n",
    "    topn = topn_recommendation(userid)\n",
    "    \n",
    "    # get list of items of the top N list\n",
    "    itemids = topn.itemid.to_list()\n",
    "    \n",
    "    predictions = []\n",
    "    \n",
    "    # make prediction for each item in the top N list\n",
    "    for itemid in itemids:\n",
    "        r = predict(userid, itemid)\n",
    "        \n",
    "        predictions.append((itemid,r))\n",
    "    \n",
    "    predictions = pd.DataFrame(predictions, columns=['itemid','prediction'])\n",
    "    \n",
    "    # merge the predictions to topN_list and rearrange the list according to predictions\n",
    "    topn_predict = pd.merge(topn, predictions, on='itemid', how='inner')\n",
    "    topn_predict = topn_predict.sort_values(by=['prediction'], ascending=False)\n",
    "    \n",
    "    return topn, topn_predict"
   ]
  },
  {
   "cell_type": "markdown",
   "metadata": {
    "id": "f89U3bEegCSR"
   },
   "source": [
    "Now, let's make recommendation for user 1 and compare the two list"
   ]
  },
  {
   "cell_type": "code",
   "execution_count": 23,
   "metadata": {},
   "outputs": [
    {
     "data": {
      "text/plain": [
       "array([   0,    1,    2, ..., 6037, 6038, 6039])"
      ]
     },
     "execution_count": 23,
     "metadata": {},
     "output_type": "execute_result"
    }
   ],
   "source": [
    "users = ratings.userid.unique()\n",
    "users"
   ]
  },
  {
   "cell_type": "code",
   "execution_count": 24,
   "metadata": {},
   "outputs": [],
   "source": [
    "# uncomment this to generate predictions for all users\n",
    "# preds = []\n",
    "# for user in users:\n",
    "#     _, topn_predict = topn_prediction(userid=user)\n",
    "#     preds.append(topn_predict)"
   ]
  },
  {
   "cell_type": "code",
   "execution_count": 25,
   "metadata": {},
   "outputs": [],
   "source": [
    "# len(users)"
   ]
  },
  {
   "cell_type": "code",
   "execution_count": 26,
   "metadata": {},
   "outputs": [],
   "source": [
    "# len(preds)"
   ]
  },
  {
   "cell_type": "code",
   "execution_count": 27,
   "metadata": {},
   "outputs": [],
   "source": [
    "# for i in range(len(users)):\n",
    "#     # preds[i]['userid'] = users[i]\n",
    "#     # preds[i]['prediction'] = preds[i].prediction.abs()\n",
    "#     preds[i] = preds[i].sort_values(by=['prediction'], ascending=False)"
   ]
  },
  {
   "cell_type": "code",
   "execution_count": 28,
   "metadata": {},
   "outputs": [],
   "source": [
    "# df = pd.concat(preds).reset_index(drop=True)"
   ]
  },
  {
   "cell_type": "code",
   "execution_count": 29,
   "metadata": {},
   "outputs": [],
   "source": [
    "# df.columns"
   ]
  },
  {
   "cell_type": "code",
   "execution_count": 30,
   "metadata": {},
   "outputs": [],
   "source": [
    "# df[['userid', 'itemid', 'similarity_with_Iu', 'title', 'genres', 'prediction']].to_csv('item_based_predictions_with_genres.csv', index = False)"
   ]
  },
  {
   "cell_type": "code",
   "execution_count": 31,
   "metadata": {},
   "outputs": [
    {
     "data": {
      "text/plain": [
       "8"
      ]
     },
     "execution_count": 31,
     "metadata": {},
     "output_type": "execute_result"
    }
   ],
   "source": [
    "test_user"
   ]
  },
  {
   "cell_type": "code",
   "execution_count": 32,
   "metadata": {
    "id": "M9uInQj0gCSR"
   },
   "outputs": [],
   "source": [
    "topn, topn_predict = topn_prediction(userid=test_user)"
   ]
  },
  {
   "cell_type": "code",
   "execution_count": 33,
   "metadata": {
    "id": "VsU4JUOwgCSU",
    "outputId": "957d03c3-f540-458f-836a-3656894545ff"
   },
   "outputs": [
    {
     "data": {
      "text/html": [
       "<div>\n",
       "<style scoped>\n",
       "    .dataframe tbody tr th:only-of-type {\n",
       "        vertical-align: middle;\n",
       "    }\n",
       "\n",
       "    .dataframe tbody tr th {\n",
       "        vertical-align: top;\n",
       "    }\n",
       "\n",
       "    .dataframe thead th {\n",
       "        text-align: right;\n",
       "    }\n",
       "</style>\n",
       "<table border=\"1\" class=\"dataframe\">\n",
       "  <thead>\n",
       "    <tr style=\"text-align: right;\">\n",
       "      <th></th>\n",
       "      <th>itemid</th>\n",
       "      <th>similarity_with_Iu</th>\n",
       "      <th>title</th>\n",
       "      <th>genres</th>\n",
       "      <th>prediction</th>\n",
       "    </tr>\n",
       "  </thead>\n",
       "  <tbody>\n",
       "    <tr>\n",
       "      <th>7</th>\n",
       "      <td>1002</td>\n",
       "      <td>17.774802</td>\n",
       "      <td>Ed's Next Move (1996)</td>\n",
       "      <td>Comedy</td>\n",
       "      <td>4.000000</td>\n",
       "    </tr>\n",
       "    <tr>\n",
       "      <th>0</th>\n",
       "      <td>2811</td>\n",
       "      <td>36.965011</td>\n",
       "      <td>With Friends Like These... (1998)</td>\n",
       "      <td>Comedy</td>\n",
       "      <td>3.735849</td>\n",
       "    </tr>\n",
       "    <tr>\n",
       "      <th>16</th>\n",
       "      <td>1160</td>\n",
       "      <td>13.268611</td>\n",
       "      <td>Six of a Kind (1934)</td>\n",
       "      <td>Comedy</td>\n",
       "      <td>3.735849</td>\n",
       "    </tr>\n",
       "    <tr>\n",
       "      <th>28</th>\n",
       "      <td>2999</td>\n",
       "      <td>11.149107</td>\n",
       "      <td>Man of the Century (1999)</td>\n",
       "      <td>Comedy</td>\n",
       "      <td>3.735849</td>\n",
       "    </tr>\n",
       "    <tr>\n",
       "      <th>27</th>\n",
       "      <td>578</td>\n",
       "      <td>11.454941</td>\n",
       "      <td>Hour of the Pig, The (1993)</td>\n",
       "      <td>Drama|Mystery</td>\n",
       "      <td>3.735849</td>\n",
       "    </tr>\n",
       "    <tr>\n",
       "      <th>26</th>\n",
       "      <td>3242</td>\n",
       "      <td>11.797776</td>\n",
       "      <td>Santitos (1997)</td>\n",
       "      <td>Comedy</td>\n",
       "      <td>3.735849</td>\n",
       "    </tr>\n",
       "    <tr>\n",
       "      <th>25</th>\n",
       "      <td>37</td>\n",
       "      <td>11.917839</td>\n",
       "      <td>Across the Sea of Time (1995)</td>\n",
       "      <td>Documentary</td>\n",
       "      <td>3.735849</td>\n",
       "    </tr>\n",
       "    <tr>\n",
       "      <th>24</th>\n",
       "      <td>2825</td>\n",
       "      <td>12.085077</td>\n",
       "      <td>Rosie (1998)</td>\n",
       "      <td>Drama</td>\n",
       "      <td>3.735849</td>\n",
       "    </tr>\n",
       "    <tr>\n",
       "      <th>23</th>\n",
       "      <td>560</td>\n",
       "      <td>12.224856</td>\n",
       "      <td>Beans of Egypt, Maine, The (1994)</td>\n",
       "      <td>Drama</td>\n",
       "      <td>3.735849</td>\n",
       "    </tr>\n",
       "    <tr>\n",
       "      <th>22</th>\n",
       "      <td>3292</td>\n",
       "      <td>12.334062</td>\n",
       "      <td>Big Combo, The (1955)</td>\n",
       "      <td>Film-Noir</td>\n",
       "      <td>3.735849</td>\n",
       "    </tr>\n",
       "    <tr>\n",
       "      <th>21</th>\n",
       "      <td>757</td>\n",
       "      <td>12.713918</td>\n",
       "      <td>Ashes of Time (1994)</td>\n",
       "      <td>Drama</td>\n",
       "      <td>3.735849</td>\n",
       "    </tr>\n",
       "    <tr>\n",
       "      <th>20</th>\n",
       "      <td>1532</td>\n",
       "      <td>12.796017</td>\n",
       "      <td>Sprung (1997)</td>\n",
       "      <td>Comedy</td>\n",
       "      <td>3.735849</td>\n",
       "    </tr>\n",
       "    <tr>\n",
       "      <th>19</th>\n",
       "      <td>985</td>\n",
       "      <td>12.925191</td>\n",
       "      <td>Small Wonders (1996)</td>\n",
       "      <td>Documentary</td>\n",
       "      <td>3.735849</td>\n",
       "    </tr>\n",
       "    <tr>\n",
       "      <th>18</th>\n",
       "      <td>2833</td>\n",
       "      <td>13.092125</td>\n",
       "      <td>Lucie Aubrac (1997)</td>\n",
       "      <td>Romance|War</td>\n",
       "      <td>3.735849</td>\n",
       "    </tr>\n",
       "    <tr>\n",
       "      <th>17</th>\n",
       "      <td>2358</td>\n",
       "      <td>13.186996</td>\n",
       "      <td>Savior (1998)</td>\n",
       "      <td>Drama</td>\n",
       "      <td>3.735849</td>\n",
       "    </tr>\n",
       "    <tr>\n",
       "      <th>15</th>\n",
       "      <td>3377</td>\n",
       "      <td>14.263187</td>\n",
       "      <td>Hangmen Also Die (1943)</td>\n",
       "      <td>Drama|War</td>\n",
       "      <td>3.735849</td>\n",
       "    </tr>\n",
       "    <tr>\n",
       "      <th>1</th>\n",
       "      <td>3517</td>\n",
       "      <td>32.210196</td>\n",
       "      <td>Bells, The (1926)</td>\n",
       "      <td>Crime|Drama</td>\n",
       "      <td>3.735849</td>\n",
       "    </tr>\n",
       "    <tr>\n",
       "      <th>14</th>\n",
       "      <td>3410</td>\n",
       "      <td>14.268793</td>\n",
       "      <td>Soft Fruit (1999)</td>\n",
       "      <td>Comedy|Drama</td>\n",
       "      <td>3.735849</td>\n",
       "    </tr>\n",
       "    <tr>\n",
       "      <th>13</th>\n",
       "      <td>1420</td>\n",
       "      <td>14.286828</td>\n",
       "      <td>Message to Love: The Isle of Wight Festival (1...</td>\n",
       "      <td>Documentary</td>\n",
       "      <td>3.735849</td>\n",
       "    </tr>\n",
       "    <tr>\n",
       "      <th>12</th>\n",
       "      <td>2578</td>\n",
       "      <td>14.643162</td>\n",
       "      <td>Sticky Fingers of Time, The (1997)</td>\n",
       "      <td>Sci-Fi</td>\n",
       "      <td>3.735849</td>\n",
       "    </tr>\n",
       "    <tr>\n",
       "      <th>10</th>\n",
       "      <td>3126</td>\n",
       "      <td>15.301662</td>\n",
       "      <td>End of the Affair, The (1955)</td>\n",
       "      <td>Drama</td>\n",
       "      <td>3.735849</td>\n",
       "    </tr>\n",
       "    <tr>\n",
       "      <th>9</th>\n",
       "      <td>1149</td>\n",
       "      <td>17.018185</td>\n",
       "      <td>JLG/JLG - autoportrait de décembre (1994)</td>\n",
       "      <td>Documentary|Drama</td>\n",
       "      <td>3.735849</td>\n",
       "    </tr>\n",
       "    <tr>\n",
       "      <th>8</th>\n",
       "      <td>755</td>\n",
       "      <td>17.327337</td>\n",
       "      <td>Kim (1950)</td>\n",
       "      <td>Children's|Drama</td>\n",
       "      <td>3.735849</td>\n",
       "    </tr>\n",
       "    <tr>\n",
       "      <th>6</th>\n",
       "      <td>167</td>\n",
       "      <td>19.028066</td>\n",
       "      <td>Feast of July (1995)</td>\n",
       "      <td>Drama</td>\n",
       "      <td>3.735849</td>\n",
       "    </tr>\n",
       "    <tr>\n",
       "      <th>5</th>\n",
       "      <td>3245</td>\n",
       "      <td>19.047381</td>\n",
       "      <td>I Am Cuba (Soy Cuba/Ya Kuba) (1964)</td>\n",
       "      <td>Drama</td>\n",
       "      <td>3.735849</td>\n",
       "    </tr>\n",
       "    <tr>\n",
       "      <th>4</th>\n",
       "      <td>787</td>\n",
       "      <td>19.186551</td>\n",
       "      <td>Gate of Heavenly Peace, The (1995)</td>\n",
       "      <td>Documentary</td>\n",
       "      <td>3.735849</td>\n",
       "    </tr>\n",
       "    <tr>\n",
       "      <th>3</th>\n",
       "      <td>3380</td>\n",
       "      <td>20.499962</td>\n",
       "      <td>Railroaded! (1947)</td>\n",
       "      <td>Film-Noir</td>\n",
       "      <td>3.735849</td>\n",
       "    </tr>\n",
       "    <tr>\n",
       "      <th>2</th>\n",
       "      <td>3443</td>\n",
       "      <td>22.754787</td>\n",
       "      <td>Born American (1986)</td>\n",
       "      <td>Action|Drama|Thriller</td>\n",
       "      <td>3.735849</td>\n",
       "    </tr>\n",
       "    <tr>\n",
       "      <th>29</th>\n",
       "      <td>2931</td>\n",
       "      <td>10.909443</td>\n",
       "      <td>Time of the Gypsies (Dom za vesanje) (1989)</td>\n",
       "      <td>Drama</td>\n",
       "      <td>3.735849</td>\n",
       "    </tr>\n",
       "    <tr>\n",
       "      <th>11</th>\n",
       "      <td>2061</td>\n",
       "      <td>15.268643</td>\n",
       "      <td>Full Tilt Boogie (1997)</td>\n",
       "      <td>Documentary</td>\n",
       "      <td>2.949477</td>\n",
       "    </tr>\n",
       "  </tbody>\n",
       "</table>\n",
       "</div>"
      ],
      "text/plain": [
       "    itemid  similarity_with_Iu  \\\n",
       "7     1002           17.774802   \n",
       "0     2811           36.965011   \n",
       "16    1160           13.268611   \n",
       "28    2999           11.149107   \n",
       "27     578           11.454941   \n",
       "26    3242           11.797776   \n",
       "25      37           11.917839   \n",
       "24    2825           12.085077   \n",
       "23     560           12.224856   \n",
       "22    3292           12.334062   \n",
       "21     757           12.713918   \n",
       "20    1532           12.796017   \n",
       "19     985           12.925191   \n",
       "18    2833           13.092125   \n",
       "17    2358           13.186996   \n",
       "15    3377           14.263187   \n",
       "1     3517           32.210196   \n",
       "14    3410           14.268793   \n",
       "13    1420           14.286828   \n",
       "12    2578           14.643162   \n",
       "10    3126           15.301662   \n",
       "9     1149           17.018185   \n",
       "8      755           17.327337   \n",
       "6      167           19.028066   \n",
       "5     3245           19.047381   \n",
       "4      787           19.186551   \n",
       "3     3380           20.499962   \n",
       "2     3443           22.754787   \n",
       "29    2931           10.909443   \n",
       "11    2061           15.268643   \n",
       "\n",
       "                                                title                 genres  \\\n",
       "7                               Ed's Next Move (1996)                 Comedy   \n",
       "0                   With Friends Like These... (1998)                 Comedy   \n",
       "16                               Six of a Kind (1934)                 Comedy   \n",
       "28                          Man of the Century (1999)                 Comedy   \n",
       "27                        Hour of the Pig, The (1993)          Drama|Mystery   \n",
       "26                                    Santitos (1997)                 Comedy   \n",
       "25                      Across the Sea of Time (1995)            Documentary   \n",
       "24                                       Rosie (1998)                  Drama   \n",
       "23                  Beans of Egypt, Maine, The (1994)                  Drama   \n",
       "22                              Big Combo, The (1955)              Film-Noir   \n",
       "21                               Ashes of Time (1994)                  Drama   \n",
       "20                                      Sprung (1997)                 Comedy   \n",
       "19                               Small Wonders (1996)            Documentary   \n",
       "18                                Lucie Aubrac (1997)            Romance|War   \n",
       "17                                      Savior (1998)                  Drama   \n",
       "15                            Hangmen Also Die (1943)              Drama|War   \n",
       "1                                   Bells, The (1926)            Crime|Drama   \n",
       "14                                  Soft Fruit (1999)           Comedy|Drama   \n",
       "13  Message to Love: The Isle of Wight Festival (1...            Documentary   \n",
       "12                 Sticky Fingers of Time, The (1997)                 Sci-Fi   \n",
       "10                      End of the Affair, The (1955)                  Drama   \n",
       "9           JLG/JLG - autoportrait de décembre (1994)      Documentary|Drama   \n",
       "8                                          Kim (1950)       Children's|Drama   \n",
       "6                                Feast of July (1995)                  Drama   \n",
       "5                 I Am Cuba (Soy Cuba/Ya Kuba) (1964)                  Drama   \n",
       "4                  Gate of Heavenly Peace, The (1995)            Documentary   \n",
       "3                                  Railroaded! (1947)              Film-Noir   \n",
       "2                                Born American (1986)  Action|Drama|Thriller   \n",
       "29        Time of the Gypsies (Dom za vesanje) (1989)                  Drama   \n",
       "11                            Full Tilt Boogie (1997)            Documentary   \n",
       "\n",
       "    prediction  \n",
       "7     4.000000  \n",
       "0     3.735849  \n",
       "16    3.735849  \n",
       "28    3.735849  \n",
       "27    3.735849  \n",
       "26    3.735849  \n",
       "25    3.735849  \n",
       "24    3.735849  \n",
       "23    3.735849  \n",
       "22    3.735849  \n",
       "21    3.735849  \n",
       "20    3.735849  \n",
       "19    3.735849  \n",
       "18    3.735849  \n",
       "17    3.735849  \n",
       "15    3.735849  \n",
       "1     3.735849  \n",
       "14    3.735849  \n",
       "13    3.735849  \n",
       "12    3.735849  \n",
       "10    3.735849  \n",
       "9     3.735849  \n",
       "8     3.735849  \n",
       "6     3.735849  \n",
       "5     3.735849  \n",
       "4     3.735849  \n",
       "3     3.735849  \n",
       "2     3.735849  \n",
       "29    3.735849  \n",
       "11    2.949477  "
      ]
     },
     "execution_count": 33,
     "metadata": {},
     "output_type": "execute_result"
    }
   ],
   "source": [
    "topn_predict"
   ]
  },
  {
   "cell_type": "markdown",
   "metadata": {
    "id": "T5EEllYzgCSX"
   },
   "source": [
    "As you will have noticed, the two lists are sorted in different ways. The second list is organized according to the predictions made for the user.\n",
    "\n",
    "<b>Note</b>: When making predictions for user $u$ on item $i$, user $u$ may not have rated any of the $k$ most similar items to i. In this case, we consider the mean rating of $u$ as the predicted value."
   ]
  },
  {
   "cell_type": "markdown",
   "metadata": {
    "id": "uJ9FQoD_gCSY"
   },
   "source": [
    "## Evaluation with Mean Absolute Error"
   ]
  },
  {
   "cell_type": "code",
   "execution_count": 34,
   "metadata": {},
   "outputs": [],
   "source": [
    "def calculate_ndcg(actual, recommended):\n",
    "    dcg = 0\n",
    "    for i in range(len(recommended)):\n",
    "        item = recommended[i]\n",
    "        if item in actual:\n",
    "            dcg += 1 / np.log2(i + 2)  # Index starts at 0, so add 2\n",
    "    idcg = sum(1 / np.log2(i + 2) for i in range(len(actual)))\n",
    "    ndcg = dcg / idcg\n",
    "    return ndcg"
   ]
  },
  {
   "cell_type": "code",
   "execution_count": 35,
   "metadata": {
    "id": "GlFncHmBgCSZ"
   },
   "outputs": [],
   "source": [
    "from recsys.preprocessing import train_test_split, get_examples\n",
    "\n",
    "# get examples as tuples of userids and itemids and labels from normalize ratings\n",
    "raw_examples, raw_labels = get_examples(ratings, labels_column='rating')\n",
    "\n",
    "# train test split\n",
    "(x_train, x_test), (y_train, y_test) = train_test_split(examples=raw_examples, labels=raw_labels)\n",
    "\n",
    "# def evaluate(x_test, y_test):\n",
    "#     print('Evaluate the model on {} test data ...'.format(x_test.shape[0]))\n",
    "#     preds = list(predict(u,i) for (u,i) in x_test)\n",
    "#     mae = np.sum(np.absolute(y_test - np.array(preds))) / x_test.shape[0]\n",
    "#     print('\\nMAE :', mae)\n",
    "#     return mae\n",
    "\n",
    "from recsys.preprocessing import train_test_split, get_examples\n",
    "from sklearn.metrics import precision_score, recall_score\n",
    "\n",
    "# get examples as tuples of userids and itemids and labels from normalize ratings\n",
    "raw_examples, raw_labels = get_examples(ratings, labels_column='rating')\n",
    "\n",
    "# train test split\n",
    "(x_train, x_test), (y_train, y_test) = train_test_split(examples=raw_examples, labels=raw_labels)\n",
    "\n",
    "def evaluate(x_test, y_test):\n",
    "    print('Evaluate the model on {} test data ...'.format(x_test.shape[0]))\n",
    "    preds = list(predict(u,i) for (u,i) in x_test)\n",
    "    mae = np.sum(np.absolute(y_test - np.array(preds))) / x_test.shape[0]\n",
    "    print('\\nMAE :', mae)\n",
    "\n",
    "    precision = precision_score(y_test, list(map(int, preds)), average='micro')\n",
    "    print(f\"Precision: {precision:.4f}\")\n",
    "    \n",
    "    recall = recall_score(y_test, list(map(int, preds)), average='micro')\n",
    "    print(f\"Recall: {recall:.4f}\")\n",
    "    \n",
    "    ndcg = calculate_ndcg(y_test, list(map(int, preds)))\n",
    "    print(f\"Ndcg: {ndcg:.4f}\")\n",
    "\n",
    "    \n",
    "    # return mae"
   ]
  },
  {
   "cell_type": "code",
   "execution_count": 36,
   "metadata": {
    "id": "4e6Uah0OgCSa",
    "outputId": "dcf593f3-5c67-4796-914e-ebf88aa29b31"
   },
   "outputs": [
    {
     "name": "stdout",
     "output_type": "stream",
     "text": [
      "Evaluate the model on 100021 test data ...\n",
      "\n",
      "MAE : 0.767559125308571\n",
      "Precision: 0.3374\n",
      "Recall: 0.3374\n",
      "Ndcg: 0.9998\n"
     ]
    }
   ],
   "source": [
    "evaluate(x_test, y_test)"
   ]
  },
  {
   "cell_type": "code",
   "execution_count": 5,
   "metadata": {},
   "outputs": [],
   "source": [
    "# item_preds_df = pd.read_csv('item_based_predictions_with_genres.csv')[['genres', 'prediction']]\n",
    "# user_preds_df = pd.read_csv('user_based_predictions_with_genres.csv')[['genres', 'predicted_rating']]\n",
    "mf_preds_df = pd.read_csv('MF_predictions_with_genres.csv')[['genres', 'score']]"
   ]
  },
  {
   "cell_type": "code",
   "execution_count": 23,
   "metadata": {},
   "outputs": [],
   "source": [
    "import pandas as pd\n",
    "\n",
    "def compute_genre_distr(items_df):\n",
    "    \"\"\"Compute the genre distribution for a given DataFrame of items.\"\"\"\n",
    "    distr = {}\n",
    "\n",
    "    for index, row in items_df.iterrows():\n",
    "        genre = row['genres']\n",
    "        # score = row['rating']\n",
    "        # score = row['predicted_rating']\n",
    "        score = row['score']\n",
    "\n",
    "        genre_score = distr.get(genre, 0.)\n",
    "        distr[genre] = genre_score + score\n",
    "\n",
    "    # normalize the summed-up probability so it sums up to 1\n",
    "    # round it to three decimal places for added precision\n",
    "    for genre, genre_score in distr.items():\n",
    "        normed_genre_score = round(genre_score / len(items_df), 3)\n",
    "        distr[genre] = normed_genre_score\n",
    "\n",
    "    return distr"
   ]
  },
  {
   "cell_type": "code",
   "execution_count": 24,
   "metadata": {},
   "outputs": [],
   "source": [
    "# recommended_distr = compute_genre_distr(item_preds_df)\n",
    "# recommended_distr = compute_genre_distr(user_preds_df)\n",
    "recommended_distr = compute_genre_distr(mf_preds_df)"
   ]
  },
  {
   "cell_type": "code",
   "execution_count": 10,
   "metadata": {},
   "outputs": [],
   "source": [
    "items_interacted_df = pd.merge(ratings, movies, on='itemid', how='inner')[['genres', 'rating']]"
   ]
  },
  {
   "cell_type": "code",
   "execution_count": 14,
   "metadata": {},
   "outputs": [],
   "source": [
    "interacted_distr = compute_genre_distr(items_interacted_df)"
   ]
  },
  {
   "cell_type": "code",
   "execution_count": 15,
   "metadata": {},
   "outputs": [],
   "source": [
    "def replace_zero_with_small_value(input_dict, small_value=0.0001):\n",
    "    \"\"\"Replace all occurrences of 0 with a small_value in a dictionary.\"\"\"\n",
    "    return {key: small_value if value == 0 else value for key, value in input_dict.items()}\n",
    "\n",
    "# Example usage:\n",
    "original_dict = {'A': 0, 'B': 0.002, 'C': 0.005, 'D': 0}\n",
    "\n",
    "interacted_distr = replace_zero_with_small_value(interacted_distr)\n",
    "recommended_distr = replace_zero_with_small_value(recommended_distr)"
   ]
  },
  {
   "cell_type": "code",
   "execution_count": 18,
   "metadata": {},
   "outputs": [],
   "source": [
    "def compute_kl_divergence(interacted_distr, reco_distr, alpha=0.01):\n",
    "    \"\"\"\n",
    "    KL (p || q), the lower the better.\n",
    "\n",
    "    alpha is not really a tuning parameter, it's just there to make the\n",
    "    computation more numerically stable.\n",
    "    \"\"\"\n",
    "    kl_div = 0.\n",
    "    for genre, score in interacted_distr.items():\n",
    "        reco_score = reco_distr.get(genre, 0.)\n",
    "        reco_score = (1 - alpha) * reco_score + alpha * score\n",
    "        kl_div += score * np.log2(score / reco_score)\n",
    "\n",
    "    return kl_div"
   ]
  },
  {
   "cell_type": "code",
   "execution_count": 16,
   "metadata": {},
   "outputs": [
    {
     "data": {
      "image/png": "[encoded data removed]",
      "text/plain": [
       "<Figure size 720x576 with 1 Axes>"
      ]
     },
     "metadata": {
      "needs_background": "light"
     },
     "output_type": "display_data"
    }
   ],
   "source": [
    "# change default style figure and font size\n",
    "import matplotlib.pyplot as plt\n",
    "\n",
    "plt.rcParams['figure.figsize'] = 10, 8\n",
    "plt.rcParams['font.size'] = 12\n",
    "\n",
    "\n",
    "def distr_comparison_plot(interacted_distr, reco_distr, width=0.3):\n",
    "    \n",
    "    # the value will automatically be converted to a column with the\n",
    "    # column name of '0'\n",
    "    interacted = pd.DataFrame.from_dict(interacted_distr, orient='index')\n",
    "    reco = pd.DataFrame.from_dict(reco_distr, orient='index')\n",
    "    df = interacted.join(reco, how='outer', lsuffix='_interacted')\n",
    "\n",
    "    n = df.shape[0]\n",
    "    index = np.arange(n)\n",
    "    plt.barh(index, df['0_interacted'], height=width, label='interacted distr')\n",
    "    plt.barh(index + width, df['0'], height=width, label='reco distr')\n",
    "    plt.yticks(index, df.index)\n",
    "    plt.legend(bbox_to_anchor=(1, 0.5))\n",
    "    plt.title('Genre Distribution between User Historical Interaction v.s. Recommendation')\n",
    "    plt.ylabel('Genre')\n",
    "    plt.show()\n",
    "    \n",
    "    \n",
    "distr_comparison_plot(interacted_distr, recommended_distr)"
   ]
  },
  {
   "cell_type": "code",
   "execution_count": 20,
   "metadata": {},
   "outputs": [
    {
     "data": {
      "text/plain": [
       "15.450573841999976"
      ]
     },
     "execution_count": 20,
     "metadata": {},
     "output_type": "execute_result"
    }
   ],
   "source": [
    "compute_kl_divergence(interacted_distr, recommended_distr)"
   ]
  },
  {
   "cell_type": "code",
   "execution_count": 83,
   "metadata": {},
   "outputs": [
    {
     "data": {
      "text/plain": [
       "0.2730957213259282"
      ]
     },
     "execution_count": 83,
     "metadata": {},
     "output_type": "execute_result"
    }
   ],
   "source": [
    "compute_kl_divergence(interacted_distr, recommended_distr)"
   ]
  },
  {
   "cell_type": "code",
   "execution_count": 25,
   "metadata": {},
   "outputs": [
    {
     "data": {
      "text/plain": [
       "15.543525995381147"
      ]
     },
     "execution_count": 25,
     "metadata": {},
     "output_type": "execute_result"
    }
   ],
   "source": [
    "compute_kl_divergence(interacted_distr, recommended_distr)"
   ]
  },
  {
   "cell_type": "code",
   "execution_count": null,
   "metadata": {},
   "outputs": [],
   "source": [
    "import pandas as pd\n",
    "from recsys.datasets import ml1m\n",
    "\n",
    "\n",
    "def compute_genre_distr(items_df):\n",
    "    \"\"\"Compute the genre distribution for a given DataFrame of items.\"\"\"\n",
    "    distr = {}\n",
    "\n",
    "    for index, row in items_df.iterrows():\n",
    "        genre = row['genres']\n",
    "        score = row['rating']\n",
    "        # score = row['predicted_rating']\n",
    "        # score = row['score']\n",
    "\n",
    "        genre_score = distr.get(genre, 0.)\n",
    "        distr[genre] = genre_score + score\n",
    "\n",
    "    # normalize the summed-up probability so it sums up to 1\n",
    "    # round it to three decimal places for added precision\n",
    "    for genre, genre_score in distr.items():\n",
    "        normed_genre_score = round(genre_score / len(items_df), 3)\n",
    "        distr[genre] = normed_genre_score\n",
    "\n",
    "    return distr\n",
    "\n",
    "\n",
    "def replace_zero_with_small_value(input_dict, small_value=0.0001):\n",
    "    \"\"\"Replace all occurrences of 0 with a small_value in a dictionary.\"\"\"\n",
    "    return {key: small_value if value == 0 else value for key, value in input_dict.items()}\n",
    "\n",
    "\n",
    "def compute_kl_divergence(interacted_distr, reco_distr, alpha=0.01):\n",
    "    \"\"\"\n",
    "    KL (p || q), the lower the better.\n",
    "\n",
    "    alpha is not really a tuning parameter, it's just there to make the\n",
    "    computation more numerically stable.\n",
    "    \"\"\"\n",
    "    kl_div = 0.\n",
    "    for genre, score in interacted_distr.items():\n",
    "        reco_score = reco_distr.get(genre, 0.)\n",
    "        reco_score = (1 - alpha) * reco_score + alpha * score\n",
    "        kl_div += score * np.log2(score / reco_score)\n",
    "\n",
    "    return kl_div\n",
    "\n",
    "\n",
    "ratings, movies = ml1m.load()\n",
    "items_interacted_df = pd.merge(ratings, movies, on='itemid', how='inner')[['genres', 'rating']]\n",
    "\n",
    "item_preds_df = pd.read_csv('item_based_predictions_with_genres.csv')[['genres', 'prediction']]\n",
    "user_preds_df = pd.read_csv('user_based_predictions_with_genres.csv')[['genres', 'predicted_rating']]\n",
    "mf_preds_df = pd.read_csv('MF_predictions_with_genres.csv')[['genres', 'score']]\n",
    "\n",
    "interacted_distr = compute_genre_distr(items_interacted_df)\n",
    "\n",
    "# recommended_distr = compute_genre_distr(item_preds_df)\n",
    "# recommended_distr = compute_genre_distr(user_preds_df)\n",
    "recommended_distr = compute_genre_distr(mf_preds_df)\n",
    "\n",
    "interacted_distr = replace_zero_with_small_value(interacted_distr)\n",
    "recommended_distr = replace_zero_with_small_value(recommended_distr)\n",
    "\n",
    "compute_kl_divergence(interacted_distr, recommended_distr)"
   ]
  },
  {
   "cell_type": "markdown",
   "metadata": {
    "id": "3EkbFyUcgCSb"
   },
   "source": [
    "As with the User-based CF, we have also summarised the Item-based CF into the python class [ItemToItem](https://github.com/nzhinusoftcm/review-on-collaborative-filtering/blob/master/recsys/memories/ItemToItem.py). \n",
    "\n",
    "#### ItemToItem : usage"
   ]
  },
  {
   "cell_type": "code",
   "execution_count": 37,
   "metadata": {
    "id": "K73JoFtQgCSc"
   },
   "outputs": [],
   "source": [
    "from recsys.memories.ItemToItem import ItemToItem\n",
    "from recsys.preprocessing import ids_encoder, train_test_split, get_examples\n",
    "from recsys.datasets import ml1m\n",
    "\n",
    "# load data\n",
    "ratings, movies = ml1m.load()\n",
    "\n",
    "# prepare data\n",
    "ratings, uencoder, iencoder = ids_encoder(ratings)\n",
    "\n",
    "# get examples as tuples of userids and itemids and labels from normalize ratings\n",
    "raw_examples, raw_labels = get_examples(ratings, labels_column='rating')\n",
    "\n",
    "# train test split\n",
    "(x_train, x_test), (y_train, y_test) = train_test_split(examples=raw_examples, labels=raw_labels)"
   ]
  },
  {
   "cell_type": "markdown",
   "metadata": {
    "id": "5am0MnLhgCSd"
   },
   "source": [
    "#### Instanciate the ItemToItem CF\n",
    "\n",
    "Parameters :\n",
    "- ```k``` : number of neighbors to consider for each item\n",
    "- ```metric``` : metric to use when computing similarities : let's use **cosine**\n",
    "- ```dataset_name``` : in this example, we use the ml100k dataset"
   ]
  },
  {
   "cell_type": "code",
   "execution_count": 38,
   "metadata": {
    "id": "No4ablY5gCSe",
    "outputId": "86e9a079-8876-4c96-b3c9-e875e4d0327f"
   },
   "outputs": [
    {
     "name": "stdout",
     "output_type": "stream",
     "text": [
      "Normalize ratings ...\n",
      "Create the similarity model ...\n",
      "Compute nearest neighbors ...\n",
      "Item to item recommendation model created with success ...\n"
     ]
    }
   ],
   "source": [
    "# create the Item-based CF\n",
    "item2item = ItemToItem(ratings, movies, k=20, metric='cosine', dataset_name='ml1m')"
   ]
  },
  {
   "cell_type": "code",
   "execution_count": 39,
   "metadata": {
    "id": "rCJLUt0JgCSg",
    "outputId": "1c407c47-a08c-4dbb-bc4e-882aca17f82a"
   },
   "outputs": [
    {
     "name": "stdout",
     "output_type": "stream",
     "text": [
      "Evaluate the model on 100021 test data ...\n",
      "\n",
      "MAE : 0.42514728655396045\n",
      "Precision: 0.6365\n",
      "Recall: 0.6365\n",
      "Ndcg: 0.4883\n"
     ]
    },
    {
     "data": {
      "text/plain": [
       "0.42514728655396045"
      ]
     },
     "execution_count": 39,
     "metadata": {},
     "output_type": "execute_result"
    }
   ],
   "source": [
    "# evaluate the algorithm on test dataset\n",
    "item2item.evaluate(x_test, y_test)"
   ]
  },
  {
   "cell_type": "markdown",
   "metadata": {
    "id": "hZefVmFhgCSh"
   },
   "source": [
    "#### Evaluate the Item-based CF on the ML-1M dataset"
   ]
  }
 ],
 "metadata": {
  "colab": {
   "name": "3.Item-basedCollaborativeFiltering.ipynb",
   "provenance": [],
   "toc_visible": true
  },
  "kernelspec": {
   "display_name": "Python 3 (ORC)",
   "language": "python",
   "name": "sys_python3"
  },
  "language_info": {
   "codemirror_mode": {
    "name": "ipython",
    "version": 3
   },
   "file_extension": ".py",
   "mimetype": "text/x-python",
   "name": "python",
   "nbconvert_exporter": "python",
   "pygments_lexer": "ipython3",
   "version": "3.9.9"
  }
 },
 "nbformat": 4,
 "nbformat_minor": 4
}
