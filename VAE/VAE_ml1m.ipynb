{
 "cells": [
  {
   "cell_type": "code",
   "execution_count": null,
   "id": "36c3ae02",
   "metadata": {},
   "outputs": [],
   "source": [
    "pip install tensorflow==1.13.1"
   ]
  },
  {
   "cell_type": "code",
   "execution_count": null,
   "id": "8bcfdf63",
   "metadata": {},
   "outputs": [],
   "source": [
    "pip install scipy"
   ]
  },
  {
   "cell_type": "code",
   "execution_count": null,
   "id": "930321fc",
   "metadata": {},
   "outputs": [],
   "source": [
    "pip install matplotlib"
   ]
  },
  {
   "cell_type": "code",
   "execution_count": null,
   "id": "bfa4969d",
   "metadata": {},
   "outputs": [],
   "source": [
    "pip install seaborn"
   ]
  },
  {
   "cell_type": "code",
   "execution_count": null,
   "id": "dc068506",
   "metadata": {},
   "outputs": [],
   "source": [
    "pip install protobuf==3.20.0\n"
   ]
  },
  {
   "cell_type": "code",
   "execution_count": null,
   "id": "213f4865",
   "metadata": {},
   "outputs": [],
   "source": [
    "pip install bottleneck"
   ]
  },
  {
   "cell_type": "code",
   "execution_count": 1,
   "id": "36f5065c",
   "metadata": {},
   "outputs": [
    {
     "name": "stderr",
     "output_type": "stream",
     "text": [
      "/home/vkattera/py-env/lib/python3.7/site-packages/tensorflow/python/framework/dtypes.py:526: FutureWarning: Passing (type, 1) or '1type' as a synonym of type is deprecated; in a future version of numpy, it will be understood as (type, (1,)) / '(1,)type'.\n",
      "  _np_qint8 = np.dtype([(\"qint8\", np.int8, 1)])\n",
      "/home/vkattera/py-env/lib/python3.7/site-packages/tensorflow/python/framework/dtypes.py:527: FutureWarning: Passing (type, 1) or '1type' as a synonym of type is deprecated; in a future version of numpy, it will be understood as (type, (1,)) / '(1,)type'.\n",
      "  _np_quint8 = np.dtype([(\"quint8\", np.uint8, 1)])\n",
      "/home/vkattera/py-env/lib/python3.7/site-packages/tensorflow/python/framework/dtypes.py:528: FutureWarning: Passing (type, 1) or '1type' as a synonym of type is deprecated; in a future version of numpy, it will be understood as (type, (1,)) / '(1,)type'.\n",
      "  _np_qint16 = np.dtype([(\"qint16\", np.int16, 1)])\n",
      "/home/vkattera/py-env/lib/python3.7/site-packages/tensorflow/python/framework/dtypes.py:529: FutureWarning: Passing (type, 1) or '1type' as a synonym of type is deprecated; in a future version of numpy, it will be understood as (type, (1,)) / '(1,)type'.\n",
      "  _np_quint16 = np.dtype([(\"quint16\", np.uint16, 1)])\n",
      "/home/vkattera/py-env/lib/python3.7/site-packages/tensorflow/python/framework/dtypes.py:530: FutureWarning: Passing (type, 1) or '1type' as a synonym of type is deprecated; in a future version of numpy, it will be understood as (type, (1,)) / '(1,)type'.\n",
      "  _np_qint32 = np.dtype([(\"qint32\", np.int32, 1)])\n",
      "/home/vkattera/py-env/lib/python3.7/site-packages/tensorflow/python/framework/dtypes.py:535: FutureWarning: Passing (type, 1) or '1type' as a synonym of type is deprecated; in a future version of numpy, it will be understood as (type, (1,)) / '(1,)type'.\n",
      "  np_resource = np.dtype([(\"resource\", np.ubyte, 1)])\n"
     ]
    }
   ],
   "source": [
    "import os\n",
    "import shutil\n",
    "import sys\n",
    "\n",
    "import numpy as np\n",
    "from scipy import sparse\n",
    "\n",
    "import matplotlib.pyplot as plt\n",
    "%matplotlib inline\n",
    "\n",
    "import seaborn as sn\n",
    "sn.set()\n",
    "\n",
    "import pandas as pd\n",
    "\n",
    "import tensorflow as tf\n",
    "from tensorflow.contrib.layers import apply_regularization, l2_regularizer\n",
    "\n",
    "import bottleneck as bn"
   ]
  },
  {
   "cell_type": "code",
   "execution_count": 2,
   "id": "670deaea",
   "metadata": {},
   "outputs": [
    {
     "name": "stderr",
     "output_type": "stream",
     "text": [
      "/home/vkattera/py-env/lib/python3.7/site-packages/pandas/util/_decorators.py:311: ParserWarning: Falling back to the 'python' engine because the 'c' engine does not support regex separators (separators > 1 char and different from '\\s+' are interpreted as regex); you can avoid this warning by specifying engine='python'.\n",
      "  return func(*args, **kwargs)\n"
     ]
    }
   ],
   "source": [
    "raw_data = pd.read_csv('ml-1m/ml-1m/ratings.dat',header=None, delimiter='::', names = ['userId','movieId','rating','timestamp'])"
   ]
  },
  {
   "cell_type": "code",
   "execution_count": 3,
   "id": "df654957",
   "metadata": {},
   "outputs": [
    {
     "data": {
      "text/html": [
       "<div>\n",
       "<style scoped>\n",
       "    .dataframe tbody tr th:only-of-type {\n",
       "        vertical-align: middle;\n",
       "    }\n",
       "\n",
       "    .dataframe tbody tr th {\n",
       "        vertical-align: top;\n",
       "    }\n",
       "\n",
       "    .dataframe thead th {\n",
       "        text-align: right;\n",
       "    }\n",
       "</style>\n",
       "<table border=\"1\" class=\"dataframe\">\n",
       "  <thead>\n",
       "    <tr style=\"text-align: right;\">\n",
       "      <th></th>\n",
       "      <th>userId</th>\n",
       "      <th>movieId</th>\n",
       "      <th>rating</th>\n",
       "      <th>timestamp</th>\n",
       "    </tr>\n",
       "  </thead>\n",
       "  <tbody>\n",
       "    <tr>\n",
       "      <th>0</th>\n",
       "      <td>1</td>\n",
       "      <td>1193</td>\n",
       "      <td>5</td>\n",
       "      <td>978300760</td>\n",
       "    </tr>\n",
       "    <tr>\n",
       "      <th>1</th>\n",
       "      <td>1</td>\n",
       "      <td>661</td>\n",
       "      <td>3</td>\n",
       "      <td>978302109</td>\n",
       "    </tr>\n",
       "    <tr>\n",
       "      <th>2</th>\n",
       "      <td>1</td>\n",
       "      <td>914</td>\n",
       "      <td>3</td>\n",
       "      <td>978301968</td>\n",
       "    </tr>\n",
       "    <tr>\n",
       "      <th>3</th>\n",
       "      <td>1</td>\n",
       "      <td>3408</td>\n",
       "      <td>4</td>\n",
       "      <td>978300275</td>\n",
       "    </tr>\n",
       "    <tr>\n",
       "      <th>4</th>\n",
       "      <td>1</td>\n",
       "      <td>2355</td>\n",
       "      <td>5</td>\n",
       "      <td>978824291</td>\n",
       "    </tr>\n",
       "    <tr>\n",
       "      <th>...</th>\n",
       "      <td>...</td>\n",
       "      <td>...</td>\n",
       "      <td>...</td>\n",
       "      <td>...</td>\n",
       "    </tr>\n",
       "    <tr>\n",
       "      <th>1000204</th>\n",
       "      <td>6040</td>\n",
       "      <td>1091</td>\n",
       "      <td>1</td>\n",
       "      <td>956716541</td>\n",
       "    </tr>\n",
       "    <tr>\n",
       "      <th>1000205</th>\n",
       "      <td>6040</td>\n",
       "      <td>1094</td>\n",
       "      <td>5</td>\n",
       "      <td>956704887</td>\n",
       "    </tr>\n",
       "    <tr>\n",
       "      <th>1000206</th>\n",
       "      <td>6040</td>\n",
       "      <td>562</td>\n",
       "      <td>5</td>\n",
       "      <td>956704746</td>\n",
       "    </tr>\n",
       "    <tr>\n",
       "      <th>1000207</th>\n",
       "      <td>6040</td>\n",
       "      <td>1096</td>\n",
       "      <td>4</td>\n",
       "      <td>956715648</td>\n",
       "    </tr>\n",
       "    <tr>\n",
       "      <th>1000208</th>\n",
       "      <td>6040</td>\n",
       "      <td>1097</td>\n",
       "      <td>4</td>\n",
       "      <td>956715569</td>\n",
       "    </tr>\n",
       "  </tbody>\n",
       "</table>\n",
       "<p>1000209 rows × 4 columns</p>\n",
       "</div>"
      ],
      "text/plain": [
       "         userId  movieId  rating  timestamp\n",
       "0             1     1193       5  978300760\n",
       "1             1      661       3  978302109\n",
       "2             1      914       3  978301968\n",
       "3             1     3408       4  978300275\n",
       "4             1     2355       5  978824291\n",
       "...         ...      ...     ...        ...\n",
       "1000204    6040     1091       1  956716541\n",
       "1000205    6040     1094       5  956704887\n",
       "1000206    6040      562       5  956704746\n",
       "1000207    6040     1096       4  956715648\n",
       "1000208    6040     1097       4  956715569\n",
       "\n",
       "[1000209 rows x 4 columns]"
      ]
     },
     "execution_count": 3,
     "metadata": {},
     "output_type": "execute_result"
    }
   ],
   "source": [
    "raw_data"
   ]
  },
  {
   "cell_type": "code",
   "execution_count": 4,
   "id": "e947eefc",
   "metadata": {},
   "outputs": [
    {
     "name": "stderr",
     "output_type": "stream",
     "text": [
      "/home/vkattera/py-env/lib/python3.7/site-packages/pandas/util/_decorators.py:311: ParserWarning: Falling back to the 'python' engine because the 'c' engine does not support regex separators (separators > 1 char and different from '\\s+' are interpreted as regex); you can avoid this warning by specifying engine='python'.\n",
      "  return func(*args, **kwargs)\n"
     ]
    }
   ],
   "source": [
    "raw_movies = pd.read_csv('ml-1m/ml-1m/movies.dat',header=None, delimiter='::', names = ['movieId', 'title', 'genres'],encoding='ISO-8859-1')"
   ]
  },
  {
   "cell_type": "code",
   "execution_count": 5,
   "id": "63c68f0d",
   "metadata": {},
   "outputs": [
    {
     "name": "stdout",
     "output_type": "stream",
     "text": [
      "MovieID 1: Genres ['Animation', \"Children's\", 'Comedy']\n",
      "MovieID 2: Genres ['Adventure', \"Children's\", 'Fantasy']\n",
      "MovieID 3: Genres ['Comedy', 'Romance']\n",
      "MovieID 4: Genres ['Comedy', 'Drama']\n",
      "MovieID 5: Genres ['Comedy']\n"
     ]
    }
   ],
   "source": [
    "raw_movies['genres'] = raw_movies['genres'].apply(lambda x: x.split('|') if pd.notnull(x) else [])\n",
    "item_to_genre = pd.Series(raw_movies['genres'].values, index=raw_movies['movieId']).to_dict()\n",
    "\n",
    "# Print the dictionary to check\n",
    "for key in list(item_to_genre.keys())[:5]:  # printing only first 5 for brevity\n",
    "    print(f\"MovieID {key}: Genres {item_to_genre[key]}\")\n"
   ]
  },
  {
   "cell_type": "code",
   "execution_count": 6,
   "id": "027e98cd",
   "metadata": {},
   "outputs": [
    {
     "data": {
      "text/html": [
       "<div>\n",
       "<style scoped>\n",
       "    .dataframe tbody tr th:only-of-type {\n",
       "        vertical-align: middle;\n",
       "    }\n",
       "\n",
       "    .dataframe tbody tr th {\n",
       "        vertical-align: top;\n",
       "    }\n",
       "\n",
       "    .dataframe thead th {\n",
       "        text-align: right;\n",
       "    }\n",
       "</style>\n",
       "<table border=\"1\" class=\"dataframe\">\n",
       "  <thead>\n",
       "    <tr style=\"text-align: right;\">\n",
       "      <th></th>\n",
       "      <th>movieId</th>\n",
       "      <th>title</th>\n",
       "      <th>genres</th>\n",
       "    </tr>\n",
       "  </thead>\n",
       "  <tbody>\n",
       "    <tr>\n",
       "      <th>1176</th>\n",
       "      <td>1193</td>\n",
       "      <td>One Flew Over the Cuckoo's Nest (1975)</td>\n",
       "      <td>[Drama]</td>\n",
       "    </tr>\n",
       "  </tbody>\n",
       "</table>\n",
       "</div>"
      ],
      "text/plain": [
       "      movieId                                   title   genres\n",
       "1176     1193  One Flew Over the Cuckoo's Nest (1975)  [Drama]"
      ]
     },
     "execution_count": 6,
     "metadata": {},
     "output_type": "execute_result"
    }
   ],
   "source": [
    "raw_movies[raw_movies['movieId']==1193]"
   ]
  },
  {
   "cell_type": "code",
   "execution_count": 7,
   "id": "9f20917d",
   "metadata": {},
   "outputs": [],
   "source": [
    "raw_data = raw_data[raw_data['rating'] > 3.5]"
   ]
  },
  {
   "cell_type": "code",
   "execution_count": 8,
   "id": "9240d97f",
   "metadata": {},
   "outputs": [
    {
     "data": {
      "text/html": [
       "<div>\n",
       "<style scoped>\n",
       "    .dataframe tbody tr th:only-of-type {\n",
       "        vertical-align: middle;\n",
       "    }\n",
       "\n",
       "    .dataframe tbody tr th {\n",
       "        vertical-align: top;\n",
       "    }\n",
       "\n",
       "    .dataframe thead th {\n",
       "        text-align: right;\n",
       "    }\n",
       "</style>\n",
       "<table border=\"1\" class=\"dataframe\">\n",
       "  <thead>\n",
       "    <tr style=\"text-align: right;\">\n",
       "      <th></th>\n",
       "      <th>userId</th>\n",
       "      <th>movieId</th>\n",
       "      <th>rating</th>\n",
       "      <th>timestamp</th>\n",
       "    </tr>\n",
       "  </thead>\n",
       "  <tbody>\n",
       "    <tr>\n",
       "      <th>0</th>\n",
       "      <td>1</td>\n",
       "      <td>1193</td>\n",
       "      <td>5</td>\n",
       "      <td>978300760</td>\n",
       "    </tr>\n",
       "    <tr>\n",
       "      <th>3</th>\n",
       "      <td>1</td>\n",
       "      <td>3408</td>\n",
       "      <td>4</td>\n",
       "      <td>978300275</td>\n",
       "    </tr>\n",
       "    <tr>\n",
       "      <th>4</th>\n",
       "      <td>1</td>\n",
       "      <td>2355</td>\n",
       "      <td>5</td>\n",
       "      <td>978824291</td>\n",
       "    </tr>\n",
       "    <tr>\n",
       "      <th>6</th>\n",
       "      <td>1</td>\n",
       "      <td>1287</td>\n",
       "      <td>5</td>\n",
       "      <td>978302039</td>\n",
       "    </tr>\n",
       "    <tr>\n",
       "      <th>7</th>\n",
       "      <td>1</td>\n",
       "      <td>2804</td>\n",
       "      <td>5</td>\n",
       "      <td>978300719</td>\n",
       "    </tr>\n",
       "  </tbody>\n",
       "</table>\n",
       "</div>"
      ],
      "text/plain": [
       "   userId  movieId  rating  timestamp\n",
       "0       1     1193       5  978300760\n",
       "3       1     3408       4  978300275\n",
       "4       1     2355       5  978824291\n",
       "6       1     1287       5  978302039\n",
       "7       1     2804       5  978300719"
      ]
     },
     "execution_count": 8,
     "metadata": {},
     "output_type": "execute_result"
    }
   ],
   "source": [
    "raw_data.head()"
   ]
  },
  {
   "cell_type": "code",
   "execution_count": 9,
   "id": "e7575acb",
   "metadata": {},
   "outputs": [],
   "source": [
    "def get_count(tp, id):\n",
    "    playcount_groupbyid = tp.groupby(id, as_index=False).size()\n",
    "    return playcount_groupbyid\n",
    "\n",
    "def filter_triplets(tp, min_uc=5, min_sc=0):\n",
    "    # Only keep the triplets for items which were clicked on by at least min_sc users. \n",
    "    if min_sc > 0:\n",
    "        itemcount = get_count(tp, 'movieId')\n",
    "        tp = tp[tp['movieId'].isin(itemcount[itemcount['size'] >= min_sc]['movieId'])]\n",
    "    \n",
    "    # Only keep the triplets for users who clicked on at least min_uc items\n",
    "    if min_uc > 0:\n",
    "        usercount = get_count(tp, 'userId')\n",
    "        tp = tp[tp['userId'].isin(usercount[usercount['size'] >= min_uc]['userId'])]\n",
    "    \n",
    "    # Update both usercount and itemcount after filtering\n",
    "    usercount, itemcount = get_count(tp, 'userId'), get_count(tp, 'movieId') \n",
    "    return tp, usercount, itemcount\n",
    "\n",
    "# Assuming raw_data is already defined and is a DataFrame\n",
    "raw_data, user_activity, item_popularity = filter_triplets(raw_data)\n"
   ]
  },
  {
   "cell_type": "code",
   "execution_count": 10,
   "id": "58365b4d",
   "metadata": {},
   "outputs": [
    {
     "name": "stdout",
     "output_type": "stream",
     "text": [
      "After filtering, there are 575272 watching events from 6034 users and 3533 movies (sparsity: 2.699%)\n"
     ]
    }
   ],
   "source": [
    "sparsity = 1. * raw_data.shape[0] / (user_activity.shape[0] * item_popularity.shape[0])\n",
    "\n",
    "print(\"After filtering, there are %d watching events from %d users and %d movies (sparsity: %.3f%%)\" % \n",
    "      (raw_data.shape[0], user_activity.shape[0], item_popularity.shape[0], sparsity * 100))"
   ]
  },
  {
   "cell_type": "code",
   "execution_count": 11,
   "id": "b2939296",
   "metadata": {},
   "outputs": [
    {
     "data": {
      "text/plain": [
       "6034"
      ]
     },
     "execution_count": 11,
     "metadata": {},
     "output_type": "execute_result"
    }
   ],
   "source": [
    "unique_uid = len(user_activity)\n",
    "unique_uid"
   ]
  },
  {
   "cell_type": "code",
   "execution_count": 12,
   "id": "bf8c360f",
   "metadata": {},
   "outputs": [],
   "source": [
    "unique_uid = user_activity.index\n",
    "\n",
    "np.random.seed(98765)\n",
    "idx_perm = np.random.permutation(unique_uid.size)\n",
    "unique_uid = unique_uid[idx_perm]"
   ]
  },
  {
   "cell_type": "code",
   "execution_count": 13,
   "id": "e0542ab8",
   "metadata": {},
   "outputs": [],
   "source": [
    "# create train/validation/test users\n",
    "n_users = unique_uid.size\n",
    "n_heldout_users = 600\n",
    "\n",
    "tr_users = unique_uid[:(n_users - n_heldout_users * 2)]\n",
    "vd_users = unique_uid[(n_users - n_heldout_users * 2): (n_users - n_heldout_users)]\n",
    "te_users = unique_uid[(n_users - n_heldout_users):]"
   ]
  },
  {
   "cell_type": "code",
   "execution_count": 14,
   "id": "ebb52319",
   "metadata": {},
   "outputs": [
    {
     "data": {
      "text/plain": [
       "Int64Index([1866, 5656,  645, 3940, 1411, 5368, 4883, 1495, 2998, 3556,\n",
       "            ...\n",
       "            5221, 5104, 2361,  434, 5310, 5595, 4946, 2182, 4746, 3344],\n",
       "           dtype='int64', length=4834)"
      ]
     },
     "execution_count": 14,
     "metadata": {},
     "output_type": "execute_result"
    }
   ],
   "source": [
    "tr_users"
   ]
  },
  {
   "cell_type": "code",
   "execution_count": 15,
   "id": "0c342a0e",
   "metadata": {},
   "outputs": [
    {
     "data": {
      "text/plain": [
       "Int64Index([4044,  979, 3249,  464, 1823, 1002, 3022,  755, 3634, 5161,\n",
       "            ...\n",
       "            4904, 1820, 2692, 3686, 3969, 4809,  416, 1461, 5980, 3639],\n",
       "           dtype='int64', length=600)"
      ]
     },
     "execution_count": 15,
     "metadata": {},
     "output_type": "execute_result"
    }
   ],
   "source": [
    "vd_users"
   ]
  },
  {
   "cell_type": "code",
   "execution_count": 16,
   "id": "62ac9451",
   "metadata": {},
   "outputs": [
    {
     "data": {
      "text/plain": [
       "Int64Index([ 781, 1125, 5457, 4887,  792, 3726,  850,  929, 4840, 3386,\n",
       "            ...\n",
       "            4479,  921, 1412, 2057, 4827, 5040, 4013, 1388, 3571, 3861],\n",
       "           dtype='int64', length=600)"
      ]
     },
     "execution_count": 16,
     "metadata": {},
     "output_type": "execute_result"
    }
   ],
   "source": [
    "te_users"
   ]
  },
  {
   "cell_type": "code",
   "execution_count": 17,
   "id": "c5a29653",
   "metadata": {},
   "outputs": [],
   "source": [
    "train_plays = raw_data.loc[raw_data['userId'].isin(tr_users)]"
   ]
  },
  {
   "cell_type": "code",
   "execution_count": 18,
   "id": "eef78ec5",
   "metadata": {},
   "outputs": [
    {
     "data": {
      "text/html": [
       "<div>\n",
       "<style scoped>\n",
       "    .dataframe tbody tr th:only-of-type {\n",
       "        vertical-align: middle;\n",
       "    }\n",
       "\n",
       "    .dataframe tbody tr th {\n",
       "        vertical-align: top;\n",
       "    }\n",
       "\n",
       "    .dataframe thead th {\n",
       "        text-align: right;\n",
       "    }\n",
       "</style>\n",
       "<table border=\"1\" class=\"dataframe\">\n",
       "  <thead>\n",
       "    <tr style=\"text-align: right;\">\n",
       "      <th></th>\n",
       "      <th>userId</th>\n",
       "      <th>movieId</th>\n",
       "      <th>rating</th>\n",
       "      <th>timestamp</th>\n",
       "    </tr>\n",
       "  </thead>\n",
       "  <tbody>\n",
       "    <tr>\n",
       "      <th>0</th>\n",
       "      <td>1</td>\n",
       "      <td>1193</td>\n",
       "      <td>5</td>\n",
       "      <td>978300760</td>\n",
       "    </tr>\n",
       "    <tr>\n",
       "      <th>3</th>\n",
       "      <td>1</td>\n",
       "      <td>3408</td>\n",
       "      <td>4</td>\n",
       "      <td>978300275</td>\n",
       "    </tr>\n",
       "    <tr>\n",
       "      <th>4</th>\n",
       "      <td>1</td>\n",
       "      <td>2355</td>\n",
       "      <td>5</td>\n",
       "      <td>978824291</td>\n",
       "    </tr>\n",
       "    <tr>\n",
       "      <th>6</th>\n",
       "      <td>1</td>\n",
       "      <td>1287</td>\n",
       "      <td>5</td>\n",
       "      <td>978302039</td>\n",
       "    </tr>\n",
       "    <tr>\n",
       "      <th>7</th>\n",
       "      <td>1</td>\n",
       "      <td>2804</td>\n",
       "      <td>5</td>\n",
       "      <td>978300719</td>\n",
       "    </tr>\n",
       "    <tr>\n",
       "      <th>...</th>\n",
       "      <td>...</td>\n",
       "      <td>...</td>\n",
       "      <td>...</td>\n",
       "      <td>...</td>\n",
       "    </tr>\n",
       "    <tr>\n",
       "      <th>998325</th>\n",
       "      <td>6033</td>\n",
       "      <td>110</td>\n",
       "      <td>5</td>\n",
       "      <td>956713865</td>\n",
       "    </tr>\n",
       "    <tr>\n",
       "      <th>998327</th>\n",
       "      <td>6033</td>\n",
       "      <td>1012</td>\n",
       "      <td>4</td>\n",
       "      <td>956713483</td>\n",
       "    </tr>\n",
       "    <tr>\n",
       "      <th>998329</th>\n",
       "      <td>6033</td>\n",
       "      <td>1036</td>\n",
       "      <td>5</td>\n",
       "      <td>956713898</td>\n",
       "    </tr>\n",
       "    <tr>\n",
       "      <th>998332</th>\n",
       "      <td>6033</td>\n",
       "      <td>2016</td>\n",
       "      <td>4</td>\n",
       "      <td>956713483</td>\n",
       "    </tr>\n",
       "    <tr>\n",
       "      <th>998333</th>\n",
       "      <td>6033</td>\n",
       "      <td>2028</td>\n",
       "      <td>5</td>\n",
       "      <td>956713838</td>\n",
       "    </tr>\n",
       "  </tbody>\n",
       "</table>\n",
       "<p>462728 rows × 4 columns</p>\n",
       "</div>"
      ],
      "text/plain": [
       "        userId  movieId  rating  timestamp\n",
       "0            1     1193       5  978300760\n",
       "3            1     3408       4  978300275\n",
       "4            1     2355       5  978824291\n",
       "6            1     1287       5  978302039\n",
       "7            1     2804       5  978300719\n",
       "...        ...      ...     ...        ...\n",
       "998325    6033      110       5  956713865\n",
       "998327    6033     1012       4  956713483\n",
       "998329    6033     1036       5  956713898\n",
       "998332    6033     2016       4  956713483\n",
       "998333    6033     2028       5  956713838\n",
       "\n",
       "[462728 rows x 4 columns]"
      ]
     },
     "execution_count": 18,
     "metadata": {},
     "output_type": "execute_result"
    }
   ],
   "source": [
    "train_plays"
   ]
  },
  {
   "cell_type": "code",
   "execution_count": 19,
   "id": "c5870a94",
   "metadata": {},
   "outputs": [],
   "source": [
    "unique_sid = pd.unique(train_plays['movieId'])"
   ]
  },
  {
   "cell_type": "code",
   "execution_count": 20,
   "id": "cd2a3d23",
   "metadata": {},
   "outputs": [],
   "source": [
    "show2id = dict((sid, i) for (i, sid) in enumerate(unique_sid))\n",
    "profile2id = dict((pid, i) for (i, pid) in enumerate(unique_uid))"
   ]
  },
  {
   "cell_type": "code",
   "execution_count": 21,
   "id": "b24bfe38",
   "metadata": {},
   "outputs": [],
   "source": [
    "DATA_DIR = 'ml-1m'\n",
    "pro_dir = os.path.join(DATA_DIR, 'pro_sg')\n",
    "\n",
    "if not os.path.exists(pro_dir):\n",
    "    os.makedirs(pro_dir)\n",
    "\n",
    "with open(os.path.join(pro_dir, 'unique_sid.txt'), 'w') as f:\n",
    "    for sid in unique_sid:\n",
    "        f.write('%s\\n' % sid)"
   ]
  },
  {
   "cell_type": "code",
   "execution_count": 22,
   "id": "8404870f",
   "metadata": {},
   "outputs": [],
   "source": [
    "def split_train_test_proportion(data, test_prop=0.2):\n",
    "    data_grouped_by_user = data.groupby('userId')\n",
    "    tr_list, te_list = list(), list()\n",
    "\n",
    "    np.random.seed(98765)\n",
    "\n",
    "    for i, (_, group) in enumerate(data_grouped_by_user):\n",
    "        n_items_u = len(group)\n",
    "\n",
    "        if n_items_u >= 5:\n",
    "            idx = np.zeros(n_items_u, dtype='bool')\n",
    "            idx[np.random.choice(n_items_u, size=int(test_prop * n_items_u), replace=False).astype('int64')] = True\n",
    "\n",
    "            tr_list.append(group[np.logical_not(idx)])\n",
    "            te_list.append(group[idx])\n",
    "        else:\n",
    "            tr_list.append(group)\n",
    "\n",
    "        if i % 100 == 0:\n",
    "            print(\"%d users sampled\" % i)\n",
    "            sys.stdout.flush()\n",
    "\n",
    "    data_tr = pd.concat(tr_list)\n",
    "    data_te = pd.concat(te_list)\n",
    "    \n",
    "    return data_tr, data_te"
   ]
  },
  {
   "cell_type": "code",
   "execution_count": 23,
   "id": "3e7e0ad0",
   "metadata": {},
   "outputs": [],
   "source": [
    "vad_plays = raw_data.loc[raw_data['userId'].isin(vd_users)]\n",
    "vad_plays = vad_plays.loc[vad_plays['movieId'].isin(unique_sid)]"
   ]
  },
  {
   "cell_type": "code",
   "execution_count": 24,
   "id": "ff73e6c0",
   "metadata": {},
   "outputs": [
    {
     "name": "stdout",
     "output_type": "stream",
     "text": [
      "0 users sampled\n",
      "100 users sampled\n",
      "200 users sampled\n",
      "300 users sampled\n",
      "400 users sampled\n",
      "500 users sampled\n"
     ]
    }
   ],
   "source": [
    "vad_plays_tr, vad_plays_te = split_train_test_proportion(vad_plays)"
   ]
  },
  {
   "cell_type": "code",
   "execution_count": 25,
   "id": "58d0dc7d",
   "metadata": {},
   "outputs": [],
   "source": [
    "test_plays = raw_data.loc[raw_data['userId'].isin(te_users)]\n",
    "test_plays = test_plays.loc[test_plays['movieId'].isin(unique_sid)]"
   ]
  },
  {
   "cell_type": "code",
   "execution_count": 26,
   "id": "4794e538",
   "metadata": {},
   "outputs": [
    {
     "name": "stdout",
     "output_type": "stream",
     "text": [
      "0 users sampled\n",
      "100 users sampled\n",
      "200 users sampled\n",
      "300 users sampled\n",
      "400 users sampled\n",
      "500 users sampled\n"
     ]
    }
   ],
   "source": [
    "test_plays_tr, test_plays_te = split_train_test_proportion(test_plays)"
   ]
  },
  {
   "cell_type": "code",
   "execution_count": 27,
   "id": "5149ee6b",
   "metadata": {},
   "outputs": [],
   "source": [
    "def numerize(tp):\n",
    "    uid = list(map(lambda x: profile2id[x], tp['userId']))\n",
    "    sid = list(map(lambda x: show2id[x], tp['movieId']))\n",
    "    return pd.DataFrame(data={'uid': uid, 'sid': sid}, columns=['uid', 'sid'])"
   ]
  },
  {
   "cell_type": "code",
   "execution_count": 28,
   "id": "db9be903",
   "metadata": {},
   "outputs": [],
   "source": [
    "train_data = numerize(train_plays)\n",
    "train_data.to_csv(os.path.join(pro_dir, 'train.csv'), index=False)"
   ]
  },
  {
   "cell_type": "code",
   "execution_count": 29,
   "id": "ffd3ea9b",
   "metadata": {},
   "outputs": [],
   "source": [
    "vad_data_tr = numerize(vad_plays_tr)\n",
    "vad_data_tr.to_csv(os.path.join(pro_dir, 'validation_tr.csv'), index=False)"
   ]
  },
  {
   "cell_type": "code",
   "execution_count": 30,
   "id": "4ab72003",
   "metadata": {},
   "outputs": [],
   "source": [
    "vad_data_te = numerize(vad_plays_te)\n",
    "vad_data_te.to_csv(os.path.join(pro_dir, 'validation_te.csv'), index=False)"
   ]
  },
  {
   "cell_type": "code",
   "execution_count": 31,
   "id": "479a3ba8",
   "metadata": {},
   "outputs": [],
   "source": [
    "test_data_tr = numerize(test_plays_tr)\n",
    "test_data_tr.to_csv(os.path.join(pro_dir, 'test_tr.csv'), index=False)"
   ]
  },
  {
   "cell_type": "code",
   "execution_count": 32,
   "id": "fdf21aa8",
   "metadata": {},
   "outputs": [],
   "source": [
    "test_data_te = numerize(test_plays_te)\n",
    "test_data_te.to_csv(os.path.join(pro_dir, 'test_te.csv'), index=False)"
   ]
  },
  {
   "cell_type": "code",
   "execution_count": 33,
   "id": "86e6561d",
   "metadata": {},
   "outputs": [],
   "source": [
    "class MultiDAE(object):\n",
    "    def __init__(self, p_dims, q_dims=None, lam=0.01, lr=1e-3, random_seed=None):\n",
    "        self.p_dims = p_dims\n",
    "        if q_dims is None:\n",
    "            self.q_dims = p_dims[::-1]\n",
    "        else:\n",
    "            assert q_dims[0] == p_dims[-1], \"Input and output dimension must equal each other for autoencoders.\"\n",
    "            assert q_dims[-1] == p_dims[0], \"Latent dimension for p- and q-network mismatches.\"\n",
    "            self.q_dims = q_dims\n",
    "        self.dims = self.q_dims + self.p_dims[1:]\n",
    "        \n",
    "        self.lam = lam\n",
    "        self.lr = lr\n",
    "        self.random_seed = random_seed\n",
    "\n",
    "        self.construct_placeholders()\n",
    "\n",
    "    def construct_placeholders(self):        \n",
    "        self.input_ph = tf.placeholder(\n",
    "            dtype=tf.float32, shape=[None, self.dims[0]])\n",
    "        self.keep_prob_ph = tf.placeholder_with_default(1.0, shape=None)\n",
    "\n",
    "    def build_graph(self):\n",
    "\n",
    "        self.construct_weights()\n",
    "\n",
    "        saver, logits = self.forward_pass()\n",
    "        log_softmax_var = tf.nn.log_softmax(logits)\n",
    "\n",
    "        # per-user average negative log-likelihood\n",
    "        neg_ll = -tf.reduce_mean(tf.reduce_sum(\n",
    "            log_softmax_var * self.input_ph, axis=1))\n",
    "        # apply regularization to weights\n",
    "        reg = l2_regularizer(self.lam)\n",
    "        reg_var = apply_regularization(reg, self.weights)\n",
    "        # tensorflow l2 regularization multiply 0.5 to the l2 norm\n",
    "        # multiply 2 so that it is back in the same scale\n",
    "        loss = neg_ll + 2 * reg_var\n",
    "        \n",
    "        train_op = tf.train.AdamOptimizer(self.lr).minimize(loss)\n",
    "\n",
    "        # add summary statistics\n",
    "        tf.summary.scalar('negative_multi_ll', neg_ll)\n",
    "        tf.summary.scalar('loss', loss)\n",
    "        merged = tf.summary.merge_all()\n",
    "        return saver, logits, loss, train_op, merged\n",
    "\n",
    "    def forward_pass(self):\n",
    "        # construct forward graph        \n",
    "        h = tf.nn.l2_normalize(self.input_ph, 1)\n",
    "        h = tf.nn.dropout(h, self.keep_prob_ph)\n",
    "        \n",
    "        for i, (w, b) in enumerate(zip(self.weights, self.biases)):\n",
    "            h = tf.matmul(h, w) + b\n",
    "            \n",
    "            if i != len(self.weights) - 1:\n",
    "                h = tf.nn.tanh(h)\n",
    "        return tf.train.Saver(), h\n",
    "\n",
    "    def construct_weights(self):\n",
    "\n",
    "        self.weights = []\n",
    "        self.biases = []\n",
    "        \n",
    "        # define weights\n",
    "        for i, (d_in, d_out) in enumerate(zip(self.dims[:-1], self.dims[1:])):\n",
    "            weight_key = \"weight_{}to{}\".format(i, i+1)\n",
    "            bias_key = \"bias_{}\".format(i+1)\n",
    "            \n",
    "            self.weights.append(tf.get_variable(\n",
    "                name=weight_key, shape=[d_in, d_out],\n",
    "                initializer=tf.contrib.layers.xavier_initializer(\n",
    "                    seed=self.random_seed)))\n",
    "            \n",
    "            self.biases.append(tf.get_variable(\n",
    "                name=bias_key, shape=[d_out],\n",
    "                initializer=tf.truncated_normal_initializer(\n",
    "                    stddev=0.001, seed=self.random_seed)))\n",
    "            \n",
    "            # add summary stats\n",
    "            tf.summary.histogram(weight_key, self.weights[-1])\n",
    "            tf.summary.histogram(bias_key, self.biases[-1])"
   ]
  },
  {
   "cell_type": "code",
   "execution_count": 34,
   "id": "1110f5b3",
   "metadata": {},
   "outputs": [],
   "source": [
    "class MultiVAE(MultiDAE):\n",
    "\n",
    "    def construct_placeholders(self):\n",
    "        super(MultiVAE, self).construct_placeholders()\n",
    "\n",
    "        # placeholders with default values when scoring\n",
    "        self.is_training_ph = tf.placeholder_with_default(0., shape=None)\n",
    "        self.anneal_ph = tf.placeholder_with_default(1., shape=None)\n",
    "        \n",
    "    def build_graph(self):\n",
    "        self._construct_weights()\n",
    "\n",
    "        saver, logits, KL = self.forward_pass()\n",
    "        log_softmax_var = tf.nn.log_softmax(logits)\n",
    "\n",
    "        neg_ll = -tf.reduce_mean(tf.reduce_sum(\n",
    "            log_softmax_var * self.input_ph,\n",
    "            axis=-1))\n",
    "        # apply regularization to weights\n",
    "        reg = l2_regularizer(self.lam)\n",
    "        \n",
    "        reg_var = apply_regularization(reg, self.weights_q + self.weights_p)\n",
    "        # tensorflow l2 regularization multiply 0.5 to the l2 norm\n",
    "        # multiply 2 so that it is back in the same scale\n",
    "        neg_ELBO = neg_ll + self.anneal_ph * KL + 2 * reg_var\n",
    "        \n",
    "        train_op = tf.train.AdamOptimizer(self.lr).minimize(neg_ELBO)\n",
    "\n",
    "        # add summary statistics\n",
    "        tf.summary.scalar('negative_multi_ll', neg_ll)\n",
    "        tf.summary.scalar('KL', KL)\n",
    "        tf.summary.scalar('neg_ELBO_train', neg_ELBO)\n",
    "        merged = tf.summary.merge_all()\n",
    "\n",
    "        return saver, logits, neg_ELBO, train_op, merged\n",
    "    \n",
    "    def q_graph(self):\n",
    "        mu_q, std_q, KL = None, None, None\n",
    "        \n",
    "        h = tf.nn.l2_normalize(self.input_ph, 1)\n",
    "        h = tf.nn.dropout(h, self.keep_prob_ph)\n",
    "        \n",
    "        for i, (w, b) in enumerate(zip(self.weights_q, self.biases_q)):\n",
    "            h = tf.matmul(h, w) + b\n",
    "            \n",
    "            if i != len(self.weights_q) - 1:\n",
    "                h = tf.nn.tanh(h)\n",
    "            else:\n",
    "                mu_q = h[:, :self.q_dims[-1]]\n",
    "                logvar_q = h[:, self.q_dims[-1]:]\n",
    "\n",
    "                std_q = tf.exp(0.5 * logvar_q)\n",
    "                KL = tf.reduce_mean(tf.reduce_sum(\n",
    "                        0.5 * (-logvar_q + tf.exp(logvar_q) + mu_q**2 - 1), axis=1))\n",
    "        return mu_q, std_q, KL\n",
    "\n",
    "    def p_graph(self, z):\n",
    "        h = z\n",
    "        \n",
    "        for i, (w, b) in enumerate(zip(self.weights_p, self.biases_p)):\n",
    "            h = tf.matmul(h, w) + b\n",
    "            \n",
    "            if i != len(self.weights_p) - 1:\n",
    "                h = tf.nn.tanh(h)\n",
    "        return h\n",
    "\n",
    "    def forward_pass(self):\n",
    "        # q-network\n",
    "        mu_q, std_q, KL = self.q_graph()\n",
    "        self.kl_divergence = KL\n",
    "        epsilon = tf.random_normal(tf.shape(std_q))\n",
    "\n",
    "        sampled_z = mu_q + self.is_training_ph *\\\n",
    "            epsilon * std_q\n",
    "\n",
    "        # p-network\n",
    "        logits = self.p_graph(sampled_z)\n",
    "        \n",
    "        return tf.train.Saver(), logits, KL\n",
    "\n",
    "    def _construct_weights(self):\n",
    "        self.weights_q, self.biases_q = [], []\n",
    "        \n",
    "        for i, (d_in, d_out) in enumerate(zip(self.q_dims[:-1], self.q_dims[1:])):\n",
    "            if i == len(self.q_dims[:-1]) - 1:\n",
    "                # we need two sets of parameters for mean and variance,\n",
    "                # respectively\n",
    "                d_out *= 2\n",
    "            weight_key = \"weight_q_{}to{}\".format(i, i+1)\n",
    "            bias_key = \"bias_q_{}\".format(i+1)\n",
    "            \n",
    "            self.weights_q.append(tf.get_variable(\n",
    "                name=weight_key, shape=[d_in, d_out],\n",
    "                initializer=tf.contrib.layers.xavier_initializer(\n",
    "                    seed=self.random_seed)))\n",
    "            \n",
    "            self.biases_q.append(tf.get_variable(\n",
    "                name=bias_key, shape=[d_out],\n",
    "                initializer=tf.truncated_normal_initializer(\n",
    "                    stddev=0.001, seed=self.random_seed)))\n",
    "            \n",
    "            # add summary stats\n",
    "            tf.summary.histogram(weight_key, self.weights_q[-1])\n",
    "            tf.summary.histogram(bias_key, self.biases_q[-1])\n",
    "            \n",
    "        self.weights_p, self.biases_p = [], []\n",
    "\n",
    "        for i, (d_in, d_out) in enumerate(zip(self.p_dims[:-1], self.p_dims[1:])):\n",
    "            weight_key = \"weight_p_{}to{}\".format(i, i+1)\n",
    "            bias_key = \"bias_p_{}\".format(i+1)\n",
    "            self.weights_p.append(tf.get_variable(\n",
    "                name=weight_key, shape=[d_in, d_out],\n",
    "                initializer=tf.contrib.layers.xavier_initializer(\n",
    "                    seed=self.random_seed)))\n",
    "            \n",
    "            self.biases_p.append(tf.get_variable(\n",
    "                name=bias_key, shape=[d_out],\n",
    "                initializer=tf.truncated_normal_initializer(\n",
    "                    stddev=0.001, seed=self.random_seed)))\n",
    "            \n",
    "            # add summary stats\n",
    "            tf.summary.histogram(weight_key, self.weights_p[-1])\n",
    "            tf.summary.histogram(bias_key, self.biases_p[-1])"
   ]
  },
  {
   "cell_type": "code",
   "execution_count": 35,
   "id": "d8e15ee0",
   "metadata": {},
   "outputs": [],
   "source": [
    "unique_sid = list()\n",
    "with open(os.path.join(pro_dir, 'unique_sid.txt'), 'r') as f:\n",
    "    for line in f:\n",
    "        unique_sid.append(line.strip())\n",
    "\n",
    "n_items = len(unique_sid)"
   ]
  },
  {
   "cell_type": "code",
   "execution_count": 36,
   "id": "0a1bbc66",
   "metadata": {},
   "outputs": [],
   "source": [
    "def load_train_data(csv_file):\n",
    "    tp = pd.read_csv(csv_file)\n",
    "    n_users = tp['uid'].max() + 1\n",
    "\n",
    "    rows, cols = tp['uid'], tp['sid']\n",
    "    data = sparse.csr_matrix((np.ones_like(rows),\n",
    "                             (rows, cols)), dtype='float64',\n",
    "                             shape=(n_users, n_items))\n",
    "    return data"
   ]
  },
  {
   "cell_type": "code",
   "execution_count": 37,
   "id": "95790f5b",
   "metadata": {},
   "outputs": [],
   "source": [
    "train_data = load_train_data(os.path.join(pro_dir, 'train.csv'))"
   ]
  },
  {
   "cell_type": "code",
   "execution_count": 38,
   "id": "c8bd7648",
   "metadata": {},
   "outputs": [],
   "source": [
    "def load_tr_te_data(csv_file_tr, csv_file_te):\n",
    "    tp_tr = pd.read_csv(csv_file_tr)\n",
    "    tp_te = pd.read_csv(csv_file_te)\n",
    "\n",
    "    start_idx = min(tp_tr['uid'].min(), tp_te['uid'].min())\n",
    "    end_idx = max(tp_tr['uid'].max(), tp_te['uid'].max())\n",
    "\n",
    "    rows_tr, cols_tr = tp_tr['uid'] - start_idx, tp_tr['sid']\n",
    "    rows_te, cols_te = tp_te['uid'] - start_idx, tp_te['sid']\n",
    "\n",
    "    data_tr = sparse.csr_matrix((np.ones_like(rows_tr),\n",
    "                             (rows_tr, cols_tr)), dtype='float64', shape=(end_idx - start_idx + 1, n_items))\n",
    "    data_te = sparse.csr_matrix((np.ones_like(rows_te),\n",
    "                             (rows_te, cols_te)), dtype='float64', shape=(end_idx - start_idx + 1, n_items))\n",
    "    return data_tr, data_te"
   ]
  },
  {
   "cell_type": "code",
   "execution_count": 39,
   "id": "1b01a66a",
   "metadata": {},
   "outputs": [],
   "source": [
    "vad_data_tr, vad_data_te = load_tr_te_data(os.path.join(pro_dir, 'validation_tr.csv'),\n",
    "                                           os.path.join(pro_dir, 'validation_te.csv'))"
   ]
  },
  {
   "cell_type": "code",
   "execution_count": 40,
   "id": "4e3065b3",
   "metadata": {},
   "outputs": [],
   "source": [
    "N = train_data.shape[0]\n",
    "idxlist = list(range(N))\n",
    "\n",
    "# training batch size\n",
    "batch_size = 100\n",
    "batches_per_epoch = int(np.ceil(float(N) / batch_size))\n",
    "\n",
    "N_vad = vad_data_tr.shape[0]\n",
    "idxlist_vad = list(range(N_vad))\n",
    "\n",
    "# validation batch size (since the entire validation set might not fit into GPU memory)\n",
    "batch_size_vad = 30\n",
    "\n",
    "# the total number of gradient updates for annealing\n",
    "total_anneal_steps = 200000\n",
    "# largest annealing parameter\n",
    "anneal_cap = 0.2"
   ]
  },
  {
   "cell_type": "code",
   "execution_count": 41,
   "id": "afdb0e93",
   "metadata": {},
   "outputs": [],
   "source": [
    "def NDCG_binary_at_k_batch(X_pred, heldout_batch, k=100):\n",
    "    '''\n",
    "    normalized discounted cumulative gain@k for binary relevance\n",
    "    ASSUMPTIONS: all the 0's in heldout_data indicate 0 relevance\n",
    "    '''\n",
    "    batch_users = X_pred.shape[0]\n",
    "    idx_topk_part = bn.argpartition(-X_pred, k, axis=1)\n",
    "    topk_part = X_pred[np.arange(batch_users)[:, np.newaxis],\n",
    "                       idx_topk_part[:, :k]]\n",
    "    idx_part = np.argsort(-topk_part, axis=1)\n",
    "    # X_pred[np.arange(batch_users)[:, np.newaxis], idx_topk] is the sorted\n",
    "    # topk predicted score\n",
    "    idx_topk = idx_topk_part[np.arange(batch_users)[:, np.newaxis], idx_part]\n",
    "    # build the discount template\n",
    "    tp = 1. / np.log2(np.arange(2, k + 2))\n",
    "\n",
    "    DCG = (heldout_batch[np.arange(batch_users)[:, np.newaxis],\n",
    "                         idx_topk].toarray() * tp).sum(axis=1)\n",
    "    IDCG = np.array([(tp[:min(n, k)]).sum()\n",
    "                     for n in heldout_batch.getnnz(axis=1)])\n",
    "    return DCG / IDCG"
   ]
  },
  {
   "cell_type": "code",
   "execution_count": 42,
   "id": "b6364dd9",
   "metadata": {},
   "outputs": [],
   "source": [
    "def Recall_at_k_batch(X_pred, heldout_batch, k=100):\n",
    "    batch_users = X_pred.shape[0]\n",
    "\n",
    "    idx = bn.argpartition(-X_pred, k, axis=1)\n",
    "    X_pred_binary = np.zeros_like(X_pred, dtype=bool)\n",
    "    X_pred_binary[np.arange(batch_users)[:, np.newaxis], idx[:, :k]] = True\n",
    "\n",
    "    X_true_binary = (heldout_batch > 0).toarray()\n",
    "    tmp = (np.logical_and(X_true_binary, X_pred_binary).sum(axis=1)).astype(\n",
    "        np.float32)\n",
    "    recall = tmp / np.minimum(k, X_true_binary.sum(axis=1))\n",
    "    return recall"
   ]
  },
  {
   "cell_type": "code",
   "execution_count": 43,
   "id": "aee92eb0",
   "metadata": {},
   "outputs": [],
   "source": [
    "#p_dims = [200, 600, n_items]\n",
    "p_dims = [70, 200, n_items]"
   ]
  },
  {
   "cell_type": "code",
   "execution_count": 44,
   "id": "f242f15c",
   "metadata": {},
   "outputs": [
    {
     "name": "stdout",
     "output_type": "stream",
     "text": [
      "WARNING:tensorflow:From /home/vkattera/py-env/lib/python3.7/site-packages/tensorflow/python/framework/op_def_library.py:263: colocate_with (from tensorflow.python.framework.ops) is deprecated and will be removed in a future version.\n",
      "Instructions for updating:\n",
      "Colocations handled automatically by placer.\n",
      "WARNING:tensorflow:From /tmp/ipykernel_775555/2296943984.py:41: calling dropout (from tensorflow.python.ops.nn_ops) with keep_prob is deprecated and will be removed in a future version.\n",
      "Instructions for updating:\n",
      "Please use `rate` instead of `keep_prob`. Rate should be set to `rate = 1 - keep_prob`.\n",
      "INFO:tensorflow:Scale of 0 disables regularizer.\n",
      "WARNING:tensorflow:From /home/vkattera/py-env/lib/python3.7/site-packages/tensorflow/python/ops/math_ops.py:3066: to_int32 (from tensorflow.python.ops.math_ops) is deprecated and will be removed in a future version.\n",
      "Instructions for updating:\n",
      "Use tf.cast instead.\n"
     ]
    }
   ],
   "source": [
    "tf.reset_default_graph()\n",
    "vae = MultiVAE(p_dims, lam=0.0, random_seed=98765)\n",
    "\n",
    "saver, logits_var, loss_var, train_op_var, merged_var = vae.build_graph()\n",
    "\n",
    "ndcg_var = tf.Variable(0.0)\n",
    "ndcg_dist_var = tf.placeholder(dtype=tf.float64, shape=None)\n",
    "ndcg_summary = tf.summary.scalar('ndcg_at_k_validation', ndcg_var)\n",
    "ndcg_dist_summary = tf.summary.histogram('ndcg_at_k_hist_validation', ndcg_dist_var)\n",
    "merged_valid = tf.summary.merge([ndcg_summary, ndcg_dist_summary])"
   ]
  },
  {
   "cell_type": "code",
   "execution_count": 45,
   "id": "55f2f9d7",
   "metadata": {},
   "outputs": [],
   "source": [
    "arch_str = \"I-%s-I\" % ('-'.join([str(d) for d in vae.dims[1:-1]]))"
   ]
  },
  {
   "cell_type": "code",
   "execution_count": 46,
   "id": "44c36d75",
   "metadata": {},
   "outputs": [],
   "source": [
    "n_epochs = 200"
   ]
  },
  {
   "cell_type": "code",
   "execution_count": 47,
   "id": "c43faf75",
   "metadata": {},
   "outputs": [
    {
     "name": "stdout",
     "output_type": "stream",
     "text": [
      "log directory: ml-1m/volmount/log/ml-20m/VAE_anneal200.0K_cap2.0E-01/I-200-70-200-I\n"
     ]
    }
   ],
   "source": [
    "log_dir = 'ml-1m/volmount/log/ml-20m/VAE_anneal{}K_cap{:1.1E}/{}'.format(\n",
    "    total_anneal_steps/1000, anneal_cap, arch_str)\n",
    "\n",
    "if os.path.exists(log_dir):\n",
    "    shutil.rmtree(log_dir)\n",
    "\n",
    "print(\"log directory: %s\" % log_dir)\n",
    "summary_writer = tf.summary.FileWriter(log_dir, graph=tf.get_default_graph())"
   ]
  },
  {
   "cell_type": "code",
   "execution_count": 48,
   "id": "aef9daa5",
   "metadata": {},
   "outputs": [
    {
     "name": "stdout",
     "output_type": "stream",
     "text": [
      "chkpt directory: ml-1m/volmount/chkpt/ml-20m/VAE_anneal200.0K_cap2.0E-01/I-200-70-200-I\n"
     ]
    }
   ],
   "source": [
    "chkpt_dir = 'ml-1m/volmount/chkpt/ml-20m/VAE_anneal{}K_cap{:1.1E}/{}'.format(\n",
    "    total_anneal_steps/1000, anneal_cap, arch_str)\n",
    "\n",
    "if not os.path.isdir(chkpt_dir):\n",
    "    os.makedirs(chkpt_dir) \n",
    "    \n",
    "print(\"chkpt directory: %s\" % chkpt_dir)"
   ]
  },
  {
   "cell_type": "code",
   "execution_count": 49,
   "id": "2281a31d",
   "metadata": {},
   "outputs": [
    {
     "name": "stderr",
     "output_type": "stream",
     "text": [
      "2023-12-03 18:43:41.360054: I tensorflow/core/platform/cpu_feature_guard.cc:141] Your CPU supports instructions that this TensorFlow binary was not compiled to use: AVX2 FMA\n",
      "2023-12-03 18:43:41.375719: I tensorflow/core/platform/profile_utils/cpu_utils.cc:94] CPU Frequency: 2794965000 Hz\n",
      "2023-12-03 18:43:41.376008: I tensorflow/compiler/xla/service/service.cc:150] XLA service 0x8165590 executing computations on platform Host. Devices:\n",
      "2023-12-03 18:43:41.376023: I tensorflow/compiler/xla/service/service.cc:158]   StreamExecutor device (0): <undefined>, <undefined>\n"
     ]
    },
    {
     "name": "stdout",
     "output_type": "stream",
     "text": [
      "Epoch: 0, Avg NDCG: 0.2058, Avg KL Div: 44.3032\n",
      "Epoch: 1, Avg NDCG: 0.2094, Avg KL Div: 122.9106\n",
      "Epoch: 2, Avg NDCG: 0.2378, Avg KL Div: 124.4506\n",
      "Epoch: 3, Avg NDCG: 0.2725, Avg KL Div: 132.4980\n",
      "Epoch: 4, Avg NDCG: 0.2942, Avg KL Div: 138.2431\n",
      "Epoch: 5, Avg NDCG: 0.3085, Avg KL Div: 145.1928\n",
      "Epoch: 6, Avg NDCG: 0.3192, Avg KL Div: 155.8970\n",
      "Epoch: 7, Avg NDCG: 0.3306, Avg KL Div: 169.0960\n",
      "Epoch: 8, Avg NDCG: 0.3386, Avg KL Div: 175.7214\n",
      "Epoch: 9, Avg NDCG: 0.3484, Avg KL Div: 180.6747\n",
      "Epoch: 10, Avg NDCG: 0.3487, Avg KL Div: 182.3985\n",
      "Epoch: 11, Avg NDCG: 0.3508, Avg KL Div: 185.6777\n",
      "Epoch: 12, Avg NDCG: 0.3535, Avg KL Div: 185.8915\n",
      "Epoch: 13, Avg NDCG: 0.3536, Avg KL Div: 184.5927\n",
      "Epoch: 14, Avg NDCG: 0.3592, Avg KL Div: 182.2685\n",
      "Epoch: 15, Avg NDCG: 0.3547, Avg KL Div: 181.4612\n",
      "Epoch: 16, Avg NDCG: 0.3596, Avg KL Div: 178.4510\n",
      "Epoch: 17, Avg NDCG: 0.3632, Avg KL Div: 176.9946\n",
      "Epoch: 18, Avg NDCG: 0.3630, Avg KL Div: 175.5807\n",
      "Epoch: 19, Avg NDCG: 0.3663, Avg KL Div: 176.6584\n",
      "Epoch: 20, Avg NDCG: 0.3679, Avg KL Div: 175.2833\n",
      "Epoch: 21, Avg NDCG: 0.3676, Avg KL Div: 172.9546\n",
      "Epoch: 22, Avg NDCG: 0.3657, Avg KL Div: 170.7319\n",
      "Epoch: 23, Avg NDCG: 0.3675, Avg KL Div: 169.8660\n",
      "Epoch: 24, Avg NDCG: 0.3714, Avg KL Div: 167.5162\n",
      "Epoch: 25, Avg NDCG: 0.3768, Avg KL Div: 166.2649\n",
      "Epoch: 26, Avg NDCG: 0.3780, Avg KL Div: 165.8012\n",
      "Epoch: 27, Avg NDCG: 0.3787, Avg KL Div: 165.4977\n",
      "Epoch: 28, Avg NDCG: 0.3818, Avg KL Div: 163.8152\n",
      "Epoch: 29, Avg NDCG: 0.3809, Avg KL Div: 163.9149\n",
      "Epoch: 30, Avg NDCG: 0.3781, Avg KL Div: 165.0506\n",
      "Epoch: 31, Avg NDCG: 0.3818, Avg KL Div: 164.4348\n",
      "Epoch: 32, Avg NDCG: 0.3831, Avg KL Div: 162.4784\n",
      "Epoch: 33, Avg NDCG: 0.3808, Avg KL Div: 160.4219\n",
      "Epoch: 34, Avg NDCG: 0.3812, Avg KL Div: 159.9318\n",
      "Epoch: 35, Avg NDCG: 0.3844, Avg KL Div: 160.2219\n",
      "Epoch: 36, Avg NDCG: 0.3813, Avg KL Div: 160.3685\n",
      "Epoch: 37, Avg NDCG: 0.3826, Avg KL Div: 159.3430\n",
      "Epoch: 38, Avg NDCG: 0.3851, Avg KL Div: 158.9514\n",
      "Epoch: 39, Avg NDCG: 0.3837, Avg KL Div: 158.3484\n",
      "Epoch: 40, Avg NDCG: 0.3816, Avg KL Div: 157.2776\n",
      "Epoch: 41, Avg NDCG: 0.3840, Avg KL Div: 157.7541\n",
      "Epoch: 42, Avg NDCG: 0.3842, Avg KL Div: 156.7419\n",
      "Epoch: 43, Avg NDCG: 0.3847, Avg KL Div: 154.7302\n",
      "Epoch: 44, Avg NDCG: 0.3877, Avg KL Div: 153.7705\n",
      "Epoch: 45, Avg NDCG: 0.3835, Avg KL Div: 153.5505\n",
      "Epoch: 46, Avg NDCG: 0.3821, Avg KL Div: 153.3174\n",
      "Epoch: 47, Avg NDCG: 0.3846, Avg KL Div: 153.6736\n",
      "Epoch: 48, Avg NDCG: 0.3852, Avg KL Div: 152.5509\n",
      "Epoch: 49, Avg NDCG: 0.3847, Avg KL Div: 151.4701\n",
      "Epoch: 50, Avg NDCG: 0.3865, Avg KL Div: 150.3484\n",
      "Epoch: 51, Avg NDCG: 0.3862, Avg KL Div: 150.7204\n",
      "Epoch: 52, Avg NDCG: 0.3868, Avg KL Div: 149.8981\n",
      "Epoch: 53, Avg NDCG: 0.3851, Avg KL Div: 147.9801\n",
      "Epoch: 54, Avg NDCG: 0.3865, Avg KL Div: 148.5570\n",
      "Epoch: 55, Avg NDCG: 0.3876, Avg KL Div: 148.0721\n",
      "Epoch: 56, Avg NDCG: 0.3870, Avg KL Div: 147.8800\n",
      "Epoch: 57, Avg NDCG: 0.3870, Avg KL Div: 147.6552\n",
      "Epoch: 58, Avg NDCG: 0.3861, Avg KL Div: 148.0405\n",
      "Epoch: 59, Avg NDCG: 0.3850, Avg KL Div: 145.8636\n",
      "Epoch: 60, Avg NDCG: 0.3849, Avg KL Div: 147.1079\n",
      "Epoch: 61, Avg NDCG: 0.3879, Avg KL Div: 145.9287\n",
      "Epoch: 62, Avg NDCG: 0.3852, Avg KL Div: 145.4293\n",
      "Epoch: 63, Avg NDCG: 0.3879, Avg KL Div: 145.3505\n",
      "Epoch: 64, Avg NDCG: 0.3859, Avg KL Div: 145.2365\n",
      "Epoch: 65, Avg NDCG: 0.3861, Avg KL Div: 144.8665\n",
      "Epoch: 66, Avg NDCG: 0.3851, Avg KL Div: 145.2683\n",
      "Epoch: 67, Avg NDCG: 0.3864, Avg KL Div: 145.0491\n",
      "Epoch: 68, Avg NDCG: 0.3843, Avg KL Div: 143.5871\n",
      "Epoch: 69, Avg NDCG: 0.3862, Avg KL Div: 142.3027\n",
      "Epoch: 70, Avg NDCG: 0.3869, Avg KL Div: 143.4883\n",
      "Epoch: 71, Avg NDCG: 0.3876, Avg KL Div: 143.8908\n",
      "Epoch: 72, Avg NDCG: 0.3848, Avg KL Div: 143.1786\n",
      "Epoch: 73, Avg NDCG: 0.3858, Avg KL Div: 143.6974\n",
      "Epoch: 74, Avg NDCG: 0.3873, Avg KL Div: 142.4667\n",
      "Epoch: 75, Avg NDCG: 0.3876, Avg KL Div: 142.2693\n",
      "Epoch: 76, Avg NDCG: 0.3877, Avg KL Div: 142.1258\n",
      "Epoch: 77, Avg NDCG: 0.3858, Avg KL Div: 142.7361\n",
      "Epoch: 78, Avg NDCG: 0.3864, Avg KL Div: 143.0552\n",
      "Epoch: 79, Avg NDCG: 0.3887, Avg KL Div: 141.0215\n",
      "Epoch: 80, Avg NDCG: 0.3900, Avg KL Div: 141.7886\n",
      "Epoch: 81, Avg NDCG: 0.3859, Avg KL Div: 141.7503\n",
      "Epoch: 82, Avg NDCG: 0.3879, Avg KL Div: 141.1329\n",
      "Epoch: 83, Avg NDCG: 0.3906, Avg KL Div: 140.6674\n",
      "Epoch: 84, Avg NDCG: 0.3855, Avg KL Div: 140.8384\n",
      "Epoch: 85, Avg NDCG: 0.3857, Avg KL Div: 140.7727\n",
      "Epoch: 86, Avg NDCG: 0.3889, Avg KL Div: 141.0863\n",
      "Epoch: 87, Avg NDCG: 0.3870, Avg KL Div: 141.3427\n",
      "Epoch: 88, Avg NDCG: 0.3853, Avg KL Div: 139.5887\n",
      "Epoch: 89, Avg NDCG: 0.3854, Avg KL Div: 140.1153\n",
      "Epoch: 90, Avg NDCG: 0.3872, Avg KL Div: 140.2171\n",
      "Epoch: 91, Avg NDCG: 0.3867, Avg KL Div: 139.5632\n",
      "Epoch: 92, Avg NDCG: 0.3857, Avg KL Div: 140.0945\n",
      "Epoch: 93, Avg NDCG: 0.3870, Avg KL Div: 139.4275\n",
      "Epoch: 94, Avg NDCG: 0.3879, Avg KL Div: 139.2724\n",
      "Epoch: 95, Avg NDCG: 0.3863, Avg KL Div: 138.4639\n",
      "Epoch: 96, Avg NDCG: 0.3873, Avg KL Div: 137.6144\n",
      "Epoch: 97, Avg NDCG: 0.3884, Avg KL Div: 138.4547\n",
      "Epoch: 98, Avg NDCG: 0.3876, Avg KL Div: 137.6648\n",
      "Epoch: 99, Avg NDCG: 0.3864, Avg KL Div: 138.3278\n",
      "Epoch: 100, Avg NDCG: 0.3867, Avg KL Div: 137.2147\n",
      "Epoch: 101, Avg NDCG: 0.3905, Avg KL Div: 137.4643\n",
      "Epoch: 102, Avg NDCG: 0.3864, Avg KL Div: 137.1652\n",
      "Epoch: 103, Avg NDCG: 0.3857, Avg KL Div: 137.9677\n",
      "Epoch: 104, Avg NDCG: 0.3880, Avg KL Div: 137.3916\n",
      "Epoch: 105, Avg NDCG: 0.3877, Avg KL Div: 136.8237\n",
      "Epoch: 106, Avg NDCG: 0.3872, Avg KL Div: 137.1659\n",
      "Epoch: 107, Avg NDCG: 0.3875, Avg KL Div: 135.9936\n",
      "Epoch: 108, Avg NDCG: 0.3863, Avg KL Div: 137.2986\n",
      "Epoch: 109, Avg NDCG: 0.3885, Avg KL Div: 136.8641\n",
      "Epoch: 110, Avg NDCG: 0.3857, Avg KL Div: 136.7830\n",
      "Epoch: 111, Avg NDCG: 0.3887, Avg KL Div: 136.3947\n",
      "Epoch: 112, Avg NDCG: 0.3859, Avg KL Div: 135.7840\n",
      "Epoch: 113, Avg NDCG: 0.3875, Avg KL Div: 135.5454\n",
      "Epoch: 114, Avg NDCG: 0.3894, Avg KL Div: 135.8804\n",
      "Epoch: 115, Avg NDCG: 0.3872, Avg KL Div: 136.3060\n",
      "Epoch: 116, Avg NDCG: 0.3857, Avg KL Div: 135.1939\n",
      "Epoch: 117, Avg NDCG: 0.3859, Avg KL Div: 136.5764\n",
      "Epoch: 118, Avg NDCG: 0.3846, Avg KL Div: 135.5810\n",
      "Epoch: 119, Avg NDCG: 0.3842, Avg KL Div: 135.5970\n",
      "Epoch: 120, Avg NDCG: 0.3846, Avg KL Div: 135.3253\n",
      "Epoch: 121, Avg NDCG: 0.3850, Avg KL Div: 134.8290\n",
      "Epoch: 122, Avg NDCG: 0.3853, Avg KL Div: 134.2673\n",
      "Epoch: 123, Avg NDCG: 0.3882, Avg KL Div: 134.6639\n",
      "Epoch: 124, Avg NDCG: 0.3850, Avg KL Div: 133.9894\n",
      "Epoch: 125, Avg NDCG: 0.3842, Avg KL Div: 133.9281\n",
      "Epoch: 126, Avg NDCG: 0.3828, Avg KL Div: 134.6729\n",
      "Epoch: 127, Avg NDCG: 0.3845, Avg KL Div: 132.8915\n",
      "Epoch: 128, Avg NDCG: 0.3831, Avg KL Div: 134.1614\n",
      "Epoch: 129, Avg NDCG: 0.3846, Avg KL Div: 134.0667\n",
      "Epoch: 130, Avg NDCG: 0.3846, Avg KL Div: 133.0531\n",
      "Epoch: 131, Avg NDCG: 0.3825, Avg KL Div: 133.3324\n",
      "Epoch: 132, Avg NDCG: 0.3865, Avg KL Div: 133.4159\n",
      "Epoch: 133, Avg NDCG: 0.3853, Avg KL Div: 133.6885\n",
      "Epoch: 134, Avg NDCG: 0.3840, Avg KL Div: 132.2500\n",
      "Epoch: 135, Avg NDCG: 0.3845, Avg KL Div: 132.7147\n",
      "Epoch: 136, Avg NDCG: 0.3856, Avg KL Div: 132.0793\n",
      "Epoch: 137, Avg NDCG: 0.3863, Avg KL Div: 133.0587\n",
      "Epoch: 138, Avg NDCG: 0.3858, Avg KL Div: 132.6479\n",
      "Epoch: 139, Avg NDCG: 0.3834, Avg KL Div: 132.3824\n",
      "Epoch: 140, Avg NDCG: 0.3860, Avg KL Div: 131.7858\n",
      "Epoch: 141, Avg NDCG: 0.3812, Avg KL Div: 132.4708\n",
      "Epoch: 142, Avg NDCG: 0.3825, Avg KL Div: 132.7128\n",
      "Epoch: 143, Avg NDCG: 0.3832, Avg KL Div: 131.9365\n",
      "Epoch: 144, Avg NDCG: 0.3837, Avg KL Div: 131.7953\n",
      "Epoch: 145, Avg NDCG: 0.3855, Avg KL Div: 131.7365\n",
      "Epoch: 146, Avg NDCG: 0.3807, Avg KL Div: 131.6862\n",
      "Epoch: 147, Avg NDCG: 0.3840, Avg KL Div: 132.0197\n",
      "Epoch: 148, Avg NDCG: 0.3840, Avg KL Div: 131.1782\n",
      "Epoch: 149, Avg NDCG: 0.3818, Avg KL Div: 130.5461\n",
      "Epoch: 150, Avg NDCG: 0.3826, Avg KL Div: 130.3928\n",
      "Epoch: 151, Avg NDCG: 0.3817, Avg KL Div: 131.4348\n",
      "Epoch: 152, Avg NDCG: 0.3845, Avg KL Div: 130.8685\n",
      "Epoch: 153, Avg NDCG: 0.3820, Avg KL Div: 130.5371\n",
      "Epoch: 154, Avg NDCG: 0.3821, Avg KL Div: 129.9427\n",
      "Epoch: 155, Avg NDCG: 0.3817, Avg KL Div: 130.5902\n",
      "Epoch: 156, Avg NDCG: 0.3799, Avg KL Div: 129.8634\n",
      "Epoch: 157, Avg NDCG: 0.3824, Avg KL Div: 130.0476\n",
      "Epoch: 158, Avg NDCG: 0.3790, Avg KL Div: 129.5868\n",
      "Epoch: 159, Avg NDCG: 0.3800, Avg KL Div: 129.8305\n",
      "Epoch: 160, Avg NDCG: 0.3818, Avg KL Div: 130.0877\n",
      "Epoch: 161, Avg NDCG: 0.3808, Avg KL Div: 129.7009\n",
      "Epoch: 162, Avg NDCG: 0.3795, Avg KL Div: 129.1157\n",
      "Epoch: 163, Avg NDCG: 0.3823, Avg KL Div: 129.2366\n",
      "Epoch: 164, Avg NDCG: 0.3813, Avg KL Div: 128.8205\n",
      "Epoch: 165, Avg NDCG: 0.3821, Avg KL Div: 129.7175\n",
      "Epoch: 166, Avg NDCG: 0.3804, Avg KL Div: 129.5527\n",
      "Epoch: 167, Avg NDCG: 0.3819, Avg KL Div: 128.8311\n",
      "Epoch: 168, Avg NDCG: 0.3835, Avg KL Div: 128.5722\n",
      "Epoch: 169, Avg NDCG: 0.3790, Avg KL Div: 128.8785\n",
      "Epoch: 170, Avg NDCG: 0.3801, Avg KL Div: 128.6061\n",
      "Epoch: 171, Avg NDCG: 0.3779, Avg KL Div: 127.6498\n",
      "Epoch: 172, Avg NDCG: 0.3804, Avg KL Div: 127.8850\n",
      "Epoch: 173, Avg NDCG: 0.3782, Avg KL Div: 128.0717\n",
      "Epoch: 174, Avg NDCG: 0.3779, Avg KL Div: 126.7502\n",
      "Epoch: 175, Avg NDCG: 0.3818, Avg KL Div: 126.6810\n",
      "Epoch: 176, Avg NDCG: 0.3769, Avg KL Div: 127.1268\n",
      "Epoch: 177, Avg NDCG: 0.3759, Avg KL Div: 127.7541\n",
      "Epoch: 178, Avg NDCG: 0.3775, Avg KL Div: 127.6585\n",
      "Epoch: 179, Avg NDCG: 0.3796, Avg KL Div: 127.2819\n",
      "Epoch: 180, Avg NDCG: 0.3763, Avg KL Div: 127.4103\n",
      "Epoch: 181, Avg NDCG: 0.3772, Avg KL Div: 127.6472\n",
      "Epoch: 182, Avg NDCG: 0.3807, Avg KL Div: 126.3962\n",
      "Epoch: 183, Avg NDCG: 0.3819, Avg KL Div: 127.0410\n",
      "Epoch: 184, Avg NDCG: 0.3800, Avg KL Div: 126.4153\n",
      "Epoch: 185, Avg NDCG: 0.3815, Avg KL Div: 126.9871\n",
      "Epoch: 186, Avg NDCG: 0.3816, Avg KL Div: 125.9596\n",
      "Epoch: 187, Avg NDCG: 0.3785, Avg KL Div: 125.9744\n",
      "Epoch: 188, Avg NDCG: 0.3769, Avg KL Div: 125.7230\n",
      "Epoch: 189, Avg NDCG: 0.3806, Avg KL Div: 125.6443\n",
      "Epoch: 190, Avg NDCG: 0.3785, Avg KL Div: 125.8537\n",
      "Epoch: 191, Avg NDCG: 0.3819, Avg KL Div: 125.0220\n",
      "Epoch: 192, Avg NDCG: 0.3819, Avg KL Div: 125.3778\n",
      "Epoch: 193, Avg NDCG: 0.3794, Avg KL Div: 125.2048\n",
      "Epoch: 194, Avg NDCG: 0.3795, Avg KL Div: 125.4189\n",
      "Epoch: 195, Avg NDCG: 0.3797, Avg KL Div: 125.6669\n",
      "Epoch: 196, Avg NDCG: 0.3800, Avg KL Div: 124.5825\n",
      "Epoch: 197, Avg NDCG: 0.3802, Avg KL Div: 125.2444\n",
      "Epoch: 198, Avg NDCG: 0.3808, Avg KL Div: 124.4577\n",
      "Epoch: 199, Avg NDCG: 0.3816, Avg KL Div: 125.2166\n"
     ]
    }
   ],
   "source": [
    "ndcgs_vad = []\n",
    "kl_scores = []  # List to store KL divergence scores for each epoch\n",
    "\n",
    "with tf.Session() as sess:\n",
    "\n",
    "    init = tf.global_variables_initializer()\n",
    "    sess.run(init)\n",
    "\n",
    "    best_ndcg = -np.inf\n",
    "\n",
    "    update_count = 0.0\n",
    "    \n",
    "    for epoch in range(n_epochs):\n",
    "        np.random.shuffle(idxlist)\n",
    "        total_kl_score_epoch = 0  # Total KL score for the epoch\n",
    "\n",
    "        # Train for one epoch\n",
    "        for bnum, st_idx in enumerate(range(0, N, batch_size)):\n",
    "            end_idx = min(st_idx + batch_size, N)\n",
    "            X = train_data[idxlist[st_idx:end_idx]]\n",
    "            \n",
    "            if sparse.isspmatrix(X):\n",
    "                X = X.toarray()\n",
    "            X = X.astype('float32')           \n",
    "            \n",
    "            if total_anneal_steps > 0:\n",
    "                anneal = min(anneal_cap, 1. * update_count / total_anneal_steps)\n",
    "            else:\n",
    "                anneal = anneal_cap\n",
    "            \n",
    "            feed_dict = {vae.input_ph: X, \n",
    "                         vae.keep_prob_ph: 0.5, \n",
    "                         vae.anneal_ph: anneal,\n",
    "                         vae.is_training_ph: 1}\n",
    "            \n",
    "            _, kl_score = sess.run([train_op_var, vae.kl_divergence], feed_dict=feed_dict)  # Retrieve KL score\n",
    "            total_kl_score_epoch += kl_score  # Accumulate KL score\n",
    "\n",
    "            if bnum % 100 == 0:\n",
    "                summary_train = sess.run(merged_var, feed_dict=feed_dict)\n",
    "                summary_writer.add_summary(summary_train, global_step=epoch * batches_per_epoch + bnum)\n",
    "            \n",
    "            update_count += 1\n",
    "\n",
    "        avg_kl_score_epoch = total_kl_score_epoch / batches_per_epoch  # Average KL score for the epoch\n",
    "        kl_scores.append(avg_kl_score_epoch)  # Store the average KL score for the epoch\n",
    "\n",
    "        # Compute validation NDCG\n",
    "        ndcg_dist = []\n",
    "        for bnum, st_idx in enumerate(range(0, N_vad, batch_size_vad)):\n",
    "            end_idx = min(st_idx + batch_size_vad, N_vad)\n",
    "            X = vad_data_tr[idxlist_vad[st_idx:end_idx]]\n",
    "\n",
    "            if sparse.isspmatrix(X):\n",
    "                X = X.toarray()\n",
    "            X = X.astype('float32')\n",
    "\n",
    "            pred_val = sess.run(logits_var, feed_dict={vae.input_ph: X})\n",
    "            # Exclude examples from training and validation (if any)\n",
    "            pred_val[X.nonzero()] = -np.inf\n",
    "            ndcg_dist.append(NDCG_binary_at_k_batch(pred_val, vad_data_te[idxlist_vad[st_idx:end_idx]]))\n",
    "        \n",
    "        ndcg_dist = np.concatenate(ndcg_dist)\n",
    "        ndcg_ = ndcg_dist.mean()\n",
    "        ndcgs_vad.append(ndcg_)\n",
    "        merged_valid_val = sess.run(merged_valid, feed_dict={ndcg_var: ndcg_, ndcg_dist_var: ndcg_dist})\n",
    "        summary_writer.add_summary(merged_valid_val, epoch)\n",
    "\n",
    "        # Update the best model (if necessary)\n",
    "        if ndcg_ > best_ndcg:\n",
    "            saver.save(sess, '{}/model'.format(chkpt_dir))\n",
    "            best_ndcg = ndcg_\n",
    "\n",
    "        print(\"Epoch: {}, Avg NDCG: {:.4f}, Avg KL Div: {:.4f}\".format(epoch, ndcg_, avg_kl_score_epoch))\n"
   ]
  },
  {
   "cell_type": "code",
   "execution_count": 50,
   "id": "06048193",
   "metadata": {},
   "outputs": [],
   "source": [
    "ndcgs_vad = []\n",
    "\n",
    "with tf.Session() as sess:\n",
    "\n",
    "    init = tf.global_variables_initializer()\n",
    "    sess.run(init)\n",
    "\n",
    "    best_ndcg = -np.inf\n",
    "\n",
    "    update_count = 0.0\n",
    "    \n",
    "    for epoch in range(n_epochs):\n",
    "        np.random.shuffle(idxlist)\n",
    "        # train for one epoch\n",
    "        for bnum, st_idx in enumerate(range(0, N, batch_size)):\n",
    "            end_idx = min(st_idx + batch_size, N)\n",
    "            X = train_data[idxlist[st_idx:end_idx]]\n",
    "            \n",
    "            if sparse.isspmatrix(X):\n",
    "                X = X.toarray()\n",
    "            X = X.astype('float32')           \n",
    "            \n",
    "            if total_anneal_steps > 0:\n",
    "                anneal = min(anneal_cap, 1. * update_count / total_anneal_steps)\n",
    "            else:\n",
    "                anneal = anneal_cap\n",
    "            \n",
    "            feed_dict = {vae.input_ph: X, \n",
    "                         vae.keep_prob_ph: 0.5, \n",
    "                         vae.anneal_ph: anneal,\n",
    "                         vae.is_training_ph: 1}        \n",
    "            sess.run(train_op_var, feed_dict=feed_dict)\n",
    "\n",
    "            if bnum % 100 == 0:\n",
    "                summary_train = sess.run(merged_var, feed_dict=feed_dict)\n",
    "                summary_writer.add_summary(summary_train, \n",
    "                                           global_step=epoch * batches_per_epoch + bnum) \n",
    "            \n",
    "            update_count += 1\n",
    "        \n",
    "        # compute validation NDCG\n",
    "        ndcg_dist = []\n",
    "        for bnum, st_idx in enumerate(range(0, N_vad, batch_size_vad)):\n",
    "            end_idx = min(st_idx + batch_size_vad, N_vad)\n",
    "            X = vad_data_tr[idxlist_vad[st_idx:end_idx]]\n",
    "\n",
    "            if sparse.isspmatrix(X):\n",
    "                X = X.toarray()\n",
    "            X = X.astype('float32')\n",
    "        \n",
    "            pred_val = sess.run(logits_var, feed_dict={vae.input_ph: X} )\n",
    "            # exclude examples from training and validation (if any)\n",
    "            pred_val[X.nonzero()] = -np.inf\n",
    "            ndcg_dist.append(NDCG_binary_at_k_batch(pred_val, vad_data_te[idxlist_vad[st_idx:end_idx]]))\n",
    "        \n",
    "        ndcg_dist = np.concatenate(ndcg_dist)\n",
    "        ndcg_ = ndcg_dist.mean()\n",
    "        ndcgs_vad.append(ndcg_)\n",
    "        merged_valid_val = sess.run(merged_valid, feed_dict={ndcg_var: ndcg_, ndcg_dist_var: ndcg_dist})\n",
    "        summary_writer.add_summary(merged_valid_val, epoch)\n",
    "\n",
    "        # update the best model (if necessary)\n",
    "        if ndcg_ > best_ndcg:\n",
    "            saver.save(sess, '{}/model'.format(chkpt_dir))\n",
    "            best_ndcg = ndcg_"
   ]
  },
  {
   "cell_type": "code",
   "execution_count": 51,
   "id": "cb015a11",
   "metadata": {},
   "outputs": [
    {
     "data": {
      "image/png": "[encoded data removed]",
      "text/plain": [
       "<Figure size 1200x300 with 1 Axes>"
      ]
     },
     "metadata": {},
     "output_type": "display_data"
    }
   ],
   "source": [
    "plt.figure(figsize=(12, 3))\n",
    "plt.plot(ndcgs_vad)\n",
    "plt.ylabel(\"Validation NDCG@100\")\n",
    "plt.xlabel(\"Epochs\")\n",
    "pass"
   ]
  },
  {
   "cell_type": "code",
   "execution_count": 52,
   "id": "b0c9ce90",
   "metadata": {},
   "outputs": [],
   "source": [
    "test_data_tr, test_data_te = load_tr_te_data(\n",
    "    os.path.join(pro_dir, 'test_tr.csv'),\n",
    "    os.path.join(pro_dir, 'test_te.csv'))"
   ]
  },
  {
   "cell_type": "code",
   "execution_count": 53,
   "id": "01207a82",
   "metadata": {},
   "outputs": [],
   "source": [
    "N_test = test_data_tr.shape[0]\n",
    "idxlist_test = list(range(N_test))\n",
    "\n",
    "batch_size_test = 30"
   ]
  },
  {
   "cell_type": "code",
   "execution_count": 54,
   "id": "bba57eec",
   "metadata": {},
   "outputs": [
    {
     "name": "stdout",
     "output_type": "stream",
     "text": [
      "INFO:tensorflow:Scale of 0 disables regularizer.\n"
     ]
    }
   ],
   "source": [
    "tf.reset_default_graph()\n",
    "vae = MultiVAE(p_dims, lam=0.0)\n",
    "saver, logits_var, _, _, _ = vae.build_graph()"
   ]
  },
  {
   "cell_type": "code",
   "execution_count": 55,
   "id": "03a4d147",
   "metadata": {},
   "outputs": [
    {
     "name": "stdout",
     "output_type": "stream",
     "text": [
      "chkpt directory: ml-1m/volmount/chkpt/ml-20m/VAE_anneal200.0K_cap2.0E-01/I-200-70-200-I\n"
     ]
    }
   ],
   "source": [
    "chkpt_dir = 'ml-1m/volmount/chkpt/ml-20m/VAE_anneal{}K_cap{:1.1E}/{}'.format(\n",
    "    total_anneal_steps/1000, anneal_cap, arch_str)\n",
    "print(\"chkpt directory: %s\" % chkpt_dir)"
   ]
  },
  {
   "cell_type": "code",
   "execution_count": 56,
   "id": "f52710de",
   "metadata": {},
   "outputs": [
    {
     "name": "stdout",
     "output_type": "stream",
     "text": [
      "WARNING:tensorflow:From /home/vkattera/py-env/lib/python3.7/site-packages/tensorflow/python/training/saver.py:1266: checkpoint_exists (from tensorflow.python.training.checkpoint_management) is deprecated and will be removed in a future version.\n",
      "Instructions for updating:\n",
      "Use standard file APIs to check for files with this prefix.\n",
      "INFO:tensorflow:Restoring parameters from ml-1m/volmount/chkpt/ml-20m/VAE_anneal200.0K_cap2.0E-01/I-200-70-200-I/model\n",
      "Average Normalized KL Divergence in Test: 0.9017\n"
     ]
    },
    {
     "name": "stderr",
     "output_type": "stream",
     "text": [
      "/home/vkattera/py-env/lib/python3.7/site-packages/ipykernel_launcher.py:21: RuntimeWarning: invalid value encountered in true_divide\n",
      "/home/vkattera/py-env/lib/python3.7/site-packages/ipykernel_launcher.py:11: RuntimeWarning: invalid value encountered in true_divide\n",
      "  # This is added back by InteractiveShellApp.init_path()\n"
     ]
    }
   ],
   "source": [
    "all_genres = set(genre for genres_list in item_to_genre.values() for genre in genres_list)\n",
    "genre_distribution_recommendations = {genre: 0 for genre in all_genres}\n",
    "genre_distribution_original = {genre: 0 for genre in all_genres}\n",
    "\n",
    "user_recommendations = {}\n",
    "n100_list, r20_list, r50_list = [], [], []\n",
    "top_k = 10 \n",
    "kl_scores_test = []\n",
    "with tf.Session() as sess:\n",
    "    saver.restore(sess, '{}/model'.format(chkpt_dir))\n",
    "\n",
    "    for bnum, st_idx in enumerate(range(0, N_test, batch_size_test)):\n",
    "        end_idx = min(st_idx + batch_size_test, N_test)\n",
    "        X = test_data_tr[idxlist_test[st_idx:end_idx]]\n",
    "\n",
    "        if sparse.isspmatrix(X):\n",
    "            X = X.toarray()\n",
    "        X = X.astype('float32')\n",
    "\n",
    "        output = sess.run([logits_var, vae.kl_divergence], feed_dict={vae.input_ph: X})\n",
    "        pred_val = output[0]\n",
    "        kl_score = output[1]\n",
    "        pred_val[X.nonzero()] = -np.inf\n",
    "\n",
    "        for i, pred in enumerate(pred_val):\n",
    "            top_k_items = np.argsort(pred)[-top_k:][::-1]  # Getting indexes of top-k items\n",
    "            user_idx = idxlist_test[st_idx + i]  # Getting user index or id\n",
    "            user_recommendations[user_idx] = top_k_items.tolist()  # Saving recommendations\n",
    "\n",
    "            for movie_id in top_k_items:\n",
    "                for genre in item_to_genre.get(movie_id, []):\n",
    "                    genre_distribution_recommendations[genre] += 1\n",
    "\n",
    "        true_prefs = test_data_te[idxlist_test[st_idx:end_idx]].nonzero()[1]\n",
    "        for movie_id in true_prefs:\n",
    "            for genre in item_to_genre.get(movie_id, []):\n",
    "                genre_distribution_original[genre] += 1\n",
    "        n100_list.append(NDCG_binary_at_k_batch(pred_val, test_data_te[idxlist_test[st_idx:end_idx]], k=100))\n",
    "        r20_list.append(Recall_at_k_batch(pred_val, test_data_te[idxlist_test[st_idx:end_idx]], k=20))\n",
    "        r50_list.append(Recall_at_k_batch(pred_val, test_data_te[idxlist_test[st_idx:end_idx]], k=50))\n",
    "        kl_scores_test.append(kl_score)\n",
    "\n",
    "n100_list = np.concatenate(n100_list)\n",
    "r20_list = np.concatenate(r20_list)\n",
    "r50_list = np.concatenate(r50_list)\n",
    "# avg_kl_score_test = np.mean(kl_scores_test)\n",
    "# print(\"Average KL Divergence in Test: {:.4f}\".format(avg_kl_score_test))\n",
    "\n",
    "\n",
    "# Normalizing the KL scores\n",
    "max_kl_score = max(kl_scores_test)\n",
    "kl_scores_normalized = [kl / max_kl_score for kl in kl_scores_test]\n",
    "avg_kl_score_normalized = np.mean(kl_scores_normalized)\n",
    "\n",
    "print(\"Average Normalized KL Divergence in Test: {:.4f}\".format(avg_kl_score_normalized))\n"
   ]
  },
  {
   "cell_type": "code",
   "execution_count": 57,
   "id": "2c2a56b3",
   "metadata": {},
   "outputs": [],
   "source": [
    "# Function to replace 0 and NaN values\n",
    "def replace_values(arr):\n",
    "    arr[arr == 0] = 1e-6  # Replace 0 with 1e-6\n",
    "    arr[np.isnan(arr)] = 1e-6  # Replace NaN with 1e-6\n",
    "\n",
    "replace_values(n100_list)\n",
    "replace_values(r20_list)\n",
    "replace_values(r50_list)"
   ]
  },
  {
   "cell_type": "code",
   "execution_count": 58,
   "id": "56209ad8",
   "metadata": {},
   "outputs": [
    {
     "data": {
      "image/png": "[encoded data removed]",
      "text/plain": [
       "<Figure size 1500x800 with 1 Axes>"
      ]
     },
     "metadata": {},
     "output_type": "display_data"
    }
   ],
   "source": [
    "import matplotlib.pyplot as plt\n",
    "\n",
    "genres = list(all_genres)\n",
    "\n",
    "recommendation_counts = [genre_distribution_recommendations[genre] for genre in genres]\n",
    "original_counts = [genre_distribution_original[genre] for genre in genres]\n",
    "\n",
    "bar_width = 0.35\n",
    "\n",
    "r1 = np.arange(len(recommendation_counts))\n",
    "r2 = [x + bar_width for x in r1]\n",
    "\n",
    "plt.figure(figsize=(15, 8))  # You can adjust the size of the figure here\n",
    "plt.bar(r1, recommendation_counts, color='blue', width=bar_width, edgecolor='grey', label='Recommendations')\n",
    "plt.bar(r2, original_counts, color='red', width=bar_width, edgecolor='grey', label='Original History')\n",
    "\n",
    "plt.xlabel('Genre', fontweight='bold')\n",
    "plt.xticks([r + bar_width for r in range(len(recommendation_counts))], genres, rotation=90)\n",
    "plt.ylabel('Counts', fontweight='bold')\n",
    "plt.title('Genre Distribution: Recommendations vs Original History')\n",
    "\n",
    "plt.legend()\n",
    "plt.tight_layout()\n",
    "plt.show()\n"
   ]
  },
  {
   "cell_type": "code",
   "execution_count": 59,
   "id": "e95a7a9c",
   "metadata": {},
   "outputs": [
    {
     "name": "stdout",
     "output_type": "stream",
     "text": [
      "Test NDCG@100=0.39298 (0.00646)\n",
      "Test Recall@20=0.32646 (0.00840)\n",
      "Test Recall@50=0.45656 (0.00886)\n"
     ]
    }
   ],
   "source": [
    "print(\"Test NDCG@100=%.5f (%.5f)\" % (np.mean(n100_list), np.std(n100_list) / np.sqrt(len(n100_list))))\n",
    "print(\"Test Recall@20=%.5f (%.5f)\" % (np.mean(r20_list), np.std(r20_list) / np.sqrt(len(r20_list))))\n",
    "print(\"Test Recall@50=%.5f (%.5f)\" % (np.mean(r50_list), np.std(r50_list) / np.sqrt(len(r50_list))))"
   ]
  },
  {
   "cell_type": "code",
   "execution_count": 60,
   "id": "6fe2ee54",
   "metadata": {},
   "outputs": [],
   "source": [
    "p_dims = [200, n_items]"
   ]
  },
  {
   "cell_type": "code",
   "execution_count": 61,
   "id": "6baf231b",
   "metadata": {},
   "outputs": [],
   "source": [
    "tf.reset_default_graph()\n",
    "dae = MultiDAE(p_dims, lam=0.01 / batch_size, random_seed=98765)\n",
    "\n",
    "saver, logits_var, loss_var, train_op_var, merged_var = dae.build_graph()\n",
    "\n",
    "ndcg_var = tf.Variable(0.0)\n",
    "ndcg_dist_var = tf.placeholder(dtype=tf.float64, shape=None)\n",
    "ndcg_summary = tf.summary.scalar('ndcg_at_k_validation', ndcg_var)\n",
    "ndcg_dist_summary = tf.summary.histogram('ndcg_at_k_hist_validation', ndcg_dist_var)\n",
    "merged_valid = tf.summary.merge([ndcg_summary, ndcg_dist_summary])"
   ]
  },
  {
   "cell_type": "code",
   "execution_count": 62,
   "id": "b2af10e9",
   "metadata": {},
   "outputs": [],
   "source": [
    "arch_str = \"I-%s-I\" % ('-'.join([str(d) for d in dae.dims[1:-1]]))"
   ]
  },
  {
   "cell_type": "code",
   "execution_count": 63,
   "id": "7cc7cb0c",
   "metadata": {},
   "outputs": [
    {
     "name": "stdout",
     "output_type": "stream",
     "text": [
      "log directory: ml-1m/volmount/log/ml-20m/DAE/I-200-I\n"
     ]
    }
   ],
   "source": [
    "log_dir = 'ml-1m/volmount/log/ml-20m/DAE/{}'.format(arch_str)\n",
    "\n",
    "if os.path.exists(log_dir):\n",
    "    shutil.rmtree(log_dir)\n",
    "\n",
    "print(\"log directory: %s\" % log_dir)\n",
    "summary_writer = tf.summary.FileWriter(log_dir, graph=tf.get_default_graph())"
   ]
  },
  {
   "cell_type": "code",
   "execution_count": 64,
   "id": "f5f0e91b",
   "metadata": {},
   "outputs": [
    {
     "name": "stdout",
     "output_type": "stream",
     "text": [
      "chkpt directory: ml-1m/volmount/chkpt/ml-20m/DAE/I-200-I\n"
     ]
    }
   ],
   "source": [
    "chkpt_dir = 'ml-1m/volmount/chkpt/ml-20m/DAE/{}'.format(arch_str)\n",
    "\n",
    "if not os.path.isdir(chkpt_dir):\n",
    "    os.makedirs(chkpt_dir) \n",
    "    \n",
    "print(\"chkpt directory: %s\" % chkpt_dir)"
   ]
  },
  {
   "cell_type": "code",
   "execution_count": 65,
   "id": "c84ab0d6",
   "metadata": {},
   "outputs": [],
   "source": [
    "n_epochs = 200"
   ]
  },
  {
   "cell_type": "code",
   "execution_count": 66,
   "id": "61225b0c",
   "metadata": {},
   "outputs": [],
   "source": [
    "ndcgs_vad = []\n",
    "\n",
    "with tf.Session() as sess:\n",
    "\n",
    "    init = tf.global_variables_initializer()\n",
    "    sess.run(init)\n",
    "\n",
    "    best_ndcg = -np.inf\n",
    "    \n",
    "    for epoch in range(n_epochs):\n",
    "        np.random.shuffle(idxlist)\n",
    "        # train for one epoch\n",
    "        for bnum, st_idx in enumerate(range(0, N, batch_size)):\n",
    "            end_idx = min(st_idx + batch_size, N)\n",
    "            X = train_data[idxlist[st_idx:end_idx]]\n",
    "            \n",
    "            if sparse.isspmatrix(X):\n",
    "                X = X.toarray()\n",
    "            X = X.astype('float32')           \n",
    "            \n",
    "            feed_dict = {dae.input_ph: X, \n",
    "                         dae.keep_prob_ph: 0.5}        \n",
    "            sess.run(train_op_var, feed_dict=feed_dict)\n",
    "\n",
    "            if bnum % 100 == 0:\n",
    "                summary_train = sess.run(merged_var, feed_dict=feed_dict)\n",
    "                summary_writer.add_summary(summary_train, global_step=epoch * batches_per_epoch + bnum) \n",
    "                    \n",
    "        # compute validation NDCG\n",
    "        ndcg_dist = []\n",
    "        for bnum, st_idx in enumerate(range(0, N_vad, batch_size_vad)):\n",
    "            end_idx = min(st_idx + batch_size_vad, N_vad)\n",
    "            X = vad_data_tr[idxlist_vad[st_idx:end_idx]]\n",
    "\n",
    "            if sparse.isspmatrix(X):\n",
    "                X = X.toarray()\n",
    "            X = X.astype('float32')\n",
    "        \n",
    "            pred_val = sess.run(logits_var, feed_dict={dae.input_ph: X} )\n",
    "            # exclude examples from training and validation (if any)\n",
    "            pred_val[X.nonzero()] = -np.inf\n",
    "            ndcg_dist.append(NDCG_binary_at_k_batch(pred_val, vad_data_te[idxlist_vad[st_idx:end_idx]]))\n",
    "        \n",
    "        ndcg_dist = np.concatenate(ndcg_dist)\n",
    "        ndcg_ = ndcg_dist.mean()\n",
    "        ndcgs_vad.append(ndcg_)\n",
    "        merged_valid_val = sess.run(merged_valid, feed_dict={ndcg_var: ndcg_, ndcg_dist_var: ndcg_dist})\n",
    "        summary_writer.add_summary(merged_valid_val, epoch)\n",
    "\n",
    "        # update the best model (if necessary)\n",
    "        if ndcg_ > best_ndcg:\n",
    "            saver.save(sess, '{}/model'.format(chkpt_dir))\n",
    "            best_ndcg = ndcg_"
   ]
  },
  {
   "cell_type": "code",
   "execution_count": 67,
   "id": "a1c10364",
   "metadata": {},
   "outputs": [
    {
     "data": {
      "image/png": "[encoded data removed]",
      "text/plain": [
       "<Figure size 1200x300 with 1 Axes>"
      ]
     },
     "metadata": {},
     "output_type": "display_data"
    }
   ],
   "source": [
    "plt.figure(figsize=(12, 3))\n",
    "plt.plot(ndcgs_vad)\n",
    "plt.ylabel(\"Validation NDCG@100\")\n",
    "plt.xlabel(\"Epochs\")\n",
    "pass"
   ]
  },
  {
   "cell_type": "code",
   "execution_count": 68,
   "id": "a5cd9745",
   "metadata": {},
   "outputs": [],
   "source": [
    "tf.reset_default_graph()\n",
    "dae = MultiDAE(p_dims, lam=0.01 / batch_size)\n",
    "saver, logits_var, _, _, _ = dae.build_graph()   "
   ]
  },
  {
   "cell_type": "code",
   "execution_count": 69,
   "id": "d2ef706a",
   "metadata": {},
   "outputs": [
    {
     "name": "stdout",
     "output_type": "stream",
     "text": [
      "chkpt directory: ml-1m/volmount/chkpt/ml-20m/DAE/I-200-I\n"
     ]
    }
   ],
   "source": [
    "chkpt_dir = 'ml-1m/volmount/chkpt/ml-20m/DAE/{}'.format(arch_str)\n",
    "print(\"chkpt directory: %s\" % chkpt_dir)"
   ]
  },
  {
   "cell_type": "code",
   "execution_count": 70,
   "id": "3bd732bb",
   "metadata": {},
   "outputs": [
    {
     "name": "stdout",
     "output_type": "stream",
     "text": [
      "INFO:tensorflow:Restoring parameters from ml-1m/volmount/chkpt/ml-20m/DAE/I-200-I/model\n"
     ]
    },
    {
     "name": "stderr",
     "output_type": "stream",
     "text": [
      "/home/vkattera/py-env/lib/python3.7/site-packages/ipykernel_launcher.py:21: RuntimeWarning: invalid value encountered in true_divide\n",
      "/home/vkattera/py-env/lib/python3.7/site-packages/ipykernel_launcher.py:11: RuntimeWarning: invalid value encountered in true_divide\n",
      "  # This is added back by InteractiveShellApp.init_path()\n"
     ]
    }
   ],
   "source": [
    "n100_list, r20_list, r50_list = [], [], []\n",
    "\n",
    "with tf.Session() as sess:    \n",
    "    saver.restore(sess, '{}/model'.format(chkpt_dir))\n",
    "    \n",
    "    for bnum, st_idx in enumerate(range(0, N_test, batch_size_test)):\n",
    "        end_idx = min(st_idx + batch_size_test, N_test)\n",
    "        X = test_data_tr[idxlist_test[st_idx:end_idx]]\n",
    "\n",
    "        if sparse.isspmatrix(X):\n",
    "            X = X.toarray()\n",
    "        X = X.astype('float32')\n",
    "\n",
    "        pred_val = sess.run(logits_var, feed_dict={dae.input_ph: X})\n",
    "        pred_val[X.nonzero()] = -np.inf\n",
    "        n100_list.append(NDCG_binary_at_k_batch(pred_val, test_data_te[idxlist_test[st_idx:end_idx]], k=100))\n",
    "        r20_list.append(Recall_at_k_batch(pred_val, test_data_te[idxlist_test[st_idx:end_idx]], k=20))\n",
    "        r50_list.append(Recall_at_k_batch(pred_val, test_data_te[idxlist_test[st_idx:end_idx]], k=50))\n",
    "\n",
    "n100_list = np.concatenate(n100_list)\n",
    "r20_list = np.concatenate(r20_list)\n",
    "r50_list = np.concatenate(r50_list)"
   ]
  },
  {
   "cell_type": "code",
   "execution_count": 71,
   "id": "347e012a",
   "metadata": {},
   "outputs": [],
   "source": [
    "replace_values(n100_list)\n",
    "replace_values(r20_list)\n",
    "replace_values(r50_list)"
   ]
  },
  {
   "cell_type": "code",
   "execution_count": 72,
   "id": "dcfd109f",
   "metadata": {},
   "outputs": [
    {
     "name": "stdout",
     "output_type": "stream",
     "text": [
      "Test NDCG@100=0.41956 (0.00708)\n",
      "Test Recall@20=0.35432 (0.00853)\n",
      "Test Recall@50=0.47462 (0.00846)\n"
     ]
    }
   ],
   "source": [
    "print(\"Test NDCG@100=%.5f (%.5f)\" % (np.mean(n100_list), np.std(n100_list) / np.sqrt(len(n100_list))))\n",
    "print(\"Test Recall@20=%.5f (%.5f)\" % (np.mean(r20_list), np.std(r20_list) / np.sqrt(len(r20_list))))\n",
    "print(\"Test Recall@50=%.5f (%.5f)\" % (np.mean(r50_list), np.std(r50_list) / np.sqrt(len(r50_list))))"
   ]
  },
  {
   "cell_type": "code",
   "execution_count": null,
   "id": "23ca4adc",
   "metadata": {},
   "outputs": [],
   "source": [
    "\n"
   ]
  },
  {
   "cell_type": "code",
   "execution_count": null,
   "id": "e09f4ab2",
   "metadata": {},
   "outputs": [],
   "source": []
  }
 ],
 "metadata": {
  "kernelspec": {
   "display_name": "py-env",
   "language": "python",
   "name": "py-env"
  },
  "language_info": {
   "codemirror_mode": {
    "name": "ipython",
    "version": 3
   },
   "file_extension": ".py",
   "mimetype": "text/x-python",
   "name": "python",
   "nbconvert_exporter": "python",
   "pygments_lexer": "ipython3",
   "version": "3.7.4"
  }
 },
 "nbformat": 4,
 "nbformat_minor": 5
}
